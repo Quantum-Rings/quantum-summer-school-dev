{
 "cells": [
  {
   "cell_type": "markdown",
   "id": "a90b4b55-bc01-4b4c-86c6-30e37b17a25d",
   "metadata": {},
   "source": [
    "<div style=\"background-color:rgba(78, 188, 130, 0.05); text-align:center; vertical-align: middle; padding:20px 0;border:3px; border-style:solid; padding: 0.5em; border-color: rgba(78, 188, 130, 1.0); color: #000000;\">\n",
    "\n",
    "<img src=\"figs/qr_logo.png\" width=\"700\"/>\n",
    "\n",
    "<h1><strong>Quantum Summer School</strong></h1>\n",
    "\n",
    "<h2><strong>Episode 12</strong></h2>\n",
    "\n",
    "<h3><strong>Variational Algorithms I: QAOA</strong></h3>\n",
    "\n",
    "</div>"
   ]
  },
  {
   "cell_type": "markdown",
   "id": "023814de-3fe1-4e89-bc1c-99055b841cfe",
   "metadata": {},
   "source": [
    "*In this session, we will learn about the quantum approximate optimization algorithm!*"
   ]
  },
  {
   "cell_type": "markdown",
   "id": "fdf8ec55-255b-4f08-a21a-bd24c6843a99",
   "metadata": {
    "jp-MarkdownHeadingCollapsed": true
   },
   "source": [
    "<div style=\"background-color:rgba(255, 248, 240, 1.0); text-align:left; vertical-align: middle; padding:20px 0;border:3px; border-style:solid; padding: 0.5em; border-color: rgba(255, 142, 0, 1.0); color: #000000;\">\n",
    "\n",
    "## Objectives\n",
    "1. Understand the concept behind QAOA\n",
    "2. Apply QAOA to the max-cut problem\n",
    "3. Apply QAOA to the minimum vertex cover problem\n",
    "\n",
    "<div/>"
   ]
  },
  {
   "cell_type": "markdown",
   "id": "50834801-223c-4bb4-9eef-169d4236b93b",
   "metadata": {},
   "source": [
    "## Setup & Imports"
   ]
  },
  {
   "cell_type": "code",
   "execution_count": null,
   "id": "d1602ed8-9e60-49f2-b1de-64e2cc552668",
   "metadata": {},
   "outputs": [],
   "source": [
    "from QuantumRingsLib import QuantumRingsProvider, job_monitor\n",
    "from qiskit import QuantumCircuit, QuantumRegister, ClassicalRegister, transpile\n",
    "from quantumrings.toolkit.qiskit import QrBackendV2, QrSamplerV2, QrEstimatorV1\n",
    "from qiskit.circuit.library import RXGate, RZGate\n",
    "!pip -q install qiskit-algorithms\n",
    "from qiskit_algorithms import QAOA\n",
    "from qiskit_algorithms.utils import algorithm_globals\n",
    "from qiskit_algorithms.optimizers import COBYLA\n",
    "from qiskit.quantum_info import SparsePauliOp\n",
    "from qiskit.visualization import plot_histogram\n",
    "from qiskit.primitives import Sampler\n",
    "import numpy as np\n",
    "!pip -q install networkx\n",
    "import networkx as nx\n",
    "import matplotlib.pyplot as plt\n",
    "!pip -q install scikit-optimize\n",
    "from skopt import gp_minimize\n",
    "from qiskit.circuit.library import QAOAAnsatz  # lightweight, primitives-free\n",
    "from IPython.display import clear_output\n",
    "\n",
    "\n",
    "provider  = QuantumRingsProvider(); provider.active_account()\n",
    "backend = provider.get_backend('scarlet_quantum_rings')\n",
    "tool_backend   = QrBackendV2(provider, num_qubits=4, shots=2048)\n",
    "sampler        = QrSamplerV2(backend=tool_backend)\n",
    "estimator      = QrEstimatorV1(backend=tool_backend)"
   ]
  },
  {
   "cell_type": "markdown",
   "id": "e4466ef1-3031-4ea9-aa42-48f7a0edc220",
   "metadata": {},
   "source": [
    "# Helper Functions"
   ]
  },
  {
   "cell_type": "markdown",
   "id": "5bd9b9ec-8ee3-4ded-86d7-664228ee940b",
   "metadata": {},
   "source": [
    "jobCallback: dummy callback for Quantum Rings estimator"
   ]
  },
  {
   "cell_type": "code",
   "execution_count": null,
   "id": "fad138ea-dc92-4fae-91ca-e169c5b97336",
   "metadata": {},
   "outputs": [],
   "source": [
    "def jobCallback(job_id, state, job):\n",
    "    pass"
   ]
  },
  {
   "cell_type": "markdown",
   "id": "dc2c1800-40e4-42c7-81cd-b85421c86d2f",
   "metadata": {},
   "source": [
    "pauli_string: returns a string of paulis with the given paulis at the given indices (ex: nodes=[2,3], paulis=['Z','X'] will return 'IIZXI')"
   ]
  },
  {
   "cell_type": "code",
   "execution_count": null,
   "id": "8a16de8d-1251-456e-88fa-965f169db28e",
   "metadata": {},
   "outputs": [],
   "source": [
    "def pauli_string(num_nodes, nodes, paulis):\n",
    "\n",
    "    if isinstance(nodes, int):\n",
    "        nodes = [nodes]\n",
    "        \n",
    "    string = ''\n",
    "    pauli_dict = dict(zip(nodes, paulis))\n",
    "\n",
    "    for i in range(num_nodes):\n",
    "        string += pauli_dict.get(i, 'I')\n",
    "\n",
    "    return string"
   ]
  },
  {
   "cell_type": "markdown",
   "id": "dcc5c03c-6489-4770-90fd-6e191a7a92ec",
   "metadata": {},
   "source": [
    "get_graph: returns a graph given a set of edges, with the option to draw the graph"
   ]
  },
  {
   "cell_type": "code",
   "execution_count": null,
   "id": "9d128157-7e27-40e7-83f6-cf777ec0db18",
   "metadata": {},
   "outputs": [],
   "source": [
    "def get_graph(edges, draw=True):\n",
    "\n",
    "    graph = nx.Graph(edges)\n",
    "    positions = nx.spring_layout(graph, seed=1)\n",
    "\n",
    "    if draw:\n",
    "        nx.draw(graph, with_labels=True, pos=positions)\n",
    "        plt.show()\n",
    "\n",
    "    return graph"
   ]
  },
  {
   "cell_type": "markdown",
   "id": "7b4aecec-5b87-4247-8cb2-003a51660dff",
   "metadata": {},
   "source": [
    "plot_cuts: Plots the cut edges on a graph given its partition"
   ]
  },
  {
   "cell_type": "code",
   "execution_count": null,
   "id": "2318c4d8-7896-407f-90af-e96185b7c2e9",
   "metadata": {},
   "outputs": [],
   "source": [
    "def plot_cuts(graph, partition):\n",
    "    \n",
    "    colors = [\"tab:red\" if i in partition[0] else \"tab:blue\" for i in graph.nodes]\n",
    "    \n",
    "    edge_colors = []\n",
    "    for i,j in graph.edges:\n",
    "        if i in partition[0] and j in partition[1]:\n",
    "            edge_colors.append('tab:green')\n",
    "        elif i in partition[1] and j in partition[0]:\n",
    "            edge_colors.append('tab:green')\n",
    "        else:\n",
    "            edge_colors.append('tab:grey')\n",
    "        \n",
    "    pos = nx.spring_layout(graph, seed=1)\n",
    "    default_axes = plt.axes(frameon=True)\n",
    "    nx.draw(graph, node_color=colors, edge_color=edge_colors, node_size=100, alpha=0.8, pos=pos)\n",
    "    plt.show()"
   ]
  },
  {
   "cell_type": "markdown",
   "id": "0120db7f-746a-47d3-9178-cb4b57cbd070",
   "metadata": {},
   "source": [
    "# 1. QAOA Unitaries"
   ]
  },
  {
   "cell_type": "markdown",
   "id": "0fc854db-62ea-46ba-b59f-399dac5b6e91",
   "metadata": {},
   "source": [
    "## Drawing Graphs"
   ]
  },
  {
   "cell_type": "code",
   "execution_count": null,
   "id": "0d0c4853-e95c-4781-b3e6-3adfc670e958",
   "metadata": {},
   "outputs": [],
   "source": [
    "edges = [(0, 1), (1, 2), (2, 3)]\n",
    "graph = nx.Graph(edges)\n",
    "positions = nx.spring_layout(graph, seed=1)\n",
    "\n",
    "nx.draw(graph, with_labels=True, pos=positions)\n",
    "plt.show()"
   ]
  },
  {
   "cell_type": "code",
   "execution_count": null,
   "id": "8dbc3d07-eb93-40e5-9ab0-e84d70307e44",
   "metadata": {},
   "outputs": [],
   "source": [
    "edges = [(0, 1), (1, 2), (2, 3)]\n",
    "graph = get_graph(edges)"
   ]
  },
  {
   "cell_type": "code",
   "execution_count": null,
   "id": "dcbfb921-603c-433e-8974-d49ee0e54f1d",
   "metadata": {},
   "outputs": [],
   "source": [
    "print('Vertices:', graph.nodes)\n",
    "print('Edges:', graph.edges)"
   ]
  },
  {
   "cell_type": "markdown",
   "id": "01c9ae4c-07b9-4920-89ba-73f0fd62d579",
   "metadata": {},
   "source": [
    "# Cost and Mixer Unitaries"
   ]
  },
  {
   "cell_type": "markdown",
   "id": "e0d10f47-758a-495a-9cae-0ab6ca27ff26",
   "metadata": {},
   "source": [
    "<div style=\"background-color:rgba(255, 245, 253, 1.0); text-align:left; vertical-align: middle; padding:20px 0;border:3px; border-style:solid; padding: 0.5em; border-color: rgba(255, 142, 235, 1.0); color: #000000;\">\n",
    "\n",
    "An example cost Hamiltonian for our 1D chain of length $N$ is:\n",
    "\n",
    "$$ H = \\sum_{i=1}^{N-1} \\sigma^z_i \\sigma^z_{i+1} $$\n",
    "\n",
    "Let's think about what this cost function represents. Recall that:\n",
    "\n",
    "$$ z = 1 - 2x $$\n",
    "\n",
    "So when $x=0$, $z=1$, and when $x=1$, $z=-1$. Let's define that 0 means we are not selecting that vertex and 1 means we are selecting that vertex. For example $|1011\\rangle$ would mean we have selected vertices 0, 2, and 3, but not 1.\n",
    "\n",
    "Consider one term in our Hamiltonian: $\\sigma^z_i \\sigma^z_{i+1}$. Note that all the basis states (such as $|1011\\rangle$) are eigenstates of H. There are four possibilities:\n",
    "\n",
    "| Qubit $i$ state     | Qubit $i+1$ state     | Energy ($\\langle H \\rangle$)    |\n",
    "|--------------|--------------|--------------|\n",
    "| 0 | 0 | 1 |\n",
    "| 0 | 1 | -1 |\n",
    "| 1 | 0 | -1 |\n",
    "| 1 | 1 | 1 |\n",
    "\n",
    "We can see that when the two qubits are in the same state, the energy is 1, and when the two qubits are in different states, the energy is -1. This cost Hamiltonian penalizes when the qubits are in the same state, since being in different states is more energetically favorable. In other words, this cost Hamiltonian's ground state will have the most instances where only one vertex is selected in a neighboring pair.\n",
    "\n",
    "How do we implement our unitary: $U_C(\\gamma) = e^{-i \\gamma H}$? Since all the terms in $H$ commute with each other, we can further break this down as: $U_C(\\gamma) = \\prod_{i=1}^{N-1} e^{-i \\gamma \\sigma^z_i \\sigma^z_{i+1}}$. This is simply a product of controlled z-rotations of angle $2\\gamma$.\n",
    "\n",
    "**Challenge:** Can you convince yourself that $e^{-i \\gamma \\sigma^z_i \\sigma^z_{i+1}} = CR_z(2\\gamma)$ controlled on one qubit, targeting the other (order doesn't matter)?\n",
    "\n",
    "<div/>"
   ]
  },
  {
   "cell_type": "code",
   "execution_count": null,
   "id": "e364e21e-f8df-4af0-bd60-cc24a49e57bb",
   "metadata": {},
   "outputs": [],
   "source": [
    "# Define the cost operator U(gamma)\n",
    "def U_cost(graph, gamma):\n",
    "    \n",
    "    num_nodes = len(graph.nodes)\n",
    "    qc = QuantumCircuit(num_nodes)\n",
    "    \n",
    "    for i, j in graph.edges:\n",
    "        ##\n",
    "        ##\n",
    "        ##\n",
    "\n",
    "    return qc"
   ]
  },
  {
   "cell_type": "code",
   "execution_count": null,
   "id": "966da6a1-a70b-4373-b9f7-ee9ea6dacf14",
   "metadata": {},
   "outputs": [],
   "source": [
    "qc = U_cost(graph, ##)\n",
    "qc.draw()"
   ]
  },
  {
   "cell_type": "markdown",
   "id": "cd957c9a-ed62-4d62-88fc-849038148bf7",
   "metadata": {},
   "source": [
    "The mixer operator needs to be orthogonal to the cost operator, so that the phase changes from the cost operator \"turn into\" probabilities of measuring 0 vs. 1. We use the following Hamiltonian:\n",
    "\n",
    "$$ H = \\sum_{i=1}^{N-1} \\sigma^x_i $$\n",
    "\n",
    "which corresponds to:\n",
    "\n",
    "$$ U_B(\\beta) = \\prod_{i=1}^{N-1} e^{-i \\gamma \\sigma^x_i}$$"
   ]
  },
  {
   "cell_type": "code",
   "execution_count": null,
   "id": "7d60e69a-63d3-4bac-bc72-985636572215",
   "metadata": {},
   "outputs": [],
   "source": [
    "# Define the mixer operator U(beta)\n",
    "def U_mix(graph, beta):\n",
    "    num_nodes = len(graph.nodes)\n",
    "    qc = QuantumCircuit(num_nodes)\n",
    "    for i in range(num_nodes): \n",
    "        ##\n",
    "    return qc"
   ]
  },
  {
   "cell_type": "code",
   "execution_count": null,
   "id": "4270b4d2-02c8-450d-976d-da4af70476a6",
   "metadata": {},
   "outputs": [],
   "source": [
    "qc = U_mix(graph, ##)\n",
    "qc.draw()"
   ]
  },
  {
   "cell_type": "markdown",
   "id": "842140e5-f213-4e01-a9a8-04c8d324c737",
   "metadata": {},
   "source": [
    "# 2. Max-Cut Problem"
   ]
  },
  {
   "cell_type": "markdown",
   "id": "e97d006b-106b-48f2-99d0-cb15b39a0ffb",
   "metadata": {},
   "source": [
    "<div style=\"background-color:rgba(243, 248, 255, 1.0); text-align:left; vertical-align: middle; padding:20px 0;border:3px; border-style:solid; padding: 0.5em; border-color: rgba(101, 174, 247, 1.0); color: #000000;\">\n",
    "\n",
    "The Max-Cut Problem is as follows. Suppose you have a connected graph. You want to partition the graph into two sets, i.e. selecting some subset of the vertices and not selecting the rest. You cut the edges between any two neighbors which are in different sets. What is the partition which yields the maximum number of cut edges?\n",
    "\n",
    "</div>"
   ]
  },
  {
   "cell_type": "markdown",
   "id": "adeee785-feb8-4f28-8745-ca18bafe1d03",
   "metadata": {},
   "source": [
    "## Example 1"
   ]
  },
  {
   "cell_type": "code",
   "execution_count": null,
   "id": "40b3fe85-060c-4eec-9cca-24529cd1f0fe",
   "metadata": {},
   "outputs": [],
   "source": [
    "edges = [(0, 1), (0, 2), (0, 4), (1, 2), (2, 3), (3, 4)]\n",
    "graph = get_graph(edges)"
   ]
  },
  {
   "cell_type": "code",
   "execution_count": null,
   "id": "19f60cb5-4855-4436-bdf8-388c17a07115",
   "metadata": {},
   "outputs": [],
   "source": [
    "maxcut, partition = nx.approximation.one_exchange(graph, seed=1)\n",
    "print(\"Best cut size:\", maxcut)\n",
    "print(\"Partition:\", partition)\n",
    "plot_cuts(graph, partition)"
   ]
  },
  {
   "cell_type": "markdown",
   "id": "1360c82d-de23-4007-890b-ed966b14017b",
   "metadata": {},
   "source": [
    "## Example 2"
   ]
  },
  {
   "cell_type": "code",
   "execution_count": null,
   "id": "a72d01fc-1c4d-414f-b942-bcc7c2969296",
   "metadata": {},
   "outputs": [],
   "source": [
    "edges = [(0, 1), (0, 2), (0, 3), (0, 4), (0, 5)]\n",
    "graph = get_graph(edges)"
   ]
  },
  {
   "cell_type": "code",
   "execution_count": null,
   "id": "5567711b-67f5-474b-9e80-d2e6e889b426",
   "metadata": {},
   "outputs": [],
   "source": [
    "maxcut, partition = nx.approximation.one_exchange(graph, seed=1)\n",
    "print(\"Best cut size:\", maxcut)\n",
    "print(\"Partition:\", partition)\n",
    "plot_cuts(graph, partition)"
   ]
  },
  {
   "cell_type": "markdown",
   "id": "fdcbdcf7-a6f6-42bc-9083-40476e197eab",
   "metadata": {},
   "source": [
    "## Example 3"
   ]
  },
  {
   "cell_type": "code",
   "execution_count": null,
   "id": "370f9d19-1bc5-4ec8-a8ae-9ffda5627f83",
   "metadata": {},
   "outputs": [],
   "source": [
    "edges = [\n",
    "    (0, 2), (0, 3), (0, 4),  (0, 9),\n",
    "    (1, 2),  (1, 5), (1, 6), (1, 8), (1, 9),\n",
    "    (2, 3),  (2, 9),\n",
    "    (3, 5), (3, 6), (3, 7),\n",
    "    (4, 7),\n",
    "    (5, 6),\n",
    "    (6, 7), (6, 9),\n",
    "    (7, 8), (7, 9),\n",
    "    (8, 9)\n",
    "]\n",
    "graph = get_graph(edges)"
   ]
  },
  {
   "cell_type": "code",
   "execution_count": null,
   "id": "dd46a803-689e-491b-ac3e-a3a923940bb3",
   "metadata": {},
   "outputs": [],
   "source": [
    "maxcut, partition = nx.approximation.one_exchange(graph, seed=1)\n",
    "print(\"Best cut size:\", maxcut)\n",
    "print(\"Partition:\", partition)\n",
    "plot_cuts(graph, partition)"
   ]
  },
  {
   "cell_type": "markdown",
   "id": "b5e7534d-462e-4c64-83ad-80dce90ffb53",
   "metadata": {},
   "source": [
    "## QAOA Algorithm"
   ]
  },
  {
   "cell_type": "markdown",
   "id": "cf1cd6c9-2221-416d-aaae-a7fc74d1c5f6",
   "metadata": {},
   "source": [
    "What is the max cut partition for the following graph? What do we hope to get as a result of our QAOA algorithm?"
   ]
  },
  {
   "cell_type": "code",
   "execution_count": null,
   "id": "29ca4b44-08fe-436a-ad08-ef60d4e38c69",
   "metadata": {},
   "outputs": [],
   "source": [
    "edges = [(0, 1), (1, 2), (2, 3), (3, 0)]\n",
    "graph = get_graph(edges)"
   ]
  },
  {
   "cell_type": "markdown",
   "id": "7c08e417-ffe3-4385-b6d4-b5ed6210ca85",
   "metadata": {},
   "source": [
    "We first need to define our cost Hamiltonian. We want to penalize two neighboring vertices for being in the same set. We saw a Hamiltonian like this earlier in the notebook! If $E(G)$ is the set of edges in our graph, then our cost Hamiltonian should be:\n",
    "\n",
    "$$ H = \\sum_{\\langle i,j \\rangle\\in E(G)} \\sigma^z_i \\sigma^z_{j} $$\n",
    "\n",
    "So our unitary is:\n",
    "\n",
    "$$U_C(\\gamma) = \\prod_{\\langle i,j \\rangle\\in E(G)} e^{-i \\gamma \\sigma^z_i \\sigma^z_{j}} = \\prod_{\\langle i,j \\rangle\\in E(G)} CR_{z,\\langle i,j \\rangle}(2\\gamma)$$"
   ]
  },
  {
   "cell_type": "code",
   "execution_count": null,
   "id": "1eba7f37-487d-4862-9f8f-7382db0dac17",
   "metadata": {},
   "outputs": [],
   "source": [
    "# Define the operator U_C(gamma)\n",
    "def U_cost(graph, gamma):\n",
    "    num_nodes = len(graph.nodes)\n",
    "    qc = QuantumCircuit(num_nodes)\n",
    "    \n",
    "    for i, j in graph.edges:\n",
    "        qc.cx(i, j)\n",
    "        qc.rz(2 * gamma, j)\n",
    "        qc.cx(i, j)\n",
    "\n",
    "    return qc"
   ]
  },
  {
   "cell_type": "markdown",
   "id": "4dc65615-5057-4e7b-882a-fd6a673d8e76",
   "metadata": {},
   "source": [
    "Define a function for computing the energy for a given bitstring. This way we can compute an approximation for the expectation value of $H$."
   ]
  },
  {
   "cell_type": "code",
   "execution_count": null,
   "id": "1753d52f-91f0-4ad0-836e-b24395374b9e",
   "metadata": {},
   "outputs": [],
   "source": [
    "def bitstring_to_energy(bitstring, graph):\n",
    "    total = 0\n",
    "\n",
    "    for i,j in graph.edges:\n",
    "        if bitstring[i] != bitstring[j]:\n",
    "            ##\n",
    "        else:\n",
    "            ##\n",
    "\n",
    "    return total"
   ]
  },
  {
   "cell_type": "markdown",
   "id": "0df4635b-b183-4faf-8d4f-ebe981357de7",
   "metadata": {},
   "source": [
    "Define the QAOA circuit."
   ]
  },
  {
   "cell_type": "code",
   "execution_count": null,
   "id": "2892e74e-5646-4245-8a4c-a47d088353bc",
   "metadata": {},
   "outputs": [],
   "source": [
    "# QAOA circuit simulation\n",
    "def QAOA_state(graph, gammas, betas, shots=1000, get_expectation_value=True, draw_circuit=False):\n",
    "    \n",
    "    num_nodes = len(graph.nodes)\n",
    "    qr = QuantumRegister(num_nodes)\n",
    "    cr = ClassicalRegister(num_nodes)\n",
    "    qc = QuantumCircuit(qr, cr)\n",
    "\n",
    "    # create equal superposition state\n",
    "\n",
    "    # apply layers\n",
    "    for i in range(len(gammas)):\n",
    "        ##\n",
    "        ##\n",
    "\n",
    "    qc.measure(qr, cr)\n",
    "\n",
    "    if draw_circuit:\n",
    "        display(qc.draw())\n",
    "\n",
    "    job = tool_backend.run(qc, shots=shots)\n",
    "    job.wait_for_final_state(0, 5, jobCallback)\n",
    "    counts = job.result().get_counts()\n",
    "\n",
    "    if get_expectation_value:\n",
    "        total = 0\n",
    "        for bitstring, count in counts.items():\n",
    "            bitstring = bitstring[::-1]  # reverse due to qiskit ordering\n",
    "            total += bitstring_to_energy(bitstring, graph) * count\n",
    "        return total / shots\n",
    "    else:\n",
    "        return counts"
   ]
  },
  {
   "cell_type": "code",
   "execution_count": null,
   "id": "f2af55ad-f41d-446d-9ec8-0519da2c05cb",
   "metadata": {},
   "outputs": [],
   "source": [
    "gammas = [np.pi/6]\n",
    "betas = [np.pi/4]\n",
    "counts = QAOA_state(graph, gammas, betas, shots=1000, get_expectation_value=False, draw_circuit=True)\n",
    "plot_histogram(counts, bar_labels=True, title='QAOA Output Bitstrings')"
   ]
  },
  {
   "cell_type": "markdown",
   "id": "93828541-e7e0-4dec-9e49-20a53c6487ce",
   "metadata": {},
   "source": [
    "## Optimizing $\\vec{\\gamma}$ and $\\vec{\\beta}$"
   ]
  },
  {
   "cell_type": "code",
   "execution_count": null,
   "id": "203e39c8-169d-4f21-95bb-7549e72bc5a9",
   "metadata": {},
   "outputs": [],
   "source": [
    "# Cost function to minimize\n",
    "def cost_function(x):\n",
    "    \n",
    "    gammas = x[:len(x)//2]\n",
    "    betas = x[len(x)//2:]\n",
    "    expectation_value = QAOA_state(graph, gammas, betas)\n",
    "\n",
    "    return expectation_value"
   ]
  },
  {
   "cell_type": "code",
   "execution_count": null,
   "id": "8ce36b25-f917-45d9-a735-05ab8b15e7ae",
   "metadata": {},
   "outputs": [],
   "source": [
    "# Optimization\n",
    "p = 1  # QAOA depth\n",
    "theta0 = np.random.uniform(0, np.pi, 2 * p)\n",
    "optimizer = COBYLA(maxiter=200)\n",
    "res = optimizer.minimize(fun=cost_function, x0=theta0)\n",
    "\n",
    "# Show optimization result\n",
    "print(\"Best QAOA ⟨H⟩ =\", round(res.fun, 4))\n",
    "print(\"Optimal angles =\", np.rad2deg(res.x))\n",
    "\n",
    "# Extract angles and get final counts\n",
    "gammas = res.x[:p]\n",
    "betas = res.x[p:]\n",
    "counts = QAOA_state(graph, gammas, betas, get_expectation_value=False)\n",
    "\n",
    "# Plot histogram\n",
    "plot_histogram(counts, bar_labels=True, title='QAOA Output Bitstrings')"
   ]
  },
  {
   "cell_type": "code",
   "execution_count": null,
   "id": "bc73972f-cb45-4767-a35b-08f0929f3ca2",
   "metadata": {},
   "outputs": [],
   "source": [
    "# Optimization\n",
    "p = 2  # QAOA depth\n",
    "theta0 = np.random.uniform(0, np.pi, 2 * p)\n",
    "optimizer = COBYLA(maxiter=200)\n",
    "res = optimizer.minimize(fun=cost_function, x0=theta0)\n",
    "\n",
    "# Show optimization result\n",
    "print(\"Best QAOA ⟨H⟩ =\", round(res.fun, 4))\n",
    "print(\"Optimal angles =\", np.rad2deg(res.x))\n",
    "\n",
    "# Extract angles and get final counts\n",
    "gammas = res.x[:p]\n",
    "betas = res.x[p:]\n",
    "counts = QAOA_state(graph, gammas, betas, get_expectation_value=False)\n",
    "\n",
    "# Plot histogram\n",
    "plot_histogram(counts, bar_labels=True, title='QAOA Output Bitstrings')"
   ]
  },
  {
   "cell_type": "code",
   "execution_count": null,
   "id": "90902a71-704a-4500-9a8f-7af3c946e736",
   "metadata": {},
   "outputs": [],
   "source": [
    "# Optimization\n",
    "p = 3  # QAOA depth\n",
    "theta0 = np.random.uniform(0, np.pi, 2 * p)\n",
    "optimizer = COBYLA(maxiter=200)\n",
    "res = optimizer.minimize(fun=cost_function, x0=theta0)\n",
    "\n",
    "# Show optimization result\n",
    "print(\"Best QAOA ⟨H⟩ =\", round(res.fun, 4))\n",
    "print(\"Optimal angles =\", np.rad2deg(res.x))\n",
    "\n",
    "# Extract angles and get final counts\n",
    "gammas = res.x[:p]\n",
    "betas = res.x[p:]\n",
    "counts = QAOA_state(graph, gammas, betas, get_expectation_value=False)\n",
    "\n",
    "# Plot histogram\n",
    "plot_histogram(counts, bar_labels=True, title='QAOA Output Bitstrings')"
   ]
  },
  {
   "cell_type": "markdown",
   "id": "670cf210-4d9c-4e0e-9527-3a31f55c40fc",
   "metadata": {},
   "source": [
    "<div style=\"background-color:rgba(252, 245, 255, 1.0); text-align:left; vertical-align: middle; padding:20px 0;border:3px; border-style:solid; padding: 0.5em; border-color: rgba(190, 111, 227, 1.0); color: #000000;\">\n",
    "\n",
    "### Challenge Problem: \n",
    "\n",
    "**A)** Try this out for other/larger graphs!\n",
    "\n",
    "**B)** Can you think of any real-world applications for finding the maximum-cut of a graph?\n",
    "\n",
    "<div/>"
   ]
  },
  {
   "cell_type": "markdown",
   "id": "3f80f9cc-0c2d-4aea-86fb-67e205c1a856",
   "metadata": {},
   "source": [
    "# 3. Minimum Vertex Cover"
   ]
  },
  {
   "cell_type": "markdown",
   "id": "27090208-a17c-4f6e-9d61-857d396e99e6",
   "metadata": {},
   "source": [
    "<div style=\"background-color:rgba(247, 255, 245, 1.0); text-align:left; vertical-align: middle; padding:20px 0;border:3px; border-style:solid; padding: 0.5em; border-color: rgba(0, 153, 51, 1.0); color: #000000;\">\n",
    "\n",
    "The goal of minimum vertex cover is to cover the entire graph with the least number of selected vertices. What do we mean by cover? For each vertex we select, we can remove the edges connected to it. We are done when all edges are gone.\n",
    "\n",
    "What should our cost Hamiltonian be? We want to penalize selecting vertices which share an edge, since we want the number of selected vertices to be minimal. If $x_i$ is the selection state of vertex i and $\\langle i,j \\rangle \\in E(G)$, consider the term $(1-x_i)(1-x_j)$. If $x_i=x_j=0$, we get $1$. If $x_i=x_j=1$, we get $0$. If $x_i\\neq x_j$, we get $0$. This makes sense. If neither is selected, that's bad because we missed an edge! But we need to add a term $x_i$ for each vertex to penalize selecting more vertices. This leads us to:\n",
    "\n",
    "$$ H = P \\sum_{\\langle i,j \\rangle \\in E(G)} (1-x_i)(1-x_j) + \\sum_{i \\in V(G)} x_i $$\n",
    "\n",
    "where $V(G)$ in the vertices of our graph and $P$ is the strength of penalty. Converting to Pauli-Zs, we get:\n",
    "\n",
    "\\begin{align}\n",
    "H &= P \\sum_{\\langle i,j \\rangle \\in E(G)} \\frac{1+\\sigma^z_i}{2}\\frac{1+\\sigma^z_j}{2} + \\sum_{i \\in V(G)} \\frac{1-\\sigma^z_i}{2} \\\\\n",
    "&= P \\sum_{\\langle i,j \\rangle \\in E(G)} \\frac{1+\\sigma^z_i+\\sigma^z_j+\\sigma^z_i\\sigma^z_j}{4} + \\sum_{i \\in V(G)} \\frac{1-\\sigma^z_i}{2} \\\\\n",
    "\\end{align}\n",
    "\n",
    "Dropping all constant shifts in energy and multiplying by 2, which do not change the distribution of energy eigenvalues/states, we get:\n",
    "\n",
    "\\begin{align}\n",
    "H &= \\frac{P}{2} \\sum_{\\langle i,j \\rangle \\in E(G)} \\sigma^z_i+\\sigma^z_j+\\sigma^z_i\\sigma^z_j - \\sum_{i \\in V(G)} \\sigma^z_i \\\\\n",
    "\\end{align}\n",
    "\n",
    "We can choose $P = 3/2$, which makes it a bit more energetically favorable to remove an edge than have one less vertex, to get:\n",
    "\\begin{align}\n",
    "H &= \\frac{3}{4} \\sum_{\\langle i,j \\rangle \\in E(G)} \\sigma^z_i+\\sigma^z_j+\\sigma^z_i\\sigma^z_j - \\sum_{i \\in V(G)} \\sigma^z_i \\\\\n",
    "\\end{align}\n",
    "\n",
    "</div>"
   ]
  },
  {
   "cell_type": "markdown",
   "id": "b869aa2d-9f99-4f14-aa59-fa250a123bd6",
   "metadata": {},
   "source": [
    "First let's pick a graph."
   ]
  },
  {
   "cell_type": "code",
   "execution_count": null,
   "id": "91867540-477b-4747-9c67-0bdfcc2ec7f8",
   "metadata": {},
   "outputs": [],
   "source": [
    "edges = [(0, 1), (1, 2), (2, 0), (2, 3)]\n",
    "graph = get_graph(edges)"
   ]
  },
  {
   "cell_type": "markdown",
   "id": "d9efa614-f08d-4cd3-8045-af5b6511462f",
   "metadata": {},
   "source": [
    "**Question:** What are the possible minimum vertex covers?"
   ]
  },
  {
   "cell_type": "markdown",
   "id": "e19ee3ca-52a4-412c-9d75-c170fdde5113",
   "metadata": {},
   "source": [
    "Instead of building our unitaries from scratch, let's take advantage of Qiskit and the Quantum Rings Estimator, which can compute expectation values of an operator. We just need to define our cost Hamiltonian in the right way."
   ]
  },
  {
   "cell_type": "code",
   "execution_count": null,
   "id": "b7bddc35-ebe8-43d3-8d60-6163455c75c9",
   "metadata": {},
   "outputs": [],
   "source": [
    "def H_cost(graph):\n",
    "\n",
    "    num_nodes = len(graph.nodes)\n",
    "\n",
    "    pauli_terms = []\n",
    "\n",
    "    for i in range(num_nodes):\n",
    "\n",
    "        ##\n",
    "\n",
    "    for i,j in graph.edges:\n",
    "\n",
    "        ##\n",
    "\n",
    "        ##\n",
    "\n",
    "        ##\n",
    "        \n",
    "\n",
    "    H = SparsePauliOp.from_list(pauli_terms)\n",
    "    \n",
    "    return H"
   ]
  },
  {
   "cell_type": "code",
   "execution_count": null,
   "id": "3531aa12-de4a-4fc3-9394-12e26d9e2add",
   "metadata": {},
   "outputs": [],
   "source": [
    "H_cost(graph)"
   ]
  },
  {
   "cell_type": "code",
   "execution_count": null,
   "id": "c47d596a-6d4f-4e69-b7e9-2126f78f5d85",
   "metadata": {},
   "outputs": [],
   "source": [
    "# --- 1) Build a parameterised QAOA circuit -----------------------------\n",
    "p       = 4                               # depth (=reps)\n",
    "ansatz  = QAOAAnsatz(H_cost(graph), reps=p)      # uses your SparsePauliOp cost_h\n",
    "n_theta = ansatz.num_parameters           # 2 p parameters: [β0..βp-1, γ0..γp-1]\n",
    "\n",
    "# --- 2) Energy function that calls the Quantum Rings estimator ---------\n",
    "def energy(theta_vector: np.ndarray) -> float:\n",
    "    \n",
    "    qc = ansatz.assign_parameters(theta_vector)   # substitute angles\n",
    "    \n",
    "    job = estimator.run(                          # <-- QrEstimatorV1\n",
    "        circuits       = [qc],\n",
    "        observables    = [H_cost(graph)],\n",
    "        parameter_values=[[]]                      # no free params left\n",
    "    )\n",
    "        \n",
    "    return job.result().values[0].real            # single expectation value\n",
    "\n",
    "# --- 3) Classical optimisation with the new COBYLA API ----------------\n",
    "optimizer  = COBYLA(maxiter=1000)\n",
    "theta0     = np.random.uniform(0, np.pi, n_theta)   # random start\n",
    "# theta0 = [np.pi/4]*2*p\n",
    "res        = optimizer.minimize(fun=energy, x0=theta0)\n",
    "\n",
    "print(\"Best QAOA ⟨H⟩ =\", round(res.fun, 4))\n",
    "print(\"Optimal angles =\", np.rad2deg(res.x))"
   ]
  },
  {
   "cell_type": "code",
   "execution_count": null,
   "id": "028a2515-bd69-4cb3-806f-f8d596caf848",
   "metadata": {},
   "outputs": [],
   "source": [
    "# Fetch the optimal gamma and beta values\n",
    "x = res.x\n",
    "# Execute the qaoa state with the optimal gamma and beta values\n",
    "qc = ansatz.assign_parameters(x)\n",
    "qc.measure_all()\n",
    "job = tool_backend.run(qc, shots=1000)\n",
    "job.wait_for_final_state(0, 5, jobCallback)\n",
    "counts = job.result().get_counts()\n",
    "\n",
    "plot_histogram(counts,bar_labels=True,title='QAOA Output Bitstrings')"
   ]
  },
  {
   "cell_type": "markdown",
   "id": "bcb4a61d-3a77-46d3-be80-f9158a100693",
   "metadata": {},
   "source": [
    "<div style=\"background-color:rgba(252, 245, 255, 1.0); text-align:left; vertical-align: middle; padding:20px 0;border:3px; border-style:solid; padding: 0.5em; border-color: rgba(190, 111, 227, 1.0); color: #000000;\">\n",
    "\n",
    "### Challenge Problem: \n",
    "\n",
    "**A)** Try this out for other/larger graphs!\n",
    "\n",
    "**B)** Can you think of any real-world applications for finding the minimum vertex cover?\n",
    "\n",
    "<div/>"
   ]
  }
 ],
 "metadata": {
  "kernelspec": {
   "display_name": "Python 3 QuantumRings",
   "language": "python",
   "name": "python3_quantu_8bt6c1"
  },
  "language_info": {
   "codemirror_mode": {
    "name": "ipython",
    "version": 3
   },
   "file_extension": ".py",
   "mimetype": "text/x-python",
   "name": "python",
   "nbconvert_exporter": "python",
   "pygments_lexer": "ipython3",
   "version": "3.11.9"
  }
 },
 "nbformat": 4,
 "nbformat_minor": 5
}
