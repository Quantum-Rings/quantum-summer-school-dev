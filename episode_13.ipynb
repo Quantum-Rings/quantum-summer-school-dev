{
 "cells": [
  {
   "cell_type": "markdown",
   "id": "bbca4c7a-a393-45be-bf71-8b71469a3ea3",
   "metadata": {},
   "source": [
    "<div style=\"background-color:rgba(78, 188, 130, 0.05); text-align:center; vertical-align: middle; padding:20px 0;border:3px; border-style:solid; padding: 0.5em; border-color: rgba(78, 188, 130, 1.0); color: #000000;\">\n",
    "\n",
    "<img src=\"figs/qr_logo.png\" width=\"700\"/>\n",
    "\n",
    "<h1><strong>Quantum Summer School</strong></h1>\n",
    "\n",
    "<h2><strong>Episode 13</strong></h2>\n",
    "\n",
    "<h3><strong>Quantum Error Correction</strong></h3>\n",
    "\n",
    "</div>"
   ]
  },
  {
   "cell_type": "markdown",
   "id": "2746801c-808b-45b8-bd73-a5186550c468",
   "metadata": {},
   "source": [
    "*In this session, we will learn about quantum error correction!*"
   ]
  },
  {
   "cell_type": "markdown",
   "id": "b6369889-f3b8-4bf6-9080-872071edd0fa",
   "metadata": {
    "jp-MarkdownHeadingCollapsed": true
   },
   "source": [
    "<div style=\"background-color:rgba(255, 248, 240, 1.0); text-align:left; vertical-align: middle; padding:20px 0;border:3px; border-style:solid; padding: 0.5em; border-color: rgba(255, 142, 0, 1.0); color: #000000;\">\n",
    "\n",
    "## Objectives\n",
    "1. Explore 3 qubit bit & phase flip codes\n",
    "2. Learn the Shor Code\n",
    "\n",
    "<div/>"
   ]
  },
  {
   "cell_type": "markdown",
   "id": "91e5ea99-138b-4f30-98bc-889dec97fc26",
   "metadata": {},
   "source": [
    "## Setup & Imports"
   ]
  },
  {
   "cell_type": "code",
   "execution_count": null,
   "id": "4863a8ff-f07c-4854-8463-4edd9a0687bf",
   "metadata": {},
   "outputs": [],
   "source": [
    "import QuantumRingsLib\n",
    "from QuantumRingsLib import QuantumRingsProvider\n",
    "from quantumrings.toolkit.qiskit import QrBackendV2,  QrStatevector as Statevector, QrSamplerV2\n",
    "from quantumrings.toolkit.qiskit import QrEstimatorV2 as Estimator\n",
    "from qiskit import QuantumCircuit, QuantumRegister, ClassicalRegister, AncillaRegister, transpile\n",
    "!pip -q install qiskit_aer\n",
    "from qiskit_aer import Aer\n",
    "from qiskit_aer import AerSimulator\n",
    "from qiskit.visualization import plot_histogram\n",
    "from qiskit.transpiler import generate_preset_pass_manager\n",
    "from qiskit.quantum_info import Statevector, PauliList, Pauli\n",
    "import matplotlib.pyplot as plt\n",
    "import numpy as np\n",
    "\n",
    "# Import from Qiskit Aer noise module\n",
    "from qiskit_aer.noise import (\n",
    "    NoiseModel,\n",
    "    QuantumError,\n",
    "    ReadoutError,\n",
    "    depolarizing_error,\n",
    "    pauli_error,\n",
    "    thermal_relaxation_error,\n",
    "    mixed_unitary_error,\n",
    "    coherent_unitary_error\n",
    ")\n",
    "\n",
    "provider = QuantumRingsProvider()\n",
    "backend = QrBackendV2(provider, num_qubits=10)"
   ]
  },
  {
   "cell_type": "markdown",
   "id": "99917300-b7e4-47d5-9c7f-8c2522659749",
   "metadata": {},
   "source": [
    "# Helpers"
   ]
  },
  {
   "cell_type": "markdown",
   "id": "2ddaed7d-2720-409e-9ddf-858856b3ad3d",
   "metadata": {},
   "source": [
    "Flip the i-th bit of a binary string s. Index i is 0-based. Example: flip_bit(\"001111\", 2) -> \"000111\""
   ]
  },
  {
   "cell_type": "code",
   "execution_count": null,
   "id": "71cef164-da66-40fa-9b84-4c16c6788cd1",
   "metadata": {},
   "outputs": [],
   "source": [
    "def flip_bit(s: str, i: int) -> str:\n",
    "    if not (0 <= i < len(s)):\n",
    "        raise ValueError(\"Index out of range\")\n",
    "\n",
    "    # flip the character\n",
    "    flipped = '0' if s[i] == '1' else '1'\n",
    "    return s[:i] + flipped + s[i+1:]"
   ]
  },
  {
   "cell_type": "markdown",
   "id": "2a43a57a-c24b-473a-b426-7048b232ab14",
   "metadata": {},
   "source": [
    "# 1. 3-Qubit Bit-Flip Code"
   ]
  },
  {
   "cell_type": "markdown",
   "id": "7c15ad11-4f25-43f3-b28a-e8f96e86b32c",
   "metadata": {},
   "source": [
    "<div style=\"background-color:rgba(255, 245, 253, 1.0); text-align:left; vertical-align: middle; padding:20px 0;border:3px; border-style:solid; padding: 0.5em; border-color: rgba(255, 142, 235, 1.0); color: #000000;\">\n",
    "\n",
    "One of the main challenges standing in the way of progress in quantum computing is the fact that quantum hardware is noisy! Interactions with the environment decohere our qubits, leading to bit and phase-flip errors. There are all kinds of other noise channels as well. For comparison, a classical computer has an error rate of 1 in $10^{18}$! In all your time using a regular computer or smart phone, you have never witnessed a bit flip error impacting the performance of the device. Our best quantum computers, however, have an error rate of around 1-0.1%, many orders of magnitude higher than a classical computer.\n",
    "\n",
    "Error mitigation techniques, like we saw in episode 10, can help, but they aren't enough. In order to have fault-tolerant quantum computing, we need to create logical qubits which are protected from noise. The idea is to take many physical qubits and encode the logical state into a highly entangled state across the physical qubits. Then, we will be able to detect when an error has occured and correct for it.\n",
    "\n",
    "The simplest example of a quantum error-correcting (QEC) code is the three qubit bit flip code. This code mimics a classical repetition code, where we encode the logical bit $\\overline{0}$ in many physical bits $00\\dots 0$, and the logical bit $\\overline{1}$ in many physical bits $11\\dots 1$. If one bit flips, we can easily detect that and correct for it. With n=5 physical bits, we can detect and correct up to $\\lfloor \\frac{n-1}{2} \\rfloor$ errors. Ex: if $n=5$, then we can detect/correct up to 2 errors. If there were 3 errors, for instance $00000 \\rightarrow 11100$, we would incur a logical error, because we would assume by majority that the correct logical state is $\\overline{1}$.\n",
    "\n",
    "For the three qubit bit flip code, we will be able to correct one bit-flip error. There are four steps to the protocol:\n",
    "1. **Encode the logical state onto physical qubits.** We define $|\\overline{0}\\rangle = |000\\rangle$ and $|\\overline{1}\\rangle = |111\\rangle$. If our logical state is $|\\psi \\rangle = \\alpha|\\overline{0}\\rangle + \\beta |\\overline{1}\\rangle$, then we prepare one qubit in that state and use CNOT gates to spread the state onto the other two qubits.\n",
    "2. **Apply logical operations.** Here, we can perform the desired operations on our logical state. If we want to apply an H gate to our logical state, we would apply an H gate to each of the three qubits. In this part, our qubits can also experience noise (such as bit flip errors).\n",
    "3. **Detect errors.** We use parity measurements to detect if an error has occured. We use two ancilla qubits, one to measure the parity of qubits 0 and 1 and one to measure the parity of qubits 1 and 2. Recall that a parity measurement should give us 0 if both qubits are in the same state and 1 if they are in different states. The result of our parity measurements is called the error syndrome.\n",
    "4. **Correct the state based on the error syndrome.** Each error syndrome corresponds to a distinct single qubit bit-flip error. Based on the syndrome, apply an X gate as needed to repair the state.\n",
    "\n",
    "Let's explore this repetition code together.\n",
    "\n",
    "<div/>"
   ]
  },
  {
   "cell_type": "code",
   "execution_count": null,
   "id": "e81f6fe3-bcf5-4ea9-9d9b-1ff68b7148bf",
   "metadata": {},
   "outputs": [],
   "source": [
    "qr = QuantumRegister(5, \"q\")\n",
    "cr = ClassicalRegister(5, \"c\")\n",
    "qc = QuantumCircuit(qr,cr, name='QSS13.1_bitflip')\n",
    "\n",
    "# prepare state\n",
    "#\n",
    "\n",
    "# encode\n",
    "#\n",
    "#\n",
    "\n",
    "# gates / noise\n",
    "#\n",
    "\n",
    "qc.barrier()\n",
    "\n",
    "# detect\n",
    "#\n",
    "#\n",
    "#\n",
    "#\n",
    "\n",
    "qc.barrier()\n",
    "\n",
    "# measure\n",
    "qc.measure(qr[3:],cr[3:])\n",
    "\n",
    "qc.barrier()\n",
    "\n",
    "# decode\n",
    "qc.measure(qr[0:3],cr[0:3])\n",
    "qc.draw()"
   ]
  },
  {
   "cell_type": "code",
   "execution_count": null,
   "id": "1e507c2c-1db6-4216-bd0e-9cf343d17cf1",
   "metadata": {},
   "outputs": [],
   "source": [
    "job = backend.run(qc, shots=1000)\n",
    "result = job.result()\n",
    "counts = result.get_counts()\n",
    "\n",
    "decoded_counts = {}\n",
    "for string, num_counts in counts.items():\n",
    "    syndrome = string[:2]\n",
    "    data_string = string[2:]   # the logical qubit measurement\n",
    "\n",
    "    # apply the correction rule in software\n",
    "    if syndrome == \"00\":\n",
    "        corrected = data_string\n",
    "    elif syndrome == \"10\":\n",
    "        corrected = ##\n",
    "    elif syndrome == \"11\":\n",
    "        corrected = ##\n",
    "    else:\n",
    "        corrected = ##\n",
    "\n",
    "    decoded_counts[corrected] = decoded_counts.get(corrected, 0) + num_counts\n",
    "\n",
    "plot_histogram(decoded_counts)"
   ]
  },
  {
   "cell_type": "markdown",
   "id": "24c0c260-05bf-4706-885d-f246400dcc9d",
   "metadata": {},
   "source": [
    "**Question:** We are performing a measurement in the middle of our circuit! (the parity measurements) We know that measurement collapses our qubit states. How come we are still able to preserve the logical state at the end of the circuit?"
   ]
  },
  {
   "cell_type": "markdown",
   "id": "8d475a57-0799-4b12-b78b-b4df59238676",
   "metadata": {},
   "source": [
    "## A More Compact Version"
   ]
  },
  {
   "cell_type": "markdown",
   "id": "4f93febf-93ce-47c8-94c3-925376d10fb8",
   "metadata": {},
   "source": [
    "We can condense the QEC code above by absorbing the parity measurements and correction into a pair of CNOTs and a Toffoli gate. In the end, the logical state will be stored only on qubit 0. Let's see how it works."
   ]
  },
  {
   "cell_type": "code",
   "execution_count": null,
   "id": "41bc76ca-6d42-478c-bca2-be0b927e5562",
   "metadata": {},
   "outputs": [],
   "source": [
    "qr = QuantumRegister(3, \"q\")\n",
    "cr = ClassicalRegister(1, \"c\")\n",
    "qc = QuantumCircuit(qr,cr, name='QSS13.2_compact')\n",
    "\n",
    "# prepare state\n",
    "# \n",
    "\n",
    "# encode\n",
    "qc.cx(0,1)\n",
    "qc.cx(0,2)\n",
    "\n",
    "qc.barrier()\n",
    "\n",
    "# gates / noise\n",
    "#\n",
    "\n",
    "qc.barrier()\n",
    "\n",
    "# detect/correct\n",
    "qc.cx(0,1)\n",
    "qc.cx(0,2)\n",
    "qc.ccx(1,2,0)\n",
    "\n",
    "# decode\n",
    "qc.measure(0,cr)\n",
    "qc.draw()"
   ]
  },
  {
   "cell_type": "code",
   "execution_count": null,
   "id": "a7e06da8-1130-4ecf-ba43-329052936bd1",
   "metadata": {},
   "outputs": [],
   "source": [
    "job = backend.run(qc, shots=1000)\n",
    "result = job.result()\n",
    "counts = result.get_counts()\n",
    "\n",
    "plot_histogram(counts)"
   ]
  },
  {
   "cell_type": "markdown",
   "id": "5007900f-d9af-462b-84e9-80be8f31aff2",
   "metadata": {},
   "source": [
    "<div style=\"background-color:rgba(252, 245, 255, 1.0); text-align:left; vertical-align: middle; padding:20px 0;border:3px; border-style:solid; padding: 0.5em; border-color: rgba(190, 111, 227, 1.0); color: #000000;\">\n",
    "\n",
    "### Challenge Problem: \n",
    "\n",
    "**A)** What are the weaknesses of the QEC code above? What would you want a QEC code to be able to do to be really useful?\n",
    "\n",
    "**B)** What would you change in the circuit above so that the logical state is protected against a one-qubit phase flip? \n",
    "\n",
    "*Hint: the general structure should be the same, but we want to change basis!*\n",
    "\n",
    "<div/>"
   ]
  },
  {
   "cell_type": "code",
   "execution_count": null,
   "id": "9759e85a-55c3-43d5-a9ac-17e4c3b45fc2",
   "metadata": {},
   "outputs": [],
   "source": [
    "def encode(flip_type='bit', barriers=True):\n",
    "\n",
    "    qr = QuantumRegister(3)\n",
    "    qc = QuantumCircuit(qr, name='QSS13.3_encode')\n",
    "    \n",
    "    qc.cx(0,1)\n",
    "    qc.cx(0,2)\n",
    "\n",
    "    if flip_type == 'phase':\n",
    "        qc.h(qr)\n",
    "\n",
    "    if barriers:\n",
    "        qc.barrier()\n",
    "\n",
    "    return qc\n",
    "\n",
    "def correct(flip_type='bit', barriers=True):\n",
    "\n",
    "    qr = QuantumRegister(3)\n",
    "    qc = QuantumCircuit(qr, name='QSS13.4_correct')\n",
    "\n",
    "    if barriers:\n",
    "        qc.barrier()\n",
    "\n",
    "    if flip_type == 'phase':\n",
    "        qc.h(qr)\n",
    "    \n",
    "    qc.cx(0,1)\n",
    "    qc.cx(0,2)\n",
    "\n",
    "    qc.ccx(1,2,0)\n",
    "\n",
    "    if barriers:\n",
    "        qc.barrier()\n",
    "\n",
    "    return qc"
   ]
  },
  {
   "cell_type": "markdown",
   "id": "f915523e-b243-4093-b852-8f3c61d4a27a",
   "metadata": {},
   "source": [
    "In the part where we would normally apply a logical operation, we can put Identity gates and then run the circuit using Qiskit's Aer Simulator for a noisy backend."
   ]
  },
  {
   "cell_type": "code",
   "execution_count": null,
   "id": "f9e8e3f5-ff12-4d1c-bd4f-3289eeb48151",
   "metadata": {},
   "outputs": [],
   "source": [
    "qr = QuantumRegister(3)\n",
    "cr = ClassicalRegister(1)\n",
    "qc = QuantumCircuit(qr,cr, name='QSS13.5_noisy')\n",
    "\n",
    "# prepare state\n",
    "#\n",
    "\n",
    "# encode state\n",
    "qc.compose(encode(flip_type='bit'), inplace=True)\n",
    "\n",
    "# inject noise\n",
    "qc.id(qr)\n",
    "\n",
    "# correct errors\n",
    "qc.compose(correct(flip_type='bit'), inplace=True)\n",
    "\n",
    "qc.measure(0,cr)\n",
    "\n",
    "qc.draw()"
   ]
  },
  {
   "cell_type": "markdown",
   "id": "7e6c49b9-0778-4f8d-af3a-0c6097b22347",
   "metadata": {},
   "source": [
    "## Using Qiskit Aer (for Noisy Backend)"
   ]
  },
  {
   "cell_type": "code",
   "execution_count": null,
   "id": "e7730a94-80d1-4f70-9241-43e0f240ab28",
   "metadata": {},
   "outputs": [],
   "source": [
    "p = 0.05  # probability of bit-flip\n",
    "bit_flip_error = pauli_error([('X', p), ('I', 1 - p)])\n",
    "\n",
    "noise_model = NoiseModel()\n",
    "noise_model.add_all_qubit_quantum_error(bit_flip_error, ['id'])\n",
    "\n",
    "# Create noisy simulator backend\n",
    "sim_noise = AerSimulator(noise_model=noise_model)\n",
    "     \n",
    "# Transpile circuit for noisy basis gates\n",
    "passmanager = generate_preset_pass_manager(backend=sim_noise, optimization_level=0) # make sure optimization level is 0 to preserve id gates\n",
    "qc_noisy = passmanager.run(qc)\n",
    "\n",
    "# Run and get counts\n",
    "result = sim_noise.run(qc_noisy, shots=1000).result()\n",
    "counts = result.get_counts()\n",
    "plot_histogram(counts)"
   ]
  },
  {
   "cell_type": "markdown",
   "id": "7b8ec722-1d88-45d8-9752-bb05779a2ccb",
   "metadata": {},
   "source": [
    "**Question:** How does the logical error rate compare to the physical error rate?"
   ]
  },
  {
   "cell_type": "markdown",
   "id": "26208bd2-fbad-4d6e-a191-e889e79e1abb",
   "metadata": {},
   "source": [
    "## 3-Qubit Phase-Flip Code"
   ]
  },
  {
   "cell_type": "markdown",
   "id": "ec41df77-15d1-4afb-901d-cb8decacec8e",
   "metadata": {},
   "source": [
    "We can now also play around with the phase-flip code."
   ]
  },
  {
   "cell_type": "code",
   "execution_count": null,
   "id": "04aebb58-1017-45c9-b5eb-2721add58c86",
   "metadata": {},
   "outputs": [],
   "source": [
    "qr = QuantumRegister(3)\n",
    "cr = ClassicalRegister(1)\n",
    "qc = QuantumCircuit(qr,cr)\n",
    "\n",
    "# prepare state\n",
    "#\n",
    "\n",
    "# encode state\n",
    "qc.compose(encode(flip_type='phase'), inplace=True)\n",
    "\n",
    "# inject noise\n",
    "qc.id(qr)\n",
    "\n",
    "# correct errors\n",
    "qc.compose(correct(flip_type='phase'), inplace=True)\n",
    "\n",
    "qc.measure(0,cr)\n",
    "\n",
    "qc.draw()"
   ]
  },
  {
   "cell_type": "code",
   "execution_count": null,
   "id": "c95cfdb4-17ad-4144-a50c-4dcef0bebaba",
   "metadata": {},
   "outputs": [],
   "source": [
    "p = 0.1  # probability of phase-flip\n",
    "phase_flip_error = pauli_error([('Z', p), ('I', 1 - p)])\n",
    "\n",
    "noise_model = NoiseModel()\n",
    "noise_model.add_all_qubit_quantum_error(phase_flip_error, ['id'])\n",
    "\n",
    "# Create noisy simulator backend\n",
    "sim_noise = AerSimulator(noise_model=noise_model)\n",
    "     \n",
    "# Transpile circuit for noisy basis gates\n",
    "passmanager = generate_preset_pass_manager(backend=sim_noise, optimization_level=0)\n",
    "qc_noisy = passmanager.run(qc)\n",
    "\n",
    "# Run and get counts\n",
    "result = sim_noise.run(qc_noisy, shots=1000).result()\n",
    "counts = result.get_counts()\n",
    "plot_histogram(counts)"
   ]
  },
  {
   "cell_type": "markdown",
   "id": "900ed634-3a54-4cbc-af1b-d65c246df29a",
   "metadata": {},
   "source": [
    "<div style=\"background-color:rgba(252, 245, 255, 1.0); text-align:left; vertical-align: middle; padding:20px 0;border:3px; border-style:solid; padding: 0.5em; border-color: rgba(190, 111, 227, 1.0); color: #000000;\">\n",
    "\n",
    "### Challenge Problem: \n",
    "\n",
    "**A)** Why can't we detect X errors with the phase-flip code or Z errors with the bit-flip code? Can you think of any way to combine them to get the best of both worlds?\n",
    "\n",
    "**B)** Can the bit-flip code detect Y errors? Can it correct Y errors? What about the phase-flip code?\n",
    "\n",
    "<div/>"
   ]
  },
  {
   "cell_type": "markdown",
   "id": "adf5a168-539e-4347-9a2c-91eb3fdbc825",
   "metadata": {},
   "source": [
    "# 2. The Shor Code"
   ]
  },
  {
   "cell_type": "markdown",
   "id": "c2772a35-be14-4a4d-8bdd-6eb2f30a2177",
   "metadata": {},
   "source": [
    "<div style=\"background-color:rgba(247, 255, 245, 1.0); text-align:left; vertical-align: middle; padding:20px 0;border:3px; border-style:solid; padding: 0.5em; border-color: rgba(0, 153, 51, 1.0); color: #000000;\">\n",
    "\n",
    "The Shor Code combines the bit flip and phase flip code together to be able to correct any single qubit Pauli error. By a Pauli error, we mean any error which can be expressed as a linear combination of $\\sigma_x, \\sigma_y, \\sigma_z$ and the identity.\n",
    "\n",
    "The Shor code encodes the logical states as follows:\n",
    "$$ |\\overline{0}\\rangle = \\frac{1}{2\\sqrt{2}} (|000\\rangle + |111\\rangle) \\otimes (|000\\rangle + |111\\rangle) \\otimes (|000\\rangle + |111\\rangle) $$\n",
    "$$ |\\overline{1}\\rangle = \\frac{1}{2\\sqrt{2}} (|000\\rangle - |111\\rangle) \\otimes (|000\\rangle - |111\\rangle) \\otimes (|000\\rangle - |111\\rangle) $$\n",
    "\n",
    "Practically speaking, this means that three bit flip repetition codes are sandwiched between one phase flip repetition code, using one qubit each from the bit flip repetition codes. Let's code it up together!\n",
    "\n",
    "</div>"
   ]
  },
  {
   "cell_type": "code",
   "execution_count": null,
   "id": "1956f9b7-c2ad-4071-9145-4dc0e297ac67",
   "metadata": {},
   "outputs": [],
   "source": [
    "qr = QuantumRegister(9)\n",
    "cr = ClassicalRegister(1)\n",
    "qc = QuantumCircuit(qr,cr, name='QSS13.6_shor')\n",
    "\n",
    "# prepare state\n",
    "# you can use 0,1 to probe Z errors and +,- to probe X errors\n",
    "\n",
    "# encode state - phase\n",
    "#\n",
    "\n",
    "for i in [0,3,6]:\n",
    "    # encode state - bit\n",
    "    #\n",
    "\n",
    "# inject noise\n",
    "qc.id(qr)\n",
    "\n",
    "for i in [0,3,6]:\n",
    "    # correct errors - bit\n",
    "    #\n",
    "\n",
    "# correct errors - phase\n",
    "#\n",
    "\n",
    "qc.measure(0,cr)\n",
    "\n",
    "qc.draw()"
   ]
  },
  {
   "cell_type": "code",
   "execution_count": null,
   "id": "1b87a806-96f7-4f76-ac28-931827440a62",
   "metadata": {},
   "outputs": [],
   "source": [
    "p_bit_flip = 0\n",
    "p_phase_flip = 0\n",
    "bit_flip_error = pauli_error([('X', p_bit_flip), ('I', 1 - p_bit_flip)])\n",
    "phase_flip_error = pauli_error([('Z', p_phase_flip), ('I', 1 - p_phase_flip)])\n",
    "\n",
    "noise_model = NoiseModel()\n",
    "noise_model.add_all_qubit_quantum_error(bit_flip_error, ['id'],)\n",
    "noise_model.add_all_qubit_quantum_error(phase_flip_error, ['id'], warnings=False)\n",
    "\n",
    "# Create noisy simulator backend\n",
    "sim_noise = AerSimulator(noise_model=noise_model)\n",
    "     \n",
    "# Transpile circuit for noisy basis gates\n",
    "passmanager = generate_preset_pass_manager(backend=sim_noise, optimization_level=0)\n",
    "qc_noisy = passmanager.run(qc)\n",
    "\n",
    "# Run and get counts\n",
    "result = sim_noise.run(qc_noisy, shots=1000).result()\n",
    "counts = result.get_counts()\n",
    "plot_histogram(counts)"
   ]
  },
  {
   "cell_type": "code",
   "execution_count": null,
   "id": "4dfd0a9c-67f0-47ff-8a19-81dbd0b88145",
   "metadata": {},
   "outputs": [],
   "source": [
    "def shor_code():\n",
    "    qr = QuantumRegister(9)\n",
    "    cr = ClassicalRegister(1)\n",
    "    qc = QuantumCircuit(qr,cr, name='QSS13.7_shor_noise')\n",
    "\n",
    "    # encode state - phase\n",
    "    qc.compose(encode(flip_type='phase'), qubits=[0,3,6], inplace=True)\n",
    "    \n",
    "    for i in [0,3,6]:\n",
    "        # encode state - bit\n",
    "        qc.compose(encode(flip_type='bit'), qubits=[i,i+1,i+2], inplace=True)\n",
    "    \n",
    "    # inject noise\n",
    "    qc.id(qr)\n",
    "    \n",
    "    for i in [0,3,6]:\n",
    "        # correct errors - bit\n",
    "        qc.compose(correct(flip_type='bit'), qubits=[i,i+1,i+2], inplace=True)\n",
    "    \n",
    "    # correct errors - phase\n",
    "    qc.compose(correct(flip_type='phase'), qubits=[0,3,6], inplace=True)\n",
    "    \n",
    "    qc.measure(0,cr)\n",
    "    \n",
    "    return qc"
   ]
  },
  {
   "cell_type": "code",
   "execution_count": null,
   "id": "6917bb65-ac26-461a-b909-3ebe07ebd9df",
   "metadata": {},
   "outputs": [],
   "source": [
    "def run_shor_code_with_noise(p_bit_flip = 0, p_phase_flip = 0, shots = 1000):\n",
    "\n",
    "    qc = shor_code()\n",
    "\n",
    "    bit_flip_error = pauli_error([('X', p_bit_flip), ('I', 1 - p_bit_flip)])\n",
    "    phase_flip_error = pauli_error([('Z', p_phase_flip), ('I', 1 - p_phase_flip)])\n",
    "    \n",
    "    noise_model = NoiseModel()\n",
    "    noise_model.add_all_qubit_quantum_error(bit_flip_error, ['id'],)\n",
    "    noise_model.add_all_qubit_quantum_error(phase_flip_error, ['id'], warnings=False)\n",
    "    \n",
    "    # Create noisy simulator backend\n",
    "    sim_noise = AerSimulator(noise_model=noise_model)\n",
    "         \n",
    "    # Transpile circuit for noisy basis gates\n",
    "    passmanager = generate_preset_pass_manager(backend=sim_noise, optimization_level=0)\n",
    "    qc_noisy = passmanager.run(qc)\n",
    "    \n",
    "    # Run and get counts\n",
    "    result = sim_noise.run(qc_noisy, shots=shots).result()\n",
    "    counts = result.get_counts()\n",
    "\n",
    "    error_rate = counts.get('1',0)/shots\n",
    "    return error_rate"
   ]
  },
  {
   "cell_type": "code",
   "execution_count": null,
   "id": "e657ba35-6a34-43c0-bbec-29e5dd06ff0b",
   "metadata": {},
   "outputs": [],
   "source": [
    "p_phase_flip = np.linspace(0,0.1,15)\n",
    "\n",
    "errors = np.full(len(p_phase_flip), np.nan)\n",
    "\n",
    "for i, p_p in enumerate(p_phase_flip):\n",
    "\n",
    "    errors[i] = run_shor_code_with_noise(p_bit_flip = 0, p_phase_flip = p_p, shots = 2000)"
   ]
  },
  {
   "cell_type": "code",
   "execution_count": null,
   "id": "76bc4b13-9435-4b7f-b3c9-24b99e0b94b9",
   "metadata": {},
   "outputs": [],
   "source": [
    "plt.figure(figsize=(6,4))\n",
    "plt.plot(p_phase_flip, errors, \"o-\", label=\"logical error rate\")\n",
    "plt.plot(p_phase_flip, p_phase_flip, \"s--\", label=\"physical error rate\")\n",
    "\n",
    "plt.xlabel(\"Phase-flip probability\")\n",
    "plt.ylabel(\"Error rate\")\n",
    "plt.title(\"Logical vs Physical Error Rate\")\n",
    "plt.legend()\n",
    "plt.grid(True, alpha=0.3)\n",
    "plt.show()"
   ]
  },
  {
   "cell_type": "markdown",
   "id": "6f16bd01-b6de-4b56-ba47-faf4bfc3e592",
   "metadata": {},
   "source": [
    "<div style=\"background-color:rgba(252, 245, 255, 1.0); text-align:left; vertical-align: middle; padding:20px 0;border:3px; border-style:solid; padding: 0.5em; border-color: rgba(190, 111, 227, 1.0); color: #000000;\">\n",
    "\n",
    "### Challenge Problem: \n",
    "\n",
    "**A)** Play around more with the Shor code. The Shor code can correct any single-qubit error. But it can also correct certain combinations of two or more qubit errors. What kind of multi-qubit errors can the Shor code correct?\n",
    "\n",
    "**B)** Today we learned about the surface code as well. Try coding up the [[9,1,3]] surface code! Inject error into the circuit and see what error syndromes result. Can you find different combinations of errors that yield the same error syndrome? \n",
    "\n",
    "**C)** The toric code is a QEC code which topologically protects the logical qubit state. By topological protection, we mean that a logical error cannot occur unless a global property of the system changes. In other words, local noise (like uncorrelated multi-qubit Pauli errors) cannot cause a logical error. Take some time to learn about the toric code on your own:\n",
    "\n",
    "https://en.wikipedia.org/wiki/Toric_code\n",
    "\n",
    "https://topocondmat.org/w12_manybody/topoorder.html\n",
    "\n",
    "<div/>"
   ]
  }
 ],
 "metadata": {
  "kernelspec": {
   "display_name": "Python 3 QuantumRings",
   "language": "python",
   "name": "python3_quantu_8bt6c1"
  },
  "language_info": {
   "codemirror_mode": {
    "name": "ipython",
    "version": 3
   },
   "file_extension": ".py",
   "mimetype": "text/x-python",
   "name": "python",
   "nbconvert_exporter": "python",
   "pygments_lexer": "ipython3",
   "version": "3.11.9"
  }
 },
 "nbformat": 4,
 "nbformat_minor": 5
}
