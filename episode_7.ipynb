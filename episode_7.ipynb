{
 "cells": [
  {
   "cell_type": "markdown",
   "id": "0b145155-4321-4c23-bae9-07a1f919dc57",
   "metadata": {},
   "source": [
    "<div style=\"background-color:rgba(78, 188, 130, 0.05); text-align:center; vertical-align: middle; padding:20px 0;border:3px; border-style:solid; padding: 0.5em; border-color: rgba(78, 188, 130, 1.0); color: #000000;\">\n",
    "\n",
    "<img src=\"figs/qr_logo.png\" width=\"700\"/>\n",
    "\n",
    "<h1><strong>Quantum Summer School</strong></h1>\n",
    "\n",
    "<h2><strong>Episode 7</strong></h2>\n",
    "\n",
    "<h3><strong>Grover's Search Algorithm</strong></h3>\n",
    "\n",
    "</div>"
   ]
  },
  {
   "cell_type": "markdown",
   "id": "ddae8b51-ecd2-45e4-bd34-ed23ce60bb73",
   "metadata": {},
   "source": [
    "*In this session, we’ll understand how Grover's search algorithm works.*"
   ]
  },
  {
   "cell_type": "markdown",
   "id": "8c5639e9-6fa3-4329-9957-f6ae5dd5c4b1",
   "metadata": {
    "jp-MarkdownHeadingCollapsed": true
   },
   "source": [
    "<div style=\"background-color:rgba(255, 248, 240, 1.0); text-align:left; vertical-align: middle; padding:20px 0;border:3px; border-style:solid; padding: 0.5em; border-color: rgba(255, 142, 0, 1.0); color: #000000;\">\n",
    "\n",
    "## Objectives\n",
    "1. Review the phase flip oracle\n",
    "2. Review the diffusion operator\n",
    "3. Put everything together into one algorithm\n",
    "\n",
    "<div/>"
   ]
  },
  {
   "cell_type": "markdown",
   "id": "96ddba20",
   "metadata": {},
   "source": [
    "## Setup & Imports"
   ]
  },
  {
   "cell_type": "code",
   "execution_count": null,
   "id": "d4c3b6b1-75d6-4125-af27-f5bc59af9567",
   "metadata": {},
   "outputs": [],
   "source": [
    "from qiskit import QuantumCircuit, QuantumRegister, ClassicalRegister, transpile\n",
    "from qiskit.circuit.library import GroverOperator, MCMT, ZGate\n",
    "from qiskit.visualization import plot_histogram\n",
    "from quantumrings.toolkit.qiskit import QrBackendV2, QrSamplerV1\n",
    "from QuantumRingsLib import QuantumRingsProvider\n",
    "\n",
    "import numpy as np\n",
    "\n",
    "# Provider & backend (toolkit)\n",
    "provider = QuantumRingsProvider()\n",
    "backend = QrBackendV2(provider, num_qubits=2)"
   ]
  },
  {
   "cell_type": "markdown",
   "id": "e2d6143d-37f8-4e83-829f-8d3e5951e8c8",
   "metadata": {},
   "source": [
    "# 1. Phase-Flip Oracle Review"
   ]
  },
  {
   "cell_type": "markdown",
   "id": "dcf649ef-890e-43b2-af15-486f72f806b3",
   "metadata": {},
   "source": [
    "<div style=\"background-color:rgba(247, 255, 245, 1.0); text-align:left; vertical-align: middle; padding:20px 0;border:3px; border-style:solid; padding: 0.5em; border-color: rgba(0, 153, 51, 1.0); color: #000000;\">\n",
    "\n",
    "A phase flip oracle flips the phase of a target state. We know we can construct a phase flip oracle by leveraging the controlled Z gate, which flips the phase of the all 1's state. If we apply an X gate everywhere there is a 0 in the target bit string, then that string becomes the all 1s string. Then we apply a multi-controlled Z across all the qubits, which flips the phase of the all 1s string. Finally, we apply X gates everywhere there is a 0 in the target bit string, which turns the all 1s state back to our target string. Our target state received a bit flip and all other states are unchanged. \n",
    "\n",
    "</div>"
   ]
  },
  {
   "cell_type": "markdown",
   "id": "0006c445-f826-4e44-84e0-eecd9c130d28",
   "metadata": {},
   "source": [
    "### Multi-Control Multi-Target Gate"
   ]
  },
  {
   "cell_type": "markdown",
   "id": "6952fdb8-d3d7-4b6e-ab64-28288acbf170",
   "metadata": {},
   "source": [
    "We know we can make controlled Z or X gates easily using built-in commands. If we have a quantum circuit stored under the variable name qc, then a controlled X gate can be added to the circuit by calling:\n",
    "\n",
    "    qc.cx(control_qubit, target_qubit)\n",
    "\n",
    "For two controls, we can use: \n",
    "\n",
    "    qc.ccx(control_qubit_1, control_qubit_2, target_qubit)\n",
    "\n",
    "When we have more than two controls, however, we can use MCMT (multi-control, multi-target). For this, you specify the type of gate, the number of control qubits, and the number of target qubits."
   ]
  },
  {
   "cell_type": "code",
   "execution_count": null,
   "id": "97ba9597-dfdc-455a-9170-52babfefc1f2",
   "metadata": {},
   "outputs": [],
   "source": [
    "num_qubits = 4\n",
    "q = QuantumRegister(num_qubits)\n",
    "qc = QuantumCircuit(q)\n",
    "\n",
    "\n",
    "\n",
    "qc.draw()"
   ]
  },
  {
   "cell_type": "markdown",
   "id": "e926e58a-0f62-42a8-b806-370314f6f55d",
   "metadata": {},
   "source": [
    "### Oracle"
   ]
  },
  {
   "cell_type": "markdown",
   "id": "ae830af6-2ef3-4165-856f-25956e62460b",
   "metadata": {},
   "source": [
    "Let's construct the phase flip oracle for an arbitrary target state, and then turn that into a function we can use later."
   ]
  },
  {
   "cell_type": "code",
   "execution_count": null,
   "id": "175dafd4-31ae-4ea0-a058-696a55526274",
   "metadata": {},
   "outputs": [],
   "source": [
    "target_state = '0010'\n",
    "\n",
    "num_qubits = len(target_state)"
   ]
  },
  {
   "cell_type": "code",
   "execution_count": null,
   "id": "ca61f133-9d12-4f71-80de-72ea4642c8fb",
   "metadata": {},
   "outputs": [],
   "source": [
    "qc = QuantumCircuit(num_qubits)\n",
    "\n",
    "# Flip target bit-string to match Qiskit bit-ordering\n",
    "\n",
    "# Find the indices of all the '0' elements in bit-string\n",
    "\n",
    "# X gate at every 0 location\n",
    "\n",
    "# Multi controlled Z gate\n",
    "\n",
    "# X gate at every 0 location\n",
    "\n",
    "qc.draw()"
   ]
  },
  {
   "cell_type": "code",
   "execution_count": null,
   "id": "d9661464-dda9-4889-b028-51b415816bd3",
   "metadata": {},
   "outputs": [],
   "source": [
    "def grover_oracle(target_state):\n",
    "\n",
    "    ## \n",
    "    \n",
    "    return ##"
   ]
  },
  {
   "cell_type": "markdown",
   "id": "136cb47e-3703-4523-a071-c468391b831b",
   "metadata": {},
   "source": [
    "<div style=\"background-color:rgba(252, 245, 255, 1.0); text-align:left; vertical-align: middle; padding:20px 0;border:3px; border-style:solid; padding: 0.5em; border-color: rgba(190, 111, 227, 1.0); color: #000000;\">\n",
    "\n",
    "### Challenge Problem: \n",
    "\n",
    "Can you build a Grover oracle for two target bitstrings? This oracle would apply a phase flip to each target string.\n",
    "\n",
    "<div/>"
   ]
  },
  {
   "cell_type": "code",
   "execution_count": null,
   "id": "55b7b76a-e930-49f2-a7be-785239f814bd",
   "metadata": {},
   "outputs": [],
   "source": [
    "def grover_oracle_(target_state_1, target_state_2):\n",
    "\n",
    "    ## \n",
    "    \n",
    "    return ##"
   ]
  },
  {
   "cell_type": "markdown",
   "id": "c9fc9a2a-feef-4207-b6bb-75a49d253c82",
   "metadata": {},
   "source": [
    "# 2. Amplitude Amplification Review"
   ]
  },
  {
   "cell_type": "markdown",
   "id": "7e6a5a14-4e16-4b25-b906-d068115ec37c",
   "metadata": {},
   "source": [
    "<div style=\"background-color:rgba(255, 245, 253, 1.0); text-align:left; vertical-align: middle; padding:20px 0;border:3px; border-style:solid; padding: 0.5em; border-color: rgba(255, 142, 235, 1.0); color: #000000;\">\n",
    "\n",
    "Once we've flipped the phase of the target state, we want to increase its amplitude so that we are more likely to measure it at the end of the circuit. We can accomplish this by using the diffusion operator $D=2|s\\rangle \\langle s| - I$, which flips all amplitudes about the mean.\n",
    "\n",
    "We can construct the diffusion operator by recognizing that it can be rewritten as:\n",
    "\n",
    "$$ D = H^{\\otimes n}(2|0\\rangle^{\\otimes n} \\langle 0|^{\\otimes n} - I)H^{\\otimes n} $$\n",
    "\n",
    "where $2|0\\rangle^{\\otimes n} \\langle 0|^{\\otimes n} - I$ flips the phase of every state except the all 0s state. Since we do not care about an overall global phase, we could also consider this to be flipping the state of just the all 0s state. We can recognize that to be the phase flip oracle with the target state \"00...0\".\n",
    "<div/>"
   ]
  },
  {
   "cell_type": "code",
   "execution_count": null,
   "id": "422c65d0-202f-4c63-8113-86fc629bc6fd",
   "metadata": {},
   "outputs": [],
   "source": [
    "target_state = '010'\n",
    "num_qubits = len(target_state)"
   ]
  },
  {
   "cell_type": "code",
   "execution_count": null,
   "id": "9d9ab5c2-100e-45e0-b47d-6f089652e273",
   "metadata": {},
   "outputs": [],
   "source": [
    "qr = QuantumRegister(3)\n",
    "cr = ClassicalRegister(3)\n",
    "qc = QuantumCircuit(qr,cr, name='QSS6.1_diffusion')\n",
    "\n",
    "# create equal superposition state\n",
    "qc.h(qr)\n",
    "\n",
    "qc.barrier()\n",
    "\n",
    "# apply phase flip oracle\n",
    "oracle = grover_oracle(target_state)\n",
    "qc.compose(oracle, inplace=True)\n",
    "\n",
    "qc.barrier()\n",
    "\n",
    "# diffusion operator\n",
    "\n",
    "qc.barrier()\n",
    "\n",
    "qc.measure(qr,cr)\n",
    "qc.draw()"
   ]
  },
  {
   "cell_type": "code",
   "execution_count": null,
   "id": "397adb1c-379a-4b93-9c16-6c33ac79eaed",
   "metadata": {},
   "outputs": [],
   "source": [
    "def diffusion_operator(num_qubits):\n",
    "\n",
    "    ##\n",
    "\n",
    "    return ##"
   ]
  },
  {
   "cell_type": "code",
   "execution_count": null,
   "id": "c8901e5d-623e-4d2a-9def-6a1f76864b2a",
   "metadata": {},
   "outputs": [],
   "source": [
    "qr = QuantumRegister(3)\n",
    "cr = ClassicalRegister(3)\n",
    "qc = QuantumCircuit(qr,cr, name='QSS6.2_diffusion')\n",
    "\n",
    "# create equal superposition state\n",
    "qc.h(qr)\n",
    "\n",
    "qc.barrier()\n",
    "\n",
    "# apply phase flip oracle\n",
    "oracle = grover_oracle(target_state)\n",
    "qc.compose(oracle, inplace=True)\n",
    "\n",
    "qc.barrier()\n",
    "\n",
    "# diffusion operator\n",
    "diffusion = diffusion_operator(num_qubits)\n",
    "qc.compose(diffusion, inplace=True)\n",
    "\n",
    "qc.barrier()\n",
    "\n",
    "qc.measure(qr,cr)\n",
    "qc.draw()"
   ]
  },
  {
   "cell_type": "code",
   "execution_count": null,
   "id": "e8034694-f4a6-45f4-b0ab-3205eca6fc90",
   "metadata": {},
   "outputs": [],
   "source": [
    "job = backend.run(qc, shots=1000)\n",
    "result = job.result()\n",
    "counts = result.get_counts()\n",
    "plot_histogram(counts)"
   ]
  },
  {
   "cell_type": "code",
   "execution_count": null,
   "id": "e31be226-6c6d-4dc2-b2d6-ecfee803aa6c",
   "metadata": {},
   "outputs": [],
   "source": [
    "## your code here"
   ]
  },
  {
   "cell_type": "markdown",
   "id": "db9871bc-772d-4045-83ff-601f591021bd",
   "metadata": {},
   "source": [
    "# 3. Grover's Algorithm"
   ]
  },
  {
   "cell_type": "markdown",
   "id": "16b412de-dffe-498d-8cc0-8ce1d7582758",
   "metadata": {},
   "source": [
    "### Grover's From Scratch"
   ]
  },
  {
   "cell_type": "code",
   "execution_count": null,
   "id": "e598000d-95b2-4e02-b55a-8c33a85c6c95",
   "metadata": {},
   "outputs": [],
   "source": [
    "target_state = '001'\n",
    "num_qubits = len(target_state)\n",
    "\n",
    "oracle = grover_oracle(target_state)\n",
    "diffusion = diffusion_operator(num_qubits)\n",
    "\n",
    "num_iterations = ###\n",
    "print('Optimal Number of Iterations:', num_iterations)"
   ]
  },
  {
   "cell_type": "code",
   "execution_count": null,
   "id": "121f81e2-a05d-437a-8df9-7b25ff83bf1f",
   "metadata": {},
   "outputs": [],
   "source": [
    "qr = QuantumRegister(num_qubits)\n",
    "cr = ClassicalRegister(num_qubits)\n",
    "qc = QuantumCircuit(qr,cr, name='QSS6.3_grover_scratch')\n",
    "\n",
    "qc.h(qr)\n",
    "\n",
    "for _ in range(num_iterations):\n",
    "    # oracle\n",
    "    # diffusion\n",
    "\n",
    "qc.measure(qr,cr)\n",
    "\n",
    "job = backend.run(qc, shots=1000)\n",
    "result = job.result()\n",
    "counts = result.get_counts()\n",
    "plot_histogram(counts)"
   ]
  },
  {
   "cell_type": "markdown",
   "id": "af5cdb9c-e5cf-4ea1-9a03-1b24873baa03",
   "metadata": {},
   "source": [
    "**Question:** What happens if you overshoot the optimal number of iterations?"
   ]
  },
  {
   "cell_type": "code",
   "execution_count": null,
   "id": "91091700-8540-489b-9480-0a41df53c2fa",
   "metadata": {},
   "outputs": [],
   "source": [
    "qr = QuantumRegister(num_qubits)\n",
    "cr = ClassicalRegister(num_qubits)\n",
    "qc = QuantumCircuit(qr,cr, name='QSS6.4_grover_overshoot')\n",
    "\n",
    "###\n",
    "\n",
    "job = backend.run(qc, shots=1000)\n",
    "result = job.result()\n",
    "counts = result.get_counts()\n",
    "plot_histogram(counts)"
   ]
  },
  {
   "cell_type": "markdown",
   "id": "319796e6-4d6b-49ca-bd1b-16457484d0ec",
   "metadata": {},
   "source": [
    "### Using Qiskit Toolkit --> Quantum Rings"
   ]
  },
  {
   "cell_type": "code",
   "execution_count": null,
   "id": "ece18222-1462-4106-842a-51e85117d1fb",
   "metadata": {},
   "outputs": [],
   "source": [
    "target_state = '010'\n",
    "num_qubits = len(target_state)\n",
    "\n",
    "num_iterations = ###\n",
    "print('Optimal Number of Iterations:', num_iterations)"
   ]
  },
  {
   "cell_type": "code",
   "execution_count": null,
   "id": "c8274271-1ff1-4305-a8f4-f9cc6a2ae175",
   "metadata": {},
   "outputs": [],
   "source": [
    "qr = QuantumRegister(num_qubits)\n",
    "cr = ClassicalRegister(num_qubits)\n",
    "qc = QuantumCircuit(qr,cr, name=\"QSS6.5_grover_transpiled\")\n",
    "\n",
    "oracle = grover_oracle(target_state)\n",
    "grover = GroverOperator(oracle=oracle) # Qiskit Built-in Circuit\n",
    "\n",
    "qc.h(qr)\n",
    "\n",
    "for _ in range(num_iterations):\n",
    "    # grover operator\n",
    "\n",
    "qc.measure(qr,cr)\n",
    "\n",
    "# Transpile for Quantum Rings\n",
    "backend = QrBackendV2(provider, num_qubits=num_qubits)\n",
    "qc_tp = transpile(qc, backend)\n",
    "\n",
    "qc_tp.draw()"
   ]
  },
  {
   "cell_type": "code",
   "execution_count": null,
   "id": "58c1c9bc-f6b2-45ba-987b-83fe27551bb6",
   "metadata": {},
   "outputs": [],
   "source": [
    "# Execute with toolkit sampler\n",
    "sampler = QrSamplerV1(backend=backend)\n",
    "job = sampler.run(circuits=[qc_tp])\n",
    "\n",
    "counts = job.result().quasi_dists[0]\n",
    "plot_histogram(counts)"
   ]
  },
  {
   "cell_type": "markdown",
   "id": "18febe52-d7c0-4d50-aaef-6ba7907f10ec",
   "metadata": {},
   "source": [
    "<div style=\"background-color:rgba(252, 245, 255, 1.0); text-align:left; vertical-align: middle; padding:20px 0;border:3px; border-style:solid; padding: 0.5em; border-color: rgba(190, 111, 227, 1.0); color: #000000;\">\n",
    "\n",
    "### Challenge Problem: \n",
    "\n",
    "In section one, there was a challenge problem to build a Grover oracle which flips the phase of two target strings. Can you extend this to now perform Grover's search with two target strings? Once you've got that working, consider the following questions:\n",
    "\n",
    "* How many measurements (shots) would you need to perform to be convinced that you found the two target strings?\n",
    "* Does the optimal number of iterations change? If yes, then how so?\n",
    "\n",
    "<div/>"
   ]
  },
  {
   "cell_type": "code",
   "execution_count": null,
   "id": "43bb222c-e692-4528-864d-41e86d80363b",
   "metadata": {},
   "outputs": [],
   "source": [
    "### your code here"
   ]
  }
 ],
 "metadata": {
  "kernelspec": {
   "display_name": "Python 3 QuantumRings",
   "language": "python",
   "name": "python3_quantu_8bt6c1"
  },
  "language_info": {
   "codemirror_mode": {
    "name": "ipython",
    "version": 3
   },
   "file_extension": ".py",
   "mimetype": "text/x-python",
   "name": "python",
   "nbconvert_exporter": "python",
   "pygments_lexer": "ipython3",
   "version": "3.11.9"
  }
 },
 "nbformat": 4,
 "nbformat_minor": 5
}
