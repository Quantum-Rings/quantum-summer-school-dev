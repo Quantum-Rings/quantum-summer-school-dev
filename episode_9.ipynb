{
 "cells": [
  {
   "cell_type": "markdown",
   "id": "56072dce-7ada-4d5d-ab70-f0a278a094b0",
   "metadata": {},
   "source": [
    "<div style=\"background-color:rgba(78, 188, 130, 0.05); text-align:center; vertical-align: middle; padding:20px 0;border:3px; border-style:solid; padding: 0.5em; border-color: rgba(78, 188, 130, 1.0); color: #000000;\">\n",
    "\n",
    "<img src=\"figs/qr_logo.png\" width=\"700\"/>\n",
    "\n",
    "<h1><strong>Quantum Summer School</strong></h1>\n",
    "\n",
    "<h2><strong>Episode 9</strong></h2>\n",
    "\n",
    "<h3><strong>Shor's Algorithm</strong></h3>\n",
    "\n",
    "</div>"
   ]
  },
  {
   "cell_type": "markdown",
   "id": "bbb6d8b2-5cec-42e6-96a4-a6c10d7642bd",
   "metadata": {},
   "source": [
    "*In this session, we will learn why factoring large numbers can break RSA key encryption and how Shor's factoring algorithm works!*"
   ]
  },
  {
   "cell_type": "markdown",
   "id": "5fcee1fc-b8d8-403c-8440-57c53885fdd5",
   "metadata": {},
   "source": [
    "<div style=\"background-color:rgba(255, 248, 240, 1.0); text-align:left; vertical-align: middle; padding:20px 0;border:3px; border-style:solid; padding: 0.5em; border-color: rgba(255, 142, 0, 1.0); color: #000000;\">\n",
    "\n",
    "## Objectives\n",
    "1. Understand RSA key encryption\n",
    "2. Apply Shor's algorithm to small numbers\n",
    "\n",
    "<div/>"
   ]
  },
  {
   "cell_type": "markdown",
   "id": "63522572-df24-419b-9f1b-bfcc32c8fcd6",
   "metadata": {},
   "source": [
    "## Setup & Imports"
   ]
  },
  {
   "cell_type": "code",
   "execution_count": null,
   "id": "4e6de347-fbf4-457c-bf69-f568915b40a5",
   "metadata": {},
   "outputs": [],
   "source": [
    "from qiskit import QuantumCircuit, QuantumRegister, ClassicalRegister, transpile\n",
    "from qiskit.circuit.library import QFT\n",
    "from qiskit.visualization import plot_histogram\n",
    "from quantumrings.toolkit.qiskit import QrBackendV2, QrSamplerV1\n",
    "from QuantumRingsLib import QuantumRingsProvider\n",
    "from qiskit.quantum_info import Statevector\n",
    "import matplotlib.pyplot as plt\n",
    "import numpy as np\n",
    "from sympy import mod_inverse\n",
    "\n",
    "# Provider & backend (toolkit)\n",
    "provider = QuantumRingsProvider()\n",
    "backend = QrBackendV2(provider, num_qubits=2)"
   ]
  },
  {
   "cell_type": "markdown",
   "id": "da608ca4-c3d5-4b78-9d22-8b6d149c85f6",
   "metadata": {},
   "source": [
    "# Helper Functions"
   ]
  },
  {
   "cell_type": "markdown",
   "id": "0e4218fd-0480-4ff7-90db-d66dfca3c6c0",
   "metadata": {},
   "source": [
    "Modular exponentiation: instead of computing x^e and then finding its equivalent mod N, we repeat e times multiplying by x and reducing mod N. This greatly reduces the computation time for large numbers."
   ]
  },
  {
   "cell_type": "code",
   "execution_count": null,
   "id": "1ecee9a9-39cc-4293-b3f2-852ecea1f41c",
   "metadata": {},
   "outputs": [],
   "source": [
    "def mod_exp(x,e,N):\n",
    "    y = 1\n",
    "\n",
    "    for i in range(e):\n",
    "        y = (y*x)%N \n",
    "\n",
    "    return y"
   ]
  },
  {
   "cell_type": "markdown",
   "id": "2296352e-ad04-4392-8c84-93a1e0e8644a",
   "metadata": {},
   "source": [
    "Construct a mapping from integers b to a^b mod N and print out a nice table if report is True."
   ]
  },
  {
   "cell_type": "code",
   "execution_count": null,
   "id": "e29e480a-35f9-45e8-bed2-59f015b9f293",
   "metadata": {},
   "outputs": [],
   "source": [
    "def construct_mapping(N,a,report=False):\n",
    "\n",
    "    inputs = list(range(N))\n",
    "    table = {i: int((a**i)%N) for i in inputs}\n",
    "\n",
    "    if report:\n",
    "        print(f\"{'b':>10} | {f'{a} ^ b (mod {N})':>10}\")\n",
    "        print(\"-\" * 25)\n",
    "        for i, o in table.items():\n",
    "            print(f\"{i:10} | {o:10}\")\n",
    "\n",
    "    return table"
   ]
  },
  {
   "cell_type": "markdown",
   "id": "6282c113-2e5f-4f58-973a-58b61399fcbe",
   "metadata": {},
   "source": [
    "One of the key aspects of Shor's algorithm is modular exponentiation. For our learning purposes, we will not construct the controlled unitaries $U_{a^{2^j}}$. Instead, we can just create a unitary which applies the final intended effect. Of course this is \"cheating\" because we can read off what r is from the mapping we use to constuct our unitary. But it allows us to get a feel for how Shor's algorithm works without getting deep into the weeds of quantum modular arithmetic."
   ]
  },
  {
   "cell_type": "code",
   "execution_count": null,
   "id": "ea526537-9aca-4cff-ae8a-5eb88c27d876",
   "metadata": {},
   "outputs": [],
   "source": [
    "def quasi_modular_exponentiation(mapping, num_source):\n",
    "\n",
    "    qs = QuantumRegister(num_source, 'source')\n",
    "    qt = QuantumRegister(num_source, 'target')\n",
    "    qc = QuantumCircuit(qs,qt)\n",
    "\n",
    "    for b, out in mapping.items():\n",
    "\n",
    "        if b > 2**num_source: continue\n",
    "\n",
    "        # binary in and out\n",
    "        b_binary = bin(b)[2:].zfill(num_source)\n",
    "        out_binary = bin(out)[2:].zfill(num_source)\n",
    "\n",
    "        # flip the input binary string to the all 1's string\n",
    "        for i, bit in enumerate(b_binary):\n",
    "            if bit == '0':\n",
    "                qc.x(qs[i])\n",
    "\n",
    "        # flip every qubit in the target register where the output binary string is 1\n",
    "        for i, bit in enumerate(out_binary):\n",
    "            if bit == '1':\n",
    "                qc.mcx(qs,qt[i])\n",
    "\n",
    "        # flip the all 1's string back to the input binary string\n",
    "        for i, bit in enumerate(b_binary):\n",
    "            if bit == '0':\n",
    "                qc.x(qs[i])\n",
    "\n",
    "    return qc"
   ]
  },
  {
   "cell_type": "markdown",
   "id": "cf987423-8f1a-4cbc-bb01-eb84dc012ac7",
   "metadata": {},
   "source": [
    "Function to convert distribution of measured integers ($k$) to fractions ($k/2^n$). You can guess an $r$ value to see if it aligns well with the data."
   ]
  },
  {
   "cell_type": "code",
   "execution_count": null,
   "id": "c6e6d38a-a365-4438-b0ca-d6155cf53b7c",
   "metadata": {},
   "outputs": [],
   "source": [
    "def plot_fractions(counts, guess_r=None):\n",
    "\n",
    "    fraction = []\n",
    "    prob = []\n",
    "    \n",
    "    modified_counts = {}\n",
    "    for k, val in counts.items():\n",
    "    \n",
    "        if k !=0:\n",
    "            gcd = np.gcd(k,2**num_source)\n",
    "            if k/gcd < N:\n",
    "                if 2**num_source/gcd < N:\n",
    "                    modified_counts[f'{int(k/gcd)}/{int(2**num_source/gcd)}'] = val\n",
    "    \n",
    "                    fraction.append(k/2**num_source)\n",
    "                    prob.append(val)\n",
    "        else:\n",
    "            fraction.append(0)\n",
    "            prob.append(val)\n",
    "\n",
    "    plt.bar(fraction,prob, align='center', width=0.05)\n",
    "    \n",
    "    if guess_r is not None:\n",
    "        for i in range(guess_r):\n",
    "            if i==0:\n",
    "                plt.axvline(i*1/guess_r, color='k', lw=1, label=f'Multiples of 1/{guess_r}')\n",
    "            else:\n",
    "                plt.axvline(i*1/guess_r, color='k', lw=1)\n",
    "    \n",
    "    plt.xlabel('$k/2^{n}$')\n",
    "    plt.ylabel('Probability')\n",
    "    plt.legend()\n",
    "    plt.show()"
   ]
  },
  {
   "cell_type": "markdown",
   "id": "c160a667-4fde-4c6c-9126-3e976c9e78b7",
   "metadata": {},
   "source": [
    "# 1. RSA Key Encryption"
   ]
  },
  {
   "cell_type": "markdown",
   "id": "b4c558ae-a32e-4046-ac4e-6134970d1f9f",
   "metadata": {},
   "source": [
    "<div style=\"background-color:rgba(247, 255, 245, 1.0); text-align:left; vertical-align: middle; padding:20px 0;border:3px; border-style:solid; padding: 0.5em; border-color: rgba(0, 153, 51, 1.0); color: #000000;\">\n",
    "\n",
    "The security of RSA key encryption relies on the fact that large numbers are difficult to factor into a product of primes. It is easy, however, to find very large primes with hundreds of digits. We can pick two $p$ and $q$ and define $N=pq$. If I tell you $N$, and you are equipped with only a classical computer, it is virtually impossible for you to find $p$ and $q$.\n",
    "\n",
    "In the RSA scheme, there is a public key $\\{N,e\\}$ and a private key $\\{N,d\\}$. Alice uses $\\{N,e\\}$ to encrypt her message, and Bob uses $\\{N,d\\}$ to decrypt. In the absence of knowing $d$, an eavesdropper is powerless to decrypt the message.\n",
    "\n",
    "The steps of RSA key generation are as follows:\n",
    "1. Pick two primes $p$ and $q$ and define $N=pq$.\n",
    "2. Compute Carmichael's totient function $\\lambda(N) = \\text{lcm}(p-1,q-1)$.\n",
    "3. Choose $1 < e < \\lambda(N)$.\n",
    "4. Compute $d \\equiv e^{-1} ~\\text{mod}~ \\lambda(N)$. (This means $de \\equiv 1 ~\\text{mod}~ \\lambda(N)$)\n",
    "\n",
    "Then to encrypt data $D$, Alice performs modular exponentiation:\n",
    "$$ E \\equiv D^e  ~\\text{mod}~ N$$\n",
    "\n",
    "To decrypt the data, Bob performs modular exponentiation:\n",
    "$$ E^d \\equiv D^{ed} \\equiv D ~\\text{mod}~ N$$\n",
    "\n",
    "Let's try it out with some small numbers.\n",
    "\n",
    "</div>"
   ]
  },
  {
   "cell_type": "code",
   "execution_count": null,
   "id": "55d1a13e-4c44-4159-8fc1-5d25f22226d7",
   "metadata": {},
   "outputs": [],
   "source": [
    "# Pick two large primes \n",
    "# You can find a ton here: https://en.wikipedia.org/wiki/List_of_prime_numbers\n",
    "p = 1999\n",
    "q = 4457"
   ]
  },
  {
   "cell_type": "code",
   "execution_count": null,
   "id": "494b9221-5eba-4a40-a3fa-852811510e09",
   "metadata": {},
   "outputs": [],
   "source": [
    "N = ##\n",
    "lam = ##\n",
    "\n",
    "print('N =', N)\n",
    "print('\\u03BB(N) =', lam)"
   ]
  },
  {
   "cell_type": "code",
   "execution_count": null,
   "id": "80add805-80f8-437d-b39b-5dd6c7bd4b26",
   "metadata": {},
   "outputs": [],
   "source": [
    "# Find an e with 1<e<lambda and e coprime to lambda \n",
    "# In other words, gcd(e,lambda) = 1\n",
    "\n",
    "for _ in range(100):\n",
    "    \n",
    "    # pick a random integer between 1 and lambda-1\n",
    "    e = np.random.randint(1,lam)\n",
    "\n",
    "    # if we find an e coprime with lambda, stop looking\n",
    "    if ###:\n",
    "        break\n",
    "\n",
    "print('e =', e)"
   ]
  },
  {
   "cell_type": "code",
   "execution_count": null,
   "id": "3eff90ab-393b-4882-8825-4aaa6017ab15",
   "metadata": {},
   "outputs": [],
   "source": [
    "# d is the modular inverse of e\n",
    "\n",
    "d = ##\n",
    "\n",
    "print('d =', d)"
   ]
  },
  {
   "cell_type": "code",
   "execution_count": null,
   "id": "b083dbc4-ecdf-4b5a-a2a6-27db39e9e89d",
   "metadata": {},
   "outputs": [],
   "source": [
    "message = 'hi'\n",
    "\n",
    "# turn message into an integer using ASCII keys\n",
    "M = ''\n",
    "for letter in message:\n",
    "    M += str(ord(letter))\n",
    "M = int(M)\n",
    "\n",
    "print(\"Message:\", message, '=', M)"
   ]
  },
  {
   "cell_type": "code",
   "execution_count": null,
   "id": "eb2aa101-5e5e-4b55-a0de-7b25f95f0528",
   "metadata": {},
   "outputs": [],
   "source": [
    "E = ##\n",
    "print(\"Encoded message:\", E)"
   ]
  },
  {
   "cell_type": "code",
   "execution_count": null,
   "id": "1d465356-90f2-4d83-b439-c5a62d3c89d8",
   "metadata": {},
   "outputs": [],
   "source": [
    "D = ##\n",
    "print(\"Decoded message:\", D)"
   ]
  },
  {
   "cell_type": "markdown",
   "id": "8dfb975b-dfb4-438f-a358-4f538268732a",
   "metadata": {},
   "source": [
    "<div style=\"background-color:rgba(252, 245, 255, 1.0); text-align:left; vertical-align: middle; padding:20px 0;border:3px; border-style:solid; padding: 0.5em; border-color: rgba(190, 111, 227, 1.0); color: #000000;\">\n",
    "\n",
    "### Challenge Problem: \n",
    "\n",
    "Explore the following questions:\n",
    "\n",
    "**A)** Play around with other values of $p$ and $q$ and other messages.\n",
    "\n",
    "**B)** What happens if the message is a larger number than $N$? Does this encryption scheme still work? Why or why not?\n",
    "\n",
    "**C)** Why is it a problem if an eavesdropper can factor $N$ into $p$ and $q$?\n",
    "\n",
    "<div/>"
   ]
  },
  {
   "cell_type": "markdown",
   "id": "af061180-5e6f-474f-af1c-227d164699bb",
   "metadata": {},
   "source": [
    "# 2. Shor's Algorithm"
   ]
  },
  {
   "cell_type": "markdown",
   "id": "b534d086-c3a0-48d6-9e5a-013f862626c6",
   "metadata": {},
   "source": [
    "<div style=\"background-color:rgba(243, 248, 255, 1.0); text-align:left; vertical-align: middle; padding:20px 0;border:3px; border-style:solid; padding: 0.5em; border-color: rgba(101, 174, 247, 1.0); color: #000000;\">\n",
    "\n",
    "Shor's algorithm is an efficient way to factor a number $N$ into a product of primes. The best classical algorithm is super-polynomial time and Shor's algorithm is $\\mathcal{O}((\\log{N})^3)$, an exponential speed-up.\n",
    "\n",
    "Shor's algorithm is just a special case of Quantum Phase Estimation. In the previous epsiode/notebook, we explored QPE with a unitary with only one eigenvalue: $e^{2\\pi i \\theta}$. At the end of the QPE algorithm, the register is an n-bit approximation of $\\theta$. For Shor's algorithm, the unitary has $r$ different eigenvalues: $e^{2\\pi i k/r}$ for $0 \\leq k < r$. At the end of the algorithm, we expect to measure an n-bit approximation of one of $\\{0/r,1/r,...,(r-1)/r\\}$.\n",
    "\n",
    "The hardest part of Shor's algorithm (and the complexity bottleneck) is the controlled unitaries which perform the modular exponentiation. For the purposes of this lesson, we will not actually construct these controlled unitaries, but instead employ a mapping unitary which achieves the same effective modular exponentiation. The goal in this notebook is to build an intuition for how Shor's works without getting deep into quantum modular arithmetic.\n",
    "\n",
    "Let's use Shor's algorithm to factorize some small numbers!\n",
    "\n",
    "</div>"
   ]
  },
  {
   "cell_type": "markdown",
   "id": "ed7ccdbc-6d86-415b-b521-a9c59bcbf60e",
   "metadata": {},
   "source": [
    "## Factoring 15"
   ]
  },
  {
   "cell_type": "code",
   "execution_count": null,
   "id": "0ee15fdc-98ea-4827-845b-6d69c6a8ff05",
   "metadata": {},
   "outputs": [],
   "source": [
    "# Pick an a for our N\n",
    "N = 15\n",
    "a = 7"
   ]
  },
  {
   "cell_type": "markdown",
   "id": "6ed607fd-7d42-4ee9-acac-0f83aabe9325",
   "metadata": {},
   "source": [
    "We want to find the period $r$ of the function $f(b) = a^b ~\\text{mod}~N$. Let's take a look at this function."
   ]
  },
  {
   "cell_type": "code",
   "execution_count": null,
   "id": "2ae69220-bdda-4aec-8971-926bac0ba59c",
   "metadata": {},
   "outputs": [],
   "source": [
    "mapping = ##"
   ]
  },
  {
   "cell_type": "markdown",
   "id": "7bea440d-f051-4b7b-8a40-dca5d12c694e",
   "metadata": {},
   "source": [
    "We can see what $r$ is from the table above. We can run Shor's algorithm with $n=4$ qubits, since $15 < 2^4$. We expect to see measurement results at multiples of $2^n/r = 16/4 = 4$, i.e. $0,4,8,12,...$"
   ]
  },
  {
   "cell_type": "code",
   "execution_count": null,
   "id": "7c6be81c-bce0-4d58-a7ba-a93b5c255c36",
   "metadata": {},
   "outputs": [],
   "source": [
    "num_source = 4\n",
    "num_qubits = 2*num_source\n",
    "\n",
    "qs = QuantumRegister(num_source, 'source')\n",
    "qt = QuantumRegister(num_source, 'target')\n",
    "cr = ClassicalRegister(num_source)\n",
    "\n",
    "qc = QuantumCircuit(qs,qt,cr, name='QSS9.1.shor_15')\n",
    "\n",
    "# create equal superposition state in source register\n",
    "\n",
    "# apply modular exponentiation unitary\n",
    "\n",
    "# perform inverse QFT on source register\n",
    "\n",
    "qc.barrier()\n",
    "\n",
    "# measure source register\n",
    "qc.measure(qs,cr)\n",
    "qc.draw()"
   ]
  },
  {
   "cell_type": "code",
   "execution_count": null,
   "id": "42dcb412-3f00-4a9c-a85f-b41cdfd691ab",
   "metadata": {},
   "outputs": [],
   "source": [
    "# Transpile for Quantum Rings\n",
    "backend = QrBackendV2(provider, num_qubits=num_qubits+1)\n",
    "qc_tp = transpile(qc, backend)\n",
    "\n",
    "# Execute with toolkit sampler\n",
    "sampler = QrSamplerV1(backend=backend)\n",
    "job = sampler.run(circuits=[qc_tp])\n",
    "\n",
    "counts = job.result().quasi_dists[0]\n",
    "plot_histogram(counts)"
   ]
  },
  {
   "cell_type": "code",
   "execution_count": null,
   "id": "f78ae528-1701-43a8-bf19-94f9356a9f1e",
   "metadata": {},
   "outputs": [],
   "source": [
    "# Determine r from the smallest non-zero high-probability measurement result \n",
    "k = ##\n",
    "r = 2**num_source / k\n",
    "print(r)"
   ]
  },
  {
   "cell_type": "markdown",
   "id": "e1ede42a-c5cc-4460-8e3c-e7bd1cdcd0e5",
   "metadata": {},
   "source": [
    "We may proceed because $r$ is even. If $r$ was odd, we would need to pick a new $a$ and try again. Now we need to do some classical post-processing. We know that $\\gcd (N, a^{r/2}+1 )$ will be a factor of $N$. If we are unlucky, it will be the case that $a^{r/2}+1 = N$ and $\\gcd (N, a^{r/2}+1 )= N$, in which case we have learned nothing. But if $a^{r/2}+1 \\neq N$, we will learn a nontrivial factor of $N$!"
   ]
  },
  {
   "cell_type": "code",
   "execution_count": null,
   "id": "29fc177b-2eb7-484a-aa68-c1f30620a4b9",
   "metadata": {},
   "outputs": [],
   "source": [
    "f1 = ##\n",
    "f2 = ##\n",
    "\n",
    "print(f'Two factors of N are {f1} and {f2}.')"
   ]
  },
  {
   "cell_type": "markdown",
   "id": "3b4e3ecc-58be-4ada-b4fa-938914ad747d",
   "metadata": {},
   "source": [
    "## Factoring 21"
   ]
  },
  {
   "cell_type": "code",
   "execution_count": null,
   "id": "9040f951-617a-4109-bb65-41f4ed9b29b1",
   "metadata": {},
   "outputs": [],
   "source": [
    "# Pick an a for our N\n",
    "N = 21\n",
    "a = 17"
   ]
  },
  {
   "cell_type": "markdown",
   "id": "d580638f-92ca-4562-95c2-4b7ef07fecdd",
   "metadata": {},
   "source": [
    "We want to find the period $r$ of the function $f(b) = a^b ~\\text{mod}~N$. Let's take a look at this function."
   ]
  },
  {
   "cell_type": "code",
   "execution_count": null,
   "id": "236c8f67-a026-416e-851b-14a5d3e31eb5",
   "metadata": {},
   "outputs": [],
   "source": [
    "mapping = construct_mapping(N,a, report=True)"
   ]
  },
  {
   "cell_type": "code",
   "execution_count": null,
   "id": "efe3d5cd-b6b3-4584-967a-17c81c21be5a",
   "metadata": {},
   "outputs": [],
   "source": [
    "num_source = 5\n",
    "num_qubits = 2*num_source\n",
    "\n",
    "qs = QuantumRegister(num_source, 'source')\n",
    "qt = QuantumRegister(num_source, 'target')\n",
    "cr = ClassicalRegister(num_source)\n",
    "\n",
    "qc = QuantumCircuit(qs,qt,cr, name='QSS9.2.shor_21')\n",
    "\n",
    "# create equal superposition state in source register\n",
    "qc.h(qs)\n",
    "\n",
    "# apply modular exponentiation unitary\n",
    "qc.compose(quasi_modular_exponentiation(mapping, num_source).to_gate(),inplace=True)\n",
    "\n",
    "# perform inverse QFT on source register\n",
    "qc.compose(QFT(num_source,inverse=True, do_swaps=False),inplace=True)\n",
    "\n",
    "qc.barrier()\n",
    "\n",
    "# measure source register\n",
    "qc.measure(qs,cr)\n",
    "qc.draw()"
   ]
  },
  {
   "cell_type": "code",
   "execution_count": null,
   "id": "45f7c0fe-a04f-4e9c-886b-7913a1a1b3e2",
   "metadata": {},
   "outputs": [],
   "source": [
    "# Transpile for Quantum Rings\n",
    "backend = QrBackendV2(provider, num_qubits=num_qubits+1)\n",
    "qc_tp = transpile(qc, backend)\n",
    "\n",
    "# Execute with toolkit sampler\n",
    "sampler = QrSamplerV1(backend=backend)\n",
    "job = sampler.run(circuits=[qc_tp])\n",
    "\n",
    "counts = job.result().quasi_dists[0]\n",
    "plot_histogram(counts)"
   ]
  },
  {
   "cell_type": "markdown",
   "id": "2173edbf-9d44-4b85-854b-8cb3f81b4f5b",
   "metadata": {},
   "source": [
    "We can use the function below to convert the measured values $k$ to fractions $k/2^n$. We expect $k/2^n$ to be multiples of $1/r$. Guess different values for $r$ and see if the data aligns well."
   ]
  },
  {
   "cell_type": "code",
   "execution_count": null,
   "id": "078a6f67-104a-4048-b2c7-18ddb2982512",
   "metadata": {},
   "outputs": [],
   "source": [
    "plot_fractions(counts, guess_r=None)"
   ]
  },
  {
   "cell_type": "code",
   "execution_count": null,
   "id": "1c0427ba-8d22-4b18-b3e7-d2ace9276a51",
   "metadata": {},
   "outputs": [],
   "source": [
    "r = ##\n",
    "f1 = np.gcd(N, int(a**(r/2))+1)\n",
    "f2 = int(N/f1)\n",
    "\n",
    "print(f'Two factors of N are {f1} and {f2}.')"
   ]
  },
  {
   "cell_type": "markdown",
   "id": "1bc9c75c-38fb-454d-87ee-103e0affcbd1",
   "metadata": {},
   "source": [
    "### Attempt 2:\n",
    "\n",
    "Oh no! That choice of $a$ didn't work out. Try again."
   ]
  },
  {
   "cell_type": "code",
   "execution_count": null,
   "id": "7c196f0d-640b-4b1b-a958-2312daceaccc",
   "metadata": {},
   "outputs": [],
   "source": [
    "# Pick an a for our N\n",
    "N = 21\n",
    "a = 11"
   ]
  },
  {
   "cell_type": "markdown",
   "id": "2dd22001-30f5-4bf5-bd5a-a14ff1778d82",
   "metadata": {},
   "source": [
    "We want to find the period $r$ of the function $f(b) = a^b ~\\text{mod}~N$. Let's take a look at this function."
   ]
  },
  {
   "cell_type": "code",
   "execution_count": null,
   "id": "586009d3-7467-4e58-9738-9f31aa8d4fbc",
   "metadata": {},
   "outputs": [],
   "source": [
    "mapping = construct_mapping(N,a, report=True)"
   ]
  },
  {
   "cell_type": "code",
   "execution_count": null,
   "id": "7e499bc5-aec9-43a6-87fe-029980c96ed4",
   "metadata": {},
   "outputs": [],
   "source": [
    "num_source = 5\n",
    "num_qubits = 2*num_source\n",
    "\n",
    "qs = QuantumRegister(num_source, 'source')\n",
    "qt = QuantumRegister(num_source, 'target')\n",
    "cr = ClassicalRegister(num_source)\n",
    "\n",
    "qc = QuantumCircuit(qs,qt,cr, name='QSS9.3.shor_21_2')\n",
    "\n",
    "# create equal superposition state in source register\n",
    "qc.h(qs)\n",
    "\n",
    "# apply modular exponentiation unitary\n",
    "qc.compose(quasi_modular_exponentiation(mapping, num_source).to_gate(),inplace=True)\n",
    "\n",
    "# perform inverse QFT on source register\n",
    "qc.compose(QFT(num_source,inverse=True, do_swaps=False),inplace=True)\n",
    "\n",
    "qc.barrier()\n",
    "\n",
    "# measure source register\n",
    "qc.measure(qs,cr)\n",
    "qc.draw()"
   ]
  },
  {
   "cell_type": "code",
   "execution_count": null,
   "id": "8d8fb331-c6fa-481d-a738-9377c630fc65",
   "metadata": {},
   "outputs": [],
   "source": [
    "# Transpile for Quantum Rings\n",
    "backend = QrBackendV2(provider, num_qubits=num_qubits+1)\n",
    "qc_tp = transpile(qc, backend)\n",
    "\n",
    "# Execute with toolkit sampler\n",
    "sampler = QrSamplerV1(backend=backend)\n",
    "job = sampler.run(circuits=[qc_tp])\n",
    "\n",
    "counts = job.result().quasi_dists[0]\n",
    "plot_histogram(counts)"
   ]
  },
  {
   "cell_type": "markdown",
   "id": "4fe45396-bb8c-44d1-81e4-135c470c33ca",
   "metadata": {},
   "source": [
    "We can use the function below to convert the measured values $k$ to fractions $k/2^n$. We expect $k/2^n$ to be multiples of $1/r$. Guess different values for $r$ and see if the data aligns well."
   ]
  },
  {
   "cell_type": "code",
   "execution_count": null,
   "id": "61a7b051-5369-4d47-afe0-0f9a61d60750",
   "metadata": {},
   "outputs": [],
   "source": [
    "plot_fractions(counts, guess_r=None)"
   ]
  },
  {
   "cell_type": "code",
   "execution_count": null,
   "id": "b7b6d619-5728-43c2-8be0-ede6bd37599f",
   "metadata": {},
   "outputs": [],
   "source": [
    "r = ##\n",
    "f1 = np.gcd(N, int(a**(r/2))+1)\n",
    "f2 = int(N/f1)\n",
    "\n",
    "print(f'Two factors of N are {f1} and {f2}.')"
   ]
  },
  {
   "cell_type": "markdown",
   "id": "f0c9e598-e213-41f5-8fb2-c59702fd5904",
   "metadata": {},
   "source": [
    "<div style=\"background-color:rgba(252, 245, 255, 1.0); text-align:left; vertical-align: middle; padding:20px 0;border:3px; border-style:solid; padding: 0.5em; border-color: rgba(190, 111, 227, 1.0); color: #000000;\">\n",
    "\n",
    "### Challenge Problem: \n",
    "\n",
    "Use Shor's Algorithm to factor 33. How many qubits do you need in each register to perform Shor's algorithm?\n",
    "\n",
    "First try using $a=4$. Does it work? Why or why not?\n",
    "\n",
    "Try again with other numbers. Which values of $a$ work?\n",
    "\n",
    "<div/>"
   ]
  },
  {
   "cell_type": "code",
   "execution_count": null,
   "id": "40c47069-b3e9-4489-8b7b-8f6afded0a37",
   "metadata": {},
   "outputs": [],
   "source": [
    "# your code here"
   ]
  }
 ],
 "metadata": {
  "kernelspec": {
   "display_name": "Python 3 QuantumRings",
   "language": "python",
   "name": "python3_quantu_8bt6c1"
  },
  "language_info": {
   "codemirror_mode": {
    "name": "ipython",
    "version": 3
   },
   "file_extension": ".py",
   "mimetype": "text/x-python",
   "name": "python",
   "nbconvert_exporter": "python",
   "pygments_lexer": "ipython3",
   "version": "3.11.9"
  }
 },
 "nbformat": 4,
 "nbformat_minor": 5
}
