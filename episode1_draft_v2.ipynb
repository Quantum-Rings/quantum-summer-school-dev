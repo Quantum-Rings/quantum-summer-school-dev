{
 "cells": [
  {
   "cell_type": "markdown",
   "id": "6e31bb94",
   "metadata": {},
   "source": [
    "# Episode 1: Welcome, Math Prereqs & SDK Setup\n",
    "\n",
    "*In this session, we'll get you set up with the Quantum Rings SDK within your qBraid environment.*"
   ]
  },
  {
   "cell_type": "markdown",
   "id": "313e3860",
   "metadata": {},
   "source": [
    "## 1. Login & Credentials\n",
    "1. Open your browser and go to [quantumrings.com](https://www.quantumrings.com/) to log in.\n",
    "2. Navigate to your account dashboard and copy your **API token** and **email/username**.\n",
    "3. Keep your notebook open in qBraid so you can paste your credentials directly below."
   ]
  },
  {
   "cell_type": "markdown",
   "id": "2eb70439",
   "metadata": {},
   "source": [
    "## 2. Install & Reference Documentation\n",
    "- Installation instructions: [Installation Guide](https://portal.quantumrings.com/doc/Installation.html)\n",
    "- We're using the pre-configured Quantum Rings environment on qBraid, so the SDK is already installed."
   ]
  },
  {
   "cell_type": "markdown",
   "id": "2ef5047b",
   "metadata": {},
   "source": [
    "## 3. Save Your Credentials Locally\n",
    "Run the cell below, pasting in your token and email. This will store your account locally for future sessions."
   ]
  },
  {
   "cell_type": "code",
   "execution_count": null,
   "id": "13d81783",
   "metadata": {},
   "outputs": [],
   "source": [
    "from QuantumRingsLib import QuantumRingsProvider\n",
    "\n",
    "# Paste your credentials here:\n",
    "token = \"YOUR_API_TOKEN\"\n",
    "name = \"YOUR_EMAIL\"\n",
    "\n",
    "# Save locally (see docs link above)\n",
    "QuantumRingsProvider.save_account(token=token, name=name)\n",
    "\n",
    "# Show the saved account\n",
    "print(\"Active account:\", provider.active_account())"
   ]
  },
  {
   "cell_type": "markdown",
   "id": "1fdc650b",
   "metadata": {},
   "source": [
    "## 4. \"Hello Quantum\" Demo\n",
    "Let's build a simple 1-qubit circuit, apply a Hadamard gate, and measure."
   ]
  },
  {
   "cell_type": "code",
   "execution_count": null,
   "id": "2f51e60f",
   "metadata": {},
   "outputs": [],
   "source": [
    "# QauntumRingsLib 0.9.1\n",
    "\n",
    "from QuantumRingsLib import QuantumRingsProvider, QuantumRegister, ClassicalRegister, QuantumCircuit, job_monitor\n",
    "\n",
    "# === Setup\n",
    "provider = QuantumRingsProvider()\n",
    "backend = provider.get_backend(\"scarlet_quantum_rings\")\n",
    "\n",
    "# Create registers\n",
    "q = QuantumRegister(1, 'q')\n",
    "c = ClassicalRegister(1, 'c')\n",
    "qc = QuantumCircuit(q, c)\n",
    "\n",
    "# Apply a Hadamard gate, measure, and execute\n",
    "qc.h(q[0])\n",
    "qc.measure(q[0], c[0])\n",
    "\n",
    "# === Gates and Measurement\n",
    "qc.x(q[0])            # Apply X gate\n",
    "qc.measure(q[0], c[0])  # Measure into classical bit 0\n",
    "\n",
    "# === Run\n",
    "print(\"🚀 Running minimal Quantum Rings Core circuit...\")\n",
    "job = backend.run(qc, shots=512)\n",
    "job_monitor(job)  # ✅ Optional: track progress\n",
    "result = job.result()\n",
    "\n",
    "# === Results\n",
    "counts = result.get_counts()\n",
    "print(\"📊 Measurement Results:\", counts)"
   ]
  },
  {
   "cell_type": "markdown",
   "id": "edd61577",
   "metadata": {},
   "source": [
    "## 5. Math Primer\n",
    "- A single qubit state: $|\\psi\\rangle = \\alpha|0\\rangle + \\beta|1\\rangle$, where $\\alpha,\\beta\\in\\mathbb{C}$ and $|\\alpha|^2+|\\beta|^2=1$  \n",
    "- Dirac notation: $|0\\rangle=\\begin{pmatrix}1\\\\0\\end{pmatrix}$, $|1\\rangle=\\begin{pmatrix}0\\\\1\\end{pmatrix}$  \n",
    "- Hadamard gate matrix: $H=\\tfrac{1}{\\sqrt{2}}\\begin{pmatrix}1 & 1\\\\1 & -1\\end{pmatrix}$"
   ]
  },
  {
   "cell_type": "markdown",
   "id": "8dc94ad3",
   "metadata": {},
   "source": [
    "----\n",
    "### Next Up\n",
    "**Episode 2: Single-Qubit Gates, Bloch Sphere & Measurement**\n",
    "\n",
    "We'll explore the Bloch sphere representation and see how various single-qubit gates manipulate states."
   ]
  }
 ],
 "metadata": {
  "kernelspec": {
   "display_name": "Quantum Rings",
   "language": "python",
   "name": "python3_quantu_shxt1h"
  },
  "language_info": {
   "codemirror_mode": {
    "name": "ipython",
    "version": 3
   },
   "file_extension": ".py",
   "mimetype": "text/x-python",
   "name": "python",
   "nbconvert_exporter": "python",
   "pygments_lexer": "ipython3",
   "version": "3.11.9"
  }
 },
 "nbformat": 4,
 "nbformat_minor": 5
}
