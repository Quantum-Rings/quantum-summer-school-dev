{
 "cells": [
  {
   "cell_type": "code",
   "execution_count": 1,
   "id": "33b7aff8-788c-4b76-9e41-95d674e5533e",
   "metadata": {},
   "outputs": [],
   "source": [
    "from qiskit.quantum_info import Statevector\n",
    "import matplotlib.pyplot as plt"
   ]
  },
  {
   "cell_type": "code",
   "execution_count": 2,
   "id": "47361186-771d-4b90-9054-b6795644a2b4",
   "metadata": {},
   "outputs": [],
   "source": [
    "from qiskit import QuantumCircuit, QuantumRegister, ClassicalRegister, transpile\n",
    "from qiskit.circuit.library import GroverOperator, MCMT, ZGate\n",
    "from qiskit.circuit.library import QFT as qkQFT\n",
    "from qiskit.visualization import plot_histogram\n",
    "from quantumrings.toolkit.qiskit import QrBackendV2, QrSamplerV1\n",
    "from QuantumRingsLib import QuantumRingsProvider\n",
    "\n",
    "import numpy as np\n",
    "\n",
    "# Provider & backend (toolkit)\n",
    "provider = QuantumRingsProvider()\n",
    "backend = QrBackendV2(provider, num_qubits=2)"
   ]
  },
  {
   "cell_type": "markdown",
   "id": "f2878dcd-733c-4fe4-a0cb-d3d0cf027576",
   "metadata": {},
   "source": [
    "# Helper Functions"
   ]
  },
  {
   "cell_type": "markdown",
   "id": "a5d9e20b-445c-4738-b95b-bfae6273e6d8",
   "metadata": {},
   "source": [
    "Functions to convert a decimal to binary fractions (ex. 1/10 --> 0.00011), and convert a binary number to an integer (ex. 10 --> 2)."
   ]
  },
  {
   "cell_type": "code",
   "execution_count": 3,
   "id": "e8faa8f2-0ab7-499d-8f54-8a553b233bb0",
   "metadata": {},
   "outputs": [],
   "source": [
    "def decimal_to_binary_fraction(x, bits=20):\n",
    "\n",
    "    binary = \"0.\"\n",
    "    for _ in range(bits):\n",
    "        x *= 2\n",
    "        if x >= 1:\n",
    "            binary += \"1\"\n",
    "            x -= 1\n",
    "        else:\n",
    "            binary += \"0\"\n",
    "\n",
    "    return binary\n",
    "\n",
    "def binary_to_int(binary):\n",
    "    return int(binary, 2)"
   ]
  },
  {
   "cell_type": "code",
   "execution_count": 4,
   "id": "2778b485-cc76-4510-aa0a-ef8cb5abdf31",
   "metadata": {},
   "outputs": [],
   "source": [
    "def prep_state(num_qubits, period):\n",
    "\n",
    "    qr = QuantumRegister(num_qubits+1)\n",
    "    qc = QuantumCircuit(qr)\n",
    "    \n",
    "    qc.x(num_qubits)\n",
    "    \n",
    "    qc.h(range(0,num_qubits))\n",
    "\n",
    "    for j in range(num_qubits-1, -1,-1):\n",
    "        qc.cp(2*np.pi * 2**j / period ,j,num_qubits)\n",
    "    \n",
    "    qc.x(num_qubits)\n",
    "\n",
    "    return qc"
   ]
  },
  {
   "cell_type": "code",
   "execution_count": 16,
   "id": "2dd3c3b9-1f40-4d80-b094-d9cfeda401ed",
   "metadata": {},
   "outputs": [
    {
     "data": {
      "text/html": [
       "<pre style=\"word-wrap: normal;white-space: pre;background: #fff0;line-height: 1.1;font-family: &quot;Courier New&quot;,Courier,monospace\">       ┌───┐                                                            \n",
       "q15_0: ┤ H ├──────────────────────────────────────────────■─────────────\n",
       "       ├───┤                                              │             \n",
       "q15_1: ┤ H ├───────────────────────────────────■──────────┼─────────────\n",
       "       ├───┤                                   │          │             \n",
       "q15_2: ┤ H ├────────────────────────■──────────┼──────────┼─────────────\n",
       "       ├───┤                        │          │          │             \n",
       "q15_3: ┤ H ├─────────────■──────────┼──────────┼──────────┼─────────────\n",
       "       ├───┤             │          │          │          │             \n",
       "q15_4: ┤ H ├─■───────────┼──────────┼──────────┼──────────┼─────────────\n",
       "       ├───┤ │P(-16π/5)  │P(-8π/5)  │P(-4π/5)  │P(-2π/5)  │P(-π/5) ┌───┐\n",
       "q15_5: ┤ X ├─■───────────■──────────■──────────■──────────■────────┤ X ├\n",
       "       └───┘                                                       └───┘\n",
       " c7: 5/═════════════════════════════════════════════════════════════════\n",
       "                                                                        </pre>"
      ],
      "text/plain": [
       "       ┌───┐                                                            \n",
       "q15_0: ┤ H ├──────────────────────────────────────────────■─────────────\n",
       "       ├───┤                                              │             \n",
       "q15_1: ┤ H ├───────────────────────────────────■──────────┼─────────────\n",
       "       ├───┤                                   │          │             \n",
       "q15_2: ┤ H ├────────────────────────■──────────┼──────────┼─────────────\n",
       "       ├───┤                        │          │          │             \n",
       "q15_3: ┤ H ├─────────────■──────────┼──────────┼──────────┼─────────────\n",
       "       ├───┤             │          │          │          │             \n",
       "q15_4: ┤ H ├─■───────────┼──────────┼──────────┼──────────┼─────────────\n",
       "       ├───┤ │P(-16π/5)  │P(-8π/5)  │P(-4π/5)  │P(-2π/5)  │P(-π/5) ┌───┐\n",
       "q15_5: ┤ X ├─■───────────■──────────■──────────■──────────■────────┤ X ├\n",
       "       └───┘                                                       └───┘\n",
       " c7: 5/═════════════════════════════════════════════════════════════════\n",
       "                                                                        "
      ]
     },
     "metadata": {},
     "output_type": "display_data"
    },
    {
     "data": {
      "text/plain": [
       "[<matplotlib.lines.Line2D at 0x7c88d0d11750>]"
      ]
     },
     "execution_count": 16,
     "metadata": {},
     "output_type": "execute_result"
    },
    {
     "data": {
      "image/png": "[encoded data removed]",
      "text/plain": [
       "<Figure size 640x480 with 1 Axes>"
      ]
     },
     "metadata": {},
     "output_type": "display_data"
    }
   ],
   "source": [
    "num_qubits = 5\n",
    "qr = QuantumRegister(num_qubits+1)\n",
    "cr = ClassicalRegister(num_qubits)\n",
    "qc = QuantumCircuit(qr,cr)\n",
    "\n",
    "qc.compose(prep_state(num_qubits,10),inplace=True)\n",
    "display(qc.draw())\n",
    "\n",
    "sv = Statevector.from_instruction(qc)\n",
    "plt.plot(np.real(sv))"
   ]
  },
  {
   "cell_type": "code",
   "execution_count": 5,
   "id": "e6ffef71-b878-4469-bcac-9a8b40affd29",
   "metadata": {},
   "outputs": [],
   "source": [
    "def QFT(num_qubits):\n",
    "    qr = QuantumRegister(num_qubits)\n",
    "    qc = QuantumCircuit(qr,cr)\n",
    "    \n",
    "    # for i in range(num_qubits-1,-1,-1):\n",
    "    #     qc.h(i)\n",
    "\n",
    "    for i in range(0, num_qubits):\n",
    "        qc.h(i)\n",
    "\n",
    "        for j in range(i+1,num_qubits,1):\n",
    "            denominator = 2**(j-i)\n",
    "            qc.cp(np.pi/denominator, j,i)\n",
    "    \n",
    "        # for j in range(i-1,-1,-1):\n",
    "        #     denominator = 2**(i-j)\n",
    "        #     qc.cp(np.pi/denominator, j,i)\n",
    "        qc.barrier()\n",
    "\n",
    "    # qc.swap(0,2)\n",
    "\n",
    "    return qc"
   ]
  },
  {
   "cell_type": "code",
   "execution_count": 7,
   "id": "1a633e0a-1733-42ce-9e29-0d05e9cb53f4",
   "metadata": {},
   "outputs": [
    {
     "data": {
      "text/html": [
       "<pre style=\"word-wrap: normal;white-space: pre;background: #fff0;line-height: 1.1;font-family: &quot;Courier New&quot;,Courier,monospace\">                ░ ┌───┐ ░                 ░                           ░ »\n",
       "     q2_0 -> 0 ─░─┤ H ├─░──■──────────────░──■────────────────────────░─»\n",
       "                ░ └───┘ ░  │P(-π/2) ┌───┐ ░  │                        ░ »\n",
       "     q2_1 -> 1 ─░───────░──■────────┤ H ├─░──┼─────────■──────────────░─»\n",
       "                ░       ░           └───┘ ░  │P(-π/4)  │P(-π/2) ┌───┐ ░ »\n",
       "     q2_2 -> 2 ─░───────░─────────────────░──■─────────■────────┤ H ├─░─»\n",
       "                ░       ░                 ░                     └───┘ ░ »\n",
       "     q2_3 -> 3 ─░───────░─────────────────░───────────────────────────░─»\n",
       "                ░       ░                 ░                           ░ »\n",
       "ancilla_0 -> 4 ─────────────────────────────────────────────────────────»\n",
       "                                                                        »\n",
       "         c1: 4/═════════════════════════════════════════════════════════»\n",
       "                                                                        »\n",
       "«                                                   ░ ┌─┐         \n",
       "«     q2_0 -> 0 ─■──────────────────────────────────░─┤M├─────────\n",
       "«                │                                  ░ └╥┘┌─┐      \n",
       "«     q2_1 -> 1 ─┼─────────■────────────────────────░──╫─┤M├──────\n",
       "«                │         │                        ░  ║ └╥┘┌─┐   \n",
       "«     q2_2 -> 2 ─┼─────────┼─────────■──────────────░──╫──╫─┤M├───\n",
       "«                │P(-π/8)  │P(-π/4)  │P(-π/2) ┌───┐ ░  ║  ║ └╥┘┌─┐\n",
       "«     q2_3 -> 3 ─■─────────■─────────■────────┤ H ├─░──╫──╫──╫─┤M├\n",
       "«                                             └───┘ ░  ║  ║  ║ └╥┘\n",
       "«ancilla_0 -> 4 ───────────────────────────────────────╫──╫──╫──╫─\n",
       "«                                                      ║  ║  ║  ║ \n",
       "«         c1: 4/═══════════════════════════════════════╩══╩══╩══╩═\n",
       "«                                                      0  1  2  3 </pre>"
      ],
      "text/plain": [
       "                ░ ┌───┐ ░                 ░                           ░ »\n",
       "     q2_0 -> 0 ─░─┤ H ├─░──■──────────────░──■────────────────────────░─»\n",
       "                ░ └───┘ ░  │P(-π/2) ┌───┐ ░  │                        ░ »\n",
       "     q2_1 -> 1 ─░───────░──■────────┤ H ├─░──┼─────────■──────────────░─»\n",
       "                ░       ░           └───┘ ░  │P(-π/4)  │P(-π/2) ┌───┐ ░ »\n",
       "     q2_2 -> 2 ─░───────░─────────────────░──■─────────■────────┤ H ├─░─»\n",
       "                ░       ░                 ░                     └───┘ ░ »\n",
       "     q2_3 -> 3 ─░───────░─────────────────░───────────────────────────░─»\n",
       "                ░       ░                 ░                           ░ »\n",
       "ancilla_0 -> 4 ─────────────────────────────────────────────────────────»\n",
       "                                                                        »\n",
       "         c1: 4/═════════════════════════════════════════════════════════»\n",
       "                                                                        »\n",
       "«                                                   ░ ┌─┐         \n",
       "«     q2_0 -> 0 ─■──────────────────────────────────░─┤M├─────────\n",
       "«                │                                  ░ └╥┘┌─┐      \n",
       "«     q2_1 -> 1 ─┼─────────■────────────────────────░──╫─┤M├──────\n",
       "«                │         │                        ░  ║ └╥┘┌─┐   \n",
       "«     q2_2 -> 2 ─┼─────────┼─────────■──────────────░──╫──╫─┤M├───\n",
       "«                │P(-π/8)  │P(-π/4)  │P(-π/2) ┌───┐ ░  ║  ║ └╥┘┌─┐\n",
       "«     q2_3 -> 3 ─■─────────■─────────■────────┤ H ├─░──╫──╫──╫─┤M├\n",
       "«                                             └───┘ ░  ║  ║  ║ └╥┘\n",
       "«ancilla_0 -> 4 ───────────────────────────────────────╫──╫──╫──╫─\n",
       "«                                                      ║  ║  ║  ║ \n",
       "«         c1: 4/═══════════════════════════════════════╩══╩══╩══╩═\n",
       "«                                                      0  1  2  3 "
      ]
     },
     "execution_count": 7,
     "metadata": {},
     "output_type": "execute_result"
    }
   ],
   "source": [
    "num_qubits = 4\n",
    "qr = QuantumRegister(num_qubits)\n",
    "cr = ClassicalRegister(num_qubits)\n",
    "qc = QuantumCircuit(qr,cr)\n",
    "\n",
    "iQFT = QFT(num_qubits).inverse()\n",
    "qc.compose(iQFT,inplace=True)\n",
    "# qc.compose(QFT(num_qubits),inplace=True)\n",
    "# qc.barrier()\n",
    "# qc.append(qkQFT(num_qubits, inverse=True),range(num_qubits))\n",
    "\n",
    "qc.barrier()\n",
    "\n",
    "qc.measure(qr,cr)\n",
    "backend = QrBackendV2(provider, num_qubits=num_qubits+1)\n",
    "qc_tp = transpile(qc, backend)\n",
    "\n",
    "qc_tp.draw()\n",
    "# qc.draw()"
   ]
  },
  {
   "cell_type": "code",
   "execution_count": 8,
   "id": "8233de48-499e-4780-997e-f4a59c0c87e5",
   "metadata": {},
   "outputs": [
    {
     "data": {
      "text/html": [
       "<pre style=\"word-wrap: normal;white-space: pre;background: #fff0;line-height: 1.1;font-family: &quot;Courier New&quot;,Courier,monospace\">               ┌───┐                                                  »\n",
       "     q4_3 -> 0 ┤ H ├─■──────────────■───────────────────■─────────────»\n",
       "               └───┘ │P(-π/2) ┌───┐ │                   │             »\n",
       "     q4_2 -> 1 ──────■────────┤ H ├─┼─────────■─────────┼─────────────»\n",
       "                              └───┘ │P(-π/4)  │P(-π/2)  │        ┌───┐»\n",
       "     q4_1 -> 2 ─────────────────────■─────────■─────────┼────────┤ H ├»\n",
       "                                                        │P(-π/8) └───┘»\n",
       "     q4_0 -> 3 ─────────────────────────────────────────■─────────────»\n",
       "                                                                      »\n",
       "ancilla_0 -> 4 ───────────────────────────────────────────────────────»\n",
       "                                                                      »\n",
       "         c2: 4/═══════════════════════════════════════════════════════»\n",
       "                                                                      »\n",
       "«                                         ░ ┌─┐         \n",
       "«     q4_3 -> 0 ──────────────────────────░─┤M├─────────\n",
       "«                                         ░ └╥┘┌─┐      \n",
       "«     q4_2 -> 1 ─■────────────────────────░──╫─┤M├──────\n",
       "«                │                        ░  ║ └╥┘┌─┐   \n",
       "«     q4_1 -> 2 ─┼─────────■──────────────░──╫──╫─┤M├───\n",
       "«                │P(-π/4)  │P(-π/2) ┌───┐ ░  ║  ║ └╥┘┌─┐\n",
       "«     q4_0 -> 3 ─■─────────■────────┤ H ├─░──╫──╫──╫─┤M├\n",
       "«                                   └───┘ ░  ║  ║  ║ └╥┘\n",
       "«ancilla_0 -> 4 ─────────────────────────────╫──╫──╫──╫─\n",
       "«                                            ║  ║  ║  ║ \n",
       "«         c2: 4/═════════════════════════════╩══╩══╩══╩═\n",
       "«                                            0  1  2  3 </pre>"
      ],
      "text/plain": [
       "               ┌───┐                                                  »\n",
       "     q4_3 -> 0 ┤ H ├─■──────────────■───────────────────■─────────────»\n",
       "               └───┘ │P(-π/2) ┌───┐ │                   │             »\n",
       "     q4_2 -> 1 ──────■────────┤ H ├─┼─────────■─────────┼─────────────»\n",
       "                              └───┘ │P(-π/4)  │P(-π/2)  │        ┌───┐»\n",
       "     q4_1 -> 2 ─────────────────────■─────────■─────────┼────────┤ H ├»\n",
       "                                                        │P(-π/8) └───┘»\n",
       "     q4_0 -> 3 ─────────────────────────────────────────■─────────────»\n",
       "                                                                      »\n",
       "ancilla_0 -> 4 ───────────────────────────────────────────────────────»\n",
       "                                                                      »\n",
       "         c2: 4/═══════════════════════════════════════════════════════»\n",
       "                                                                      »\n",
       "«                                         ░ ┌─┐         \n",
       "«     q4_3 -> 0 ──────────────────────────░─┤M├─────────\n",
       "«                                         ░ └╥┘┌─┐      \n",
       "«     q4_2 -> 1 ─■────────────────────────░──╫─┤M├──────\n",
       "«                │                        ░  ║ └╥┘┌─┐   \n",
       "«     q4_1 -> 2 ─┼─────────■──────────────░──╫──╫─┤M├───\n",
       "«                │P(-π/4)  │P(-π/2) ┌───┐ ░  ║  ║ └╥┘┌─┐\n",
       "«     q4_0 -> 3 ─■─────────■────────┤ H ├─░──╫──╫──╫─┤M├\n",
       "«                                   └───┘ ░  ║  ║  ║ └╥┘\n",
       "«ancilla_0 -> 4 ─────────────────────────────╫──╫──╫──╫─\n",
       "«                                            ║  ║  ║  ║ \n",
       "«         c2: 4/═════════════════════════════╩══╩══╩══╩═\n",
       "«                                            0  1  2  3 "
      ]
     },
     "execution_count": 8,
     "metadata": {},
     "output_type": "execute_result"
    }
   ],
   "source": [
    "num_qubits = 4\n",
    "qr = QuantumRegister(num_qubits)\n",
    "cr = ClassicalRegister(num_qubits)\n",
    "qc = QuantumCircuit(qr,cr)\n",
    "\n",
    "# iQFT = QFT(num_qubits).inverse()\n",
    "# qc.compose(iQFT,inplace=True)\n",
    "# qc.compose(QFT(num_qubits),inplace=True)\n",
    "# qc.barrier()\n",
    "qc.append(qkQFT(num_qubits, inverse=True),range(num_qubits))\n",
    "\n",
    "qc.barrier()\n",
    "\n",
    "qc.measure(qr,cr)\n",
    "backend = QrBackendV2(provider, num_qubits=num_qubits+1)\n",
    "qc_tp = transpile(qc, backend)\n",
    "\n",
    "qc_tp.draw()\n",
    "# qc.draw()"
   ]
  },
  {
   "cell_type": "code",
   "execution_count": 43,
   "id": "15edcd9e-690a-4b36-bd1d-44947c6f7774",
   "metadata": {},
   "outputs": [
    {
     "data": {
      "text/html": [
       "<pre style=\"word-wrap: normal;white-space: pre;background: #fff0;line-height: 1.1;font-family: &quot;Courier New&quot;,Courier,monospace\">           ┌───┐                                                     ┌───┐ ░ »\n",
       "q13_5 -> 0 ┤ X ├─■───────────■──────────■─────────■─────────■────────┤ X ├─░─»\n",
       "           ├───┤ │           │          │         │         │P(2π/5) └───┘ ░ »\n",
       "q13_0 -> 1 ┤ H ├─┼───────────┼──────────┼─────────┼─────────■──────────────░─»\n",
       "           ├───┤ │           │          │         │P(4π/5)                 ░ »\n",
       "q13_1 -> 2 ┤ H ├─┼───────────┼──────────┼─────────■────────────────────────░─»\n",
       "           ├───┤ │           │          │P(8π/5)                           ░ »\n",
       "q13_2 -> 3 ┤ H ├─┼───────────┼──────────■──────────────────────────────────░─»\n",
       "           ├───┤ │           │P(16π/5)                                     ░ »\n",
       "q13_3 -> 4 ┤ H ├─┼───────────■─────────────────────────────────────────────░─»\n",
       "           ├───┤ │P(20.106)                                                ░ »\n",
       "q13_4 -> 5 ┤ H ├─■─────────────────────────────────────────────────────────░─»\n",
       "           └───┘                                                           ░ »\n",
       "     c5: 5/══════════════════════════════════════════════════════════════════»\n",
       "                                                                             »\n",
       "«                                                                              »\n",
       "«q13_5 -> 0 ───────────────────────────────────────────────────────────────────»\n",
       "«            ░       ░                 ░                           ░           »\n",
       "«q13_0 -> 1 ─░───────░─────────────────░───────────────────────────░───────────»\n",
       "«            ░       ░                 ░                           ░           »\n",
       "«q13_1 -> 2 ─░───────░─────────────────░───────────────────────────░──■────────»\n",
       "«            ░       ░                 ░                     ┌───┐ ░  │        »\n",
       "«q13_2 -> 3 ─░───────░─────────────────░──■─────────■────────┤ H ├─░──┼────────»\n",
       "«            ░       ░           ┌───┐ ░  │         │P(-π/2) └───┘ ░  │        »\n",
       "«q13_3 -> 4 ─░───────░──■────────┤ H ├─░──┼─────────■──────────────░──┼────────»\n",
       "«            ░ ┌───┐ ░  │P(-π/2) └───┘ ░  │P(-π/4)                 ░  │P(-π/8) »\n",
       "«q13_4 -> 5 ─░─┤ H ├─░──■──────────────░──■────────────────────────░──■────────»\n",
       "«            ░ └───┘ ░                 ░                           ░           »\n",
       "«     c5: 5/═══════════════════════════════════════════════════════════════════»\n",
       "«                                                                              »\n",
       "«                                                                      »\n",
       "«q13_5 -> 0 ───────────────────────────────────────────────────────────»\n",
       "«                                     ░                                »\n",
       "«q13_0 -> 1 ──────────────────────────░──■──────────■─────────■────────»\n",
       "«                               ┌───┐ ░  │          │         │        »\n",
       "«q13_1 -> 2 ─■─────────■────────┤ H ├─░──┼──────────┼─────────┼────────»\n",
       "«            │         │P(-π/2) └───┘ ░  │          │         │P(-π/4) »\n",
       "«q13_2 -> 3 ─┼─────────■──────────────░──┼──────────┼─────────■────────»\n",
       "«            │P(-π/4)                 ░  │          │P(-π/8)           »\n",
       "«q13_3 -> 4 ─■────────────────────────░──┼──────────■──────────────────»\n",
       "«                                     ░  │P(-π/16)                     »\n",
       "«q13_4 -> 5 ──────────────────────────░──■─────────────────────────────»\n",
       "«                                     ░                                »\n",
       "«     c5: 5/═══════════════════════════════════════════════════════════»\n",
       "«                                                                      »\n",
       "«                           ░                \n",
       "«q13_5 -> 0 ────────────────░────────────────\n",
       "«                     ┌───┐ ░             ┌─┐\n",
       "«q13_0 -> 1 ─■────────┤ H ├─░─────────────┤M├\n",
       "«            │P(-π/2) └───┘ ░          ┌─┐└╥┘\n",
       "«q13_1 -> 2 ─■──────────────░──────────┤M├─╫─\n",
       "«                           ░       ┌─┐└╥┘ ║ \n",
       "«q13_2 -> 3 ────────────────░───────┤M├─╫──╫─\n",
       "«                           ░    ┌─┐└╥┘ ║  ║ \n",
       "«q13_3 -> 4 ────────────────░────┤M├─╫──╫──╫─\n",
       "«                           ░ ┌─┐└╥┘ ║  ║  ║ \n",
       "«q13_4 -> 5 ────────────────░─┤M├─╫──╫──╫──╫─\n",
       "«                           ░ └╥┘ ║  ║  ║  ║ \n",
       "«     c5: 5/═══════════════════╩══╩══╩══╩══╩═\n",
       "«                              0  1  2  3  4 </pre>"
      ],
      "text/plain": [
       "           ┌───┐                                                     ┌───┐ ░ »\n",
       "q13_5 -> 0 ┤ X ├─■───────────■──────────■─────────■─────────■────────┤ X ├─░─»\n",
       "           ├───┤ │           │          │         │         │P(2π/5) └───┘ ░ »\n",
       "q13_0 -> 1 ┤ H ├─┼───────────┼──────────┼─────────┼─────────■──────────────░─»\n",
       "           ├───┤ │           │          │         │P(4π/5)                 ░ »\n",
       "q13_1 -> 2 ┤ H ├─┼───────────┼──────────┼─────────■────────────────────────░─»\n",
       "           ├───┤ │           │          │P(8π/5)                           ░ »\n",
       "q13_2 -> 3 ┤ H ├─┼───────────┼──────────■──────────────────────────────────░─»\n",
       "           ├───┤ │           │P(16π/5)                                     ░ »\n",
       "q13_3 -> 4 ┤ H ├─┼───────────■─────────────────────────────────────────────░─»\n",
       "           ├───┤ │P(20.106)                                                ░ »\n",
       "q13_4 -> 5 ┤ H ├─■─────────────────────────────────────────────────────────░─»\n",
       "           └───┘                                                           ░ »\n",
       "     c5: 5/══════════════════════════════════════════════════════════════════»\n",
       "                                                                             »\n",
       "«                                                                              »\n",
       "«q13_5 -> 0 ───────────────────────────────────────────────────────────────────»\n",
       "«            ░       ░                 ░                           ░           »\n",
       "«q13_0 -> 1 ─░───────░─────────────────░───────────────────────────░───────────»\n",
       "«            ░       ░                 ░                           ░           »\n",
       "«q13_1 -> 2 ─░───────░─────────────────░───────────────────────────░──■────────»\n",
       "«            ░       ░                 ░                     ┌───┐ ░  │        »\n",
       "«q13_2 -> 3 ─░───────░─────────────────░──■─────────■────────┤ H ├─░──┼────────»\n",
       "«            ░       ░           ┌───┐ ░  │         │P(-π/2) └───┘ ░  │        »\n",
       "«q13_3 -> 4 ─░───────░──■────────┤ H ├─░──┼─────────■──────────────░──┼────────»\n",
       "«            ░ ┌───┐ ░  │P(-π/2) └───┘ ░  │P(-π/4)                 ░  │P(-π/8) »\n",
       "«q13_4 -> 5 ─░─┤ H ├─░──■──────────────░──■────────────────────────░──■────────»\n",
       "«            ░ └───┘ ░                 ░                           ░           »\n",
       "«     c5: 5/═══════════════════════════════════════════════════════════════════»\n",
       "«                                                                              »\n",
       "«                                                                      »\n",
       "«q13_5 -> 0 ───────────────────────────────────────────────────────────»\n",
       "«                                     ░                                »\n",
       "«q13_0 -> 1 ──────────────────────────░──■──────────■─────────■────────»\n",
       "«                               ┌───┐ ░  │          │         │        »\n",
       "«q13_1 -> 2 ─■─────────■────────┤ H ├─░──┼──────────┼─────────┼────────»\n",
       "«            │         │P(-π/2) └───┘ ░  │          │         │P(-π/4) »\n",
       "«q13_2 -> 3 ─┼─────────■──────────────░──┼──────────┼─────────■────────»\n",
       "«            │P(-π/4)                 ░  │          │P(-π/8)           »\n",
       "«q13_3 -> 4 ─■────────────────────────░──┼──────────■──────────────────»\n",
       "«                                     ░  │P(-π/16)                     »\n",
       "«q13_4 -> 5 ──────────────────────────░──■─────────────────────────────»\n",
       "«                                     ░                                »\n",
       "«     c5: 5/═══════════════════════════════════════════════════════════»\n",
       "«                                                                      »\n",
       "«                           ░                \n",
       "«q13_5 -> 0 ────────────────░────────────────\n",
       "«                     ┌───┐ ░             ┌─┐\n",
       "«q13_0 -> 1 ─■────────┤ H ├─░─────────────┤M├\n",
       "«            │P(-π/2) └───┘ ░          ┌─┐└╥┘\n",
       "«q13_1 -> 2 ─■──────────────░──────────┤M├─╫─\n",
       "«                           ░       ┌─┐└╥┘ ║ \n",
       "«q13_2 -> 3 ────────────────░───────┤M├─╫──╫─\n",
       "«                           ░    ┌─┐└╥┘ ║  ║ \n",
       "«q13_3 -> 4 ────────────────░────┤M├─╫──╫──╫─\n",
       "«                           ░ ┌─┐└╥┘ ║  ║  ║ \n",
       "«q13_4 -> 5 ────────────────░─┤M├─╫──╫──╫──╫─\n",
       "«                           ░ └╥┘ ║  ║  ║  ║ \n",
       "«     c5: 5/═══════════════════╩══╩══╩══╩══╩═\n",
       "«                              0  1  2  3  4 "
      ]
     },
     "execution_count": 43,
     "metadata": {},
     "output_type": "execute_result"
    }
   ],
   "source": [
    "num_qubits = 5\n",
    "qr = QuantumRegister(num_qubits+1)\n",
    "cr = ClassicalRegister(num_qubits)\n",
    "qc = QuantumCircuit(qr,cr)\n",
    "\n",
    "qc.compose(prep_state(num_qubits,5),inplace=True)\n",
    "qc.barrier()\n",
    "\n",
    "iQFT = QFT(num_qubits).inverse()\n",
    "qc.compose(iQFT,inplace=True)\n",
    "# qc.compose(QFT(num_qubits),inplace=True)\n",
    "# qc.barrier()\n",
    "# qc.append(qkQFT(num_qubits, inverse=True),range(num_qubits))\n",
    "\n",
    "\n",
    "qc.barrier()\n",
    "\n",
    "qc.measure(qr[:-1][::-1],cr)\n",
    "# qc.draw()\n",
    "# Transpile for Quantum Rings\n",
    "backend = QrBackendV2(provider, num_qubits=num_qubits+1)\n",
    "qc_tp = transpile(qc, backend)\n",
    "\n",
    "qc_tp.draw()"
   ]
  },
  {
   "cell_type": "code",
   "execution_count": 44,
   "id": "50c40b55-b254-4a73-8bb3-ac7e7235464d",
   "metadata": {},
   "outputs": [
    {
     "data": {
      "image/png": "[encoded data removed]",
      "text/plain": [
       "<Figure size 640x480 with 1 Axes>"
      ]
     },
     "execution_count": 44,
     "metadata": {},
     "output_type": "execute_result"
    }
   ],
   "source": [
    "# Execute with toolkit sampler\n",
    "sampler = QrSamplerV1(backend=backend)\n",
    "job = sampler.run(circuits=[qc_tp])\n",
    "\n",
    "counts = job.result().quasi_dists[0]\n",
    "plot_histogram(counts)"
   ]
  },
  {
   "cell_type": "code",
   "execution_count": 46,
   "id": "4a241869-c5e6-40a6-8ec2-e3e7e5222454",
   "metadata": {},
   "outputs": [],
   "source": [
    "fraction = 1/3"
   ]
  },
  {
   "cell_type": "code",
   "execution_count": null,
   "id": "e3f75567-0378-49e7-a36d-9465f7546484",
   "metadata": {},
   "outputs": [],
   "source": []
  },
  {
   "cell_type": "code",
   "execution_count": 47,
   "id": "510da14e-5c1f-4acc-8090-1e7c91187aaa",
   "metadata": {},
   "outputs": [],
   "source": [
    "binary_fraction = decimal_to_binary_fraction(fraction, bits=5)"
   ]
  },
  {
   "cell_type": "code",
   "execution_count": null,
   "id": "e088fb90-bd85-49e7-990b-7629cc7f26ed",
   "metadata": {},
   "outputs": [],
   "source": []
  },
  {
   "cell_type": "code",
   "execution_count": 48,
   "id": "8548583f-9e19-4e31-a6ba-d449e9618bb9",
   "metadata": {},
   "outputs": [],
   "source": [
    "def binary_to_int(binary):\n",
    "    return int(binary, 2)"
   ]
  },
  {
   "cell_type": "code",
   "execution_count": 49,
   "id": "6d881a43-f8ae-40f2-849f-d5a837554211",
   "metadata": {},
   "outputs": [
    {
     "data": {
      "text/plain": [
       "'01010'"
      ]
     },
     "execution_count": 49,
     "metadata": {},
     "output_type": "execute_result"
    }
   ],
   "source": [
    "binary_fraction[2:]"
   ]
  },
  {
   "cell_type": "code",
   "execution_count": 50,
   "id": "83bb0798-d34f-424a-99a8-7614f8c7a303",
   "metadata": {},
   "outputs": [
    {
     "data": {
      "text/plain": [
       "10"
      ]
     },
     "execution_count": 50,
     "metadata": {},
     "output_type": "execute_result"
    }
   ],
   "source": [
    "binary_to_int(binary_fraction[2:])"
   ]
  },
  {
   "cell_type": "markdown",
   "id": "7b07bf9a-9fb0-4e8d-9e5e-b0e3ad8086e0",
   "metadata": {},
   "source": [
    "# two phases"
   ]
  },
  {
   "cell_type": "markdown",
   "id": "2d75edcb-a67d-4fa0-934d-c0fc7132880c",
   "metadata": {},
   "source": [
    "create an equal superposition of $|\\psi_1\\rangle = \\frac{1}{\\sqrt{2^n}} \\sum_{x=0}^{2^n} e^{-2\\pi i x / 5} |x\\rangle$ and $|\\psi_2\\rangle = \\frac{1}{\\sqrt{2^n}} \\sum_{x=0}^{2^n} e^{-2\\pi i x / 2} |x\\rangle$"
   ]
  },
  {
   "cell_type": "code",
   "execution_count": 18,
   "id": "3b32ae20-9153-4d38-841b-2be2aaaf239c",
   "metadata": {},
   "outputs": [],
   "source": [
    "def prep_state_v2(num_qubits, period1,period2):\n",
    "\n",
    "    qr = QuantumRegister(num_qubits+1)\n",
    "    qc = QuantumCircuit(qr)\n",
    "    \n",
    "    qc.x(num_qubits)\n",
    "    \n",
    "    qc.h(range(0,num_qubits))\n",
    "\n",
    "    for j in range(num_qubits-1, -1,-1):\n",
    "        qc.cp(2*np.pi * 2**j / period1 ,j,num_qubits)\n",
    "    for j in range(num_qubits-1, -1,-1):\n",
    "        qc.cp(2*np.pi * 2**j / period2 ,j,num_qubits)\n",
    "    \n",
    "    qc.x(num_qubits)\n",
    "\n",
    "    return qc"
   ]
  },
  {
   "cell_type": "code",
   "execution_count": null,
   "id": "a2f5c2f1-aa2b-4a55-932d-47c1f27605bb",
   "metadata": {},
   "outputs": [],
   "source": [
    "num_qubits = 5"
   ]
  },
  {
   "cell_type": "code",
   "execution_count": 63,
   "id": "d83e3346-bb4d-46c4-b0d9-3d0ec9eefb3f",
   "metadata": {},
   "outputs": [],
   "source": [
    "qc = QuantumCircuit(num_qubits+1)\n",
    "qc.compose(prep_state(num_qubits,5),inplace=True)\n",
    "custom1 = qc.to_gate().control(1)\n",
    "\n",
    "qc = QuantumCircuit(num_qubits+1)\n",
    "qc.compose(prep_state(num_qubits,2),inplace=True)\n",
    "custom2 = qc.to_gate().control(1)"
   ]
  },
  {
   "cell_type": "code",
   "execution_count": 64,
   "id": "24cf5087-2786-48d8-9fe8-e8cee0cbeba5",
   "metadata": {},
   "outputs": [],
   "source": [
    "\n",
    "qr = QuantumRegister(num_qubits+2)\n",
    "cr = ClassicalRegister(num_qubits)\n",
    "qc = QuantumCircuit(qr,cr)\n",
    "\n",
    "qc.h(num_qubits+1)\n",
    "\n",
    "qc.append(custom1, [num_qubits+1]+list(range(num_qubits+1)))\n",
    "\n",
    "qc.x(num_qubits+1)\n",
    "\n",
    "\n",
    "qc.append(custom2, [num_qubits+1]+list(range(num_qubits+1)))\n",
    "\n",
    "# qc.compose(prep_state(num_qubits,3),inplace=True)\n",
    "\n",
    "qc.barrier()\n",
    "\n",
    "iQFT = QFT(num_qubits).inverse()\n",
    "qc.compose(iQFT,inplace=True)\n",
    "# qc.compose(QFT(num_qubits),inplace=True)\n",
    "# qc.barrier()\n",
    "# qc.append(qkQFT(num_qubits, inverse=True),range(num_qubits))\n",
    "\n",
    "\n",
    "qc.barrier()\n",
    "\n",
    "qc.measure(qr[:-2][::-1],cr)\n",
    "# qc.draw()\n",
    "# Transpile for Quantum Rings\n",
    "backend = QrBackendV2(provider, num_qubits=num_qubits+2)\n",
    "qc_tp = transpile(qc, backend)\n",
    "\n",
    "# qc_tp.draw()"
   ]
  },
  {
   "cell_type": "code",
   "execution_count": 65,
   "id": "9eb13605-cef3-4d3b-94f6-38c4eff6177c",
   "metadata": {},
   "outputs": [
    {
     "data": {
      "image/png": "[encoded data removed]",
      "text/plain": [
       "<Figure size 640x480 with 1 Axes>"
      ]
     },
     "execution_count": 65,
     "metadata": {},
     "output_type": "execute_result"
    }
   ],
   "source": [
    "# Execute with toolkit sampler\n",
    "sampler = QrSamplerV1(backend=backend)\n",
    "job = sampler.run(circuits=[qc_tp])\n",
    "\n",
    "counts = job.result().quasi_dists[0]\n",
    "plot_histogram(counts)"
   ]
  },
  {
   "cell_type": "code",
   "execution_count": 59,
   "id": "edcbe896-5912-435f-93a9-7e68ac829ad6",
   "metadata": {},
   "outputs": [
    {
     "data": {
      "text/plain": [
       "6"
      ]
     },
     "execution_count": 59,
     "metadata": {},
     "output_type": "execute_result"
    }
   ],
   "source": [
    "fraction = 1/5\n",
    "binary_fraction = decimal_to_binary_fraction(fraction, bits=5)\n",
    "binary_to_int(binary_fraction[2:])"
   ]
  },
  {
   "cell_type": "code",
   "execution_count": 62,
   "id": "76310009-960d-468a-80e6-074361f00f8d",
   "metadata": {},
   "outputs": [
    {
     "data": {
      "text/plain": [
       "16"
      ]
     },
     "execution_count": 62,
     "metadata": {},
     "output_type": "execute_result"
    }
   ],
   "source": [
    "fraction = 1/2\n",
    "binary_fraction = decimal_to_binary_fraction(fraction, bits=5)\n",
    "binary_to_int(binary_fraction[2:])"
   ]
  },
  {
   "cell_type": "code",
   "execution_count": 58,
   "id": "7a8fa7b0-5555-4300-8adf-11cded70583f",
   "metadata": {},
   "outputs": [
    {
     "data": {
      "text/plain": [
       "6"
      ]
     },
     "execution_count": 58,
     "metadata": {},
     "output_type": "execute_result"
    }
   ],
   "source": []
  },
  {
   "cell_type": "markdown",
   "id": "932b140b-49e4-4e36-a922-bda5c77aa026",
   "metadata": {},
   "source": [
    "# flip order of everything/"
   ]
  },
  {
   "cell_type": "code",
   "execution_count": 32,
   "id": "10eb3ada-670c-483f-873d-e95137b148f3",
   "metadata": {},
   "outputs": [],
   "source": [
    "def prep_state(num_qubits, period):\n",
    "\n",
    "    qr = QuantumRegister(num_qubits+1)\n",
    "    qc = QuantumCircuit(qr)\n",
    "    \n",
    "    qc.x(0)\n",
    "    \n",
    "    qc.h(range(1,num_qubits+1))\n",
    "\n",
    "    for j in range(1,num_qubits):\n",
    "        qc.cp(-2*np.pi * 2**(num_qubits-j) / period ,j,0)\n",
    "    \n",
    "    qc.x(0)\n",
    "\n",
    "    return qc"
   ]
  },
  {
   "cell_type": "code",
   "execution_count": 33,
   "id": "eac44877-3015-4fcf-91f2-295d7b8b8e00",
   "metadata": {},
   "outputs": [
    {
     "data": {
      "text/html": [
       "<pre style=\"word-wrap: normal;white-space: pre;background: #fff0;line-height: 1.1;font-family: &quot;Courier New&quot;,Courier,monospace\">       ┌───┐                                                          ┌───┐\n",
       "q32_0: ┤ X ├─■────────────■───────────■──────────■──────────■─────────┤ X ├\n",
       "       ├───┤ │P(-20.106)  │           │          │          │         └───┘\n",
       "q32_1: ┤ H ├─■────────────┼───────────┼──────────┼──────────┼──────────────\n",
       "       ├───┤              │P(-16π/5)  │          │          │              \n",
       "q32_2: ┤ H ├──────────────■───────────┼──────────┼──────────┼──────────────\n",
       "       ├───┤                          │P(-8π/5)  │          │              \n",
       "q32_3: ┤ H ├──────────────────────────■──────────┼──────────┼──────────────\n",
       "       ├───┤                                     │P(-4π/5)  │              \n",
       "q32_4: ┤ H ├─────────────────────────────────────■──────────┼──────────────\n",
       "       ├───┤                                                │P(-2π/5)      \n",
       "q32_5: ┤ H ├────────────────────────────────────────────────■──────────────\n",
       "       ├───┤                                                               \n",
       "q32_6: ┤ H ├───────────────────────────────────────────────────────────────\n",
       "       └───┘                                                               \n",
       "c12: 6/════════════════════════════════════════════════════════════════════\n",
       "                                                                           </pre>"
      ],
      "text/plain": [
       "       ┌───┐                                                          ┌───┐\n",
       "q32_0: ┤ X ├─■────────────■───────────■──────────■──────────■─────────┤ X ├\n",
       "       ├───┤ │P(-20.106)  │           │          │          │         └───┘\n",
       "q32_1: ┤ H ├─■────────────┼───────────┼──────────┼──────────┼──────────────\n",
       "       ├───┤              │P(-16π/5)  │          │          │              \n",
       "q32_2: ┤ H ├──────────────■───────────┼──────────┼──────────┼──────────────\n",
       "       ├───┤                          │P(-8π/5)  │          │              \n",
       "q32_3: ┤ H ├──────────────────────────■──────────┼──────────┼──────────────\n",
       "       ├───┤                                     │P(-4π/5)  │              \n",
       "q32_4: ┤ H ├─────────────────────────────────────■──────────┼──────────────\n",
       "       ├───┤                                                │P(-2π/5)      \n",
       "q32_5: ┤ H ├────────────────────────────────────────────────■──────────────\n",
       "       ├───┤                                                               \n",
       "q32_6: ┤ H ├───────────────────────────────────────────────────────────────\n",
       "       └───┘                                                               \n",
       "c12: 6/════════════════════════════════════════════════════════════════════\n",
       "                                                                           "
      ]
     },
     "metadata": {},
     "output_type": "display_data"
    },
    {
     "data": {
      "text/plain": [
       "[<matplotlib.lines.Line2D at 0x7d29e1fce510>]"
      ]
     },
     "execution_count": 33,
     "metadata": {},
     "output_type": "execute_result"
    },
    {
     "data": {
      "image/png": "[encoded data removed]",
      "text/plain": [
       "<Figure size 640x480 with 1 Axes>"
      ]
     },
     "metadata": {},
     "output_type": "display_data"
    }
   ],
   "source": [
    "num_qubits = 6\n",
    "qr = QuantumRegister(num_qubits+1)\n",
    "cr = ClassicalRegister(num_qubits)\n",
    "qc = QuantumCircuit(qr,cr)\n",
    "\n",
    "qc.compose(prep_state(num_qubits,10),inplace=True)\n",
    "display(qc.draw())\n",
    "\n",
    "sv = Statevector.from_instruction(qc)\n",
    "plt.plot(np.real(sv)[:32])"
   ]
  },
  {
   "cell_type": "code",
   "execution_count": null,
   "id": "993ecfa6-acfe-494d-8222-41dc42f5c01f",
   "metadata": {},
   "outputs": [],
   "source": []
  },
  {
   "cell_type": "code",
   "execution_count": 36,
   "id": "aadf842e-bc78-437d-b152-fa9663167ba1",
   "metadata": {},
   "outputs": [
    {
     "data": {
      "text/html": [
       "<pre style=\"word-wrap: normal;white-space: pre;background: #fff0;line-height: 1.1;font-family: &quot;Courier New&quot;,Courier,monospace\">       ┌───┐                                             ┌───┐ ░            »\n",
       "q40_0: ┤ X ├─■───────────■──────────■──────────■─────────┤ X ├─░────────────»\n",
       "       ├───┤ │P(-16π/5)  │          │          │         └───┘ ░  ░       ░ »\n",
       "q40_1: ┤ H ├─■───────────┼──────────┼──────────┼───────────────░──░───────░─»\n",
       "       ├───┤             │P(-8π/5)  │          │               ░  ░       ░ »\n",
       "q40_2: ┤ H ├─────────────■──────────┼──────────┼───────────────░──░───────░─»\n",
       "       ├───┤                        │P(-4π/5)  │               ░  ░       ░ »\n",
       "q40_3: ┤ H ├────────────────────────■──────────┼───────────────░──░───────░─»\n",
       "       ├───┤                                   │P(-2π/5)       ░  ░       ░ »\n",
       "q40_4: ┤ H ├───────────────────────────────────■───────────────░──░───────░─»\n",
       "       ├───┤                                                   ░  ░ ┌───┐ ░ »\n",
       "q40_5: ┤ H ├───────────────────────────────────────────────────░──░─┤ H ├─░─»\n",
       "       └───┘                                                   ░  ░ └───┘ ░ »\n",
       "c15: 5/═════════════════════════════════════════════════════════════════════»\n",
       "                                                                            »\n",
       "«                                                                       »\n",
       "«q40_0: ────────────────────────────────────────────────────────────────»\n",
       "«                         ░                               ░             »\n",
       "«q40_1: ──────────────────░───────────────────────────────░─────────────»\n",
       "«                         ░                               ░ ┌──────────┐»\n",
       "«q40_2: ──────────────────░───────────────────────────────░─┤ Rz(-π/8) ├»\n",
       "«                         ░ ┌──────────┐┌──────────┐┌───┐ ░ └────┬─────┘»\n",
       "«q40_3: ──────────────────░─┤ Rz(-π/4) ├┤ Rz(-π/2) ├┤ H ├─░──────┼──────»\n",
       "«       ┌──────────┐┌───┐ ░ └────┬─────┘└────┬─────┘└───┘ ░      │      »\n",
       "«q40_4: ┤ Rz(-π/2) ├┤ H ├─░──────┼───────────■────────────░──────┼──────»\n",
       "«       └────┬─────┘└───┘ ░      │                        ░      │      »\n",
       "«q40_5: ─────■────────────░──────■────────────────────────░──────■──────»\n",
       "«                         ░                               ░             »\n",
       "«c15: 5/════════════════════════════════════════════════════════════════»\n",
       "«                                                                       »\n",
       "«                                                                            »\n",
       "«q40_0: ─────────────────────────────────────────────────────────────────────»\n",
       "«                                     ░ ┌───────────┐┌──────────┐┌──────────┐»\n",
       "«q40_1: ──────────────────────────────░─┤ Rz(-π/16) ├┤ Rz(-π/8) ├┤ Rz(-π/4) ├»\n",
       "«       ┌──────────┐┌──────────┐┌───┐ ░ └─────┬─────┘└────┬─────┘└────┬─────┘»\n",
       "«q40_2: ┤ Rz(-π/4) ├┤ Rz(-π/2) ├┤ H ├─░───────┼───────────┼───────────┼──────»\n",
       "«       └────┬─────┘└────┬─────┘└───┘ ░       │           │           │      »\n",
       "«q40_3: ─────┼───────────■────────────░───────┼───────────┼───────────■──────»\n",
       "«            │                        ░       │           │                  »\n",
       "«q40_4: ─────■────────────────────────░───────┼───────────■──────────────────»\n",
       "«                                     ░       │                              »\n",
       "«q40_5: ──────────────────────────────░───────■──────────────────────────────»\n",
       "«                                     ░                                      »\n",
       "«c15: 5/═════════════════════════════════════════════════════════════════════»\n",
       "«                                                                            »\n",
       "«                         ░                \n",
       "«q40_0: ──────────────────░────────────────\n",
       "«       ┌──────────┐┌───┐ ░ ┌─┐            \n",
       "«q40_1: ┤ Rz(-π/2) ├┤ H ├─░─┤M├────────────\n",
       "«       └────┬─────┘└───┘ ░ └╥┘┌─┐         \n",
       "«q40_2: ─────■────────────░──╫─┤M├─────────\n",
       "«                         ░  ║ └╥┘┌─┐      \n",
       "«q40_3: ──────────────────░──╫──╫─┤M├──────\n",
       "«                         ░  ║  ║ └╥┘┌─┐   \n",
       "«q40_4: ──────────────────░──╫──╫──╫─┤M├───\n",
       "«                         ░  ║  ║  ║ └╥┘┌─┐\n",
       "«q40_5: ──────────────────░──╫──╫──╫──╫─┤M├\n",
       "«                         ░  ║  ║  ║  ║ └╥┘\n",
       "«c15: 5/═════════════════════╩══╩══╩══╩══╩═\n",
       "«                            0  1  2  3  4 </pre>"
      ],
      "text/plain": [
       "       ┌───┐                                             ┌───┐ ░            »\n",
       "q40_0: ┤ X ├─■───────────■──────────■──────────■─────────┤ X ├─░────────────»\n",
       "       ├───┤ │P(-16π/5)  │          │          │         └───┘ ░  ░       ░ »\n",
       "q40_1: ┤ H ├─■───────────┼──────────┼──────────┼───────────────░──░───────░─»\n",
       "       ├───┤             │P(-8π/5)  │          │               ░  ░       ░ »\n",
       "q40_2: ┤ H ├─────────────■──────────┼──────────┼───────────────░──░───────░─»\n",
       "       ├───┤                        │P(-4π/5)  │               ░  ░       ░ »\n",
       "q40_3: ┤ H ├────────────────────────■──────────┼───────────────░──░───────░─»\n",
       "       ├───┤                                   │P(-2π/5)       ░  ░       ░ »\n",
       "q40_4: ┤ H ├───────────────────────────────────■───────────────░──░───────░─»\n",
       "       ├───┤                                                   ░  ░ ┌───┐ ░ »\n",
       "q40_5: ┤ H ├───────────────────────────────────────────────────░──░─┤ H ├─░─»\n",
       "       └───┘                                                   ░  ░ └───┘ ░ »\n",
       "c15: 5/═════════════════════════════════════════════════════════════════════»\n",
       "                                                                            »\n",
       "«                                                                       »\n",
       "«q40_0: ────────────────────────────────────────────────────────────────»\n",
       "«                         ░                               ░             »\n",
       "«q40_1: ──────────────────░───────────────────────────────░─────────────»\n",
       "«                         ░                               ░ ┌──────────┐»\n",
       "«q40_2: ──────────────────░───────────────────────────────░─┤ Rz(-π/8) ├»\n",
       "«                         ░ ┌──────────┐┌──────────┐┌───┐ ░ └────┬─────┘»\n",
       "«q40_3: ──────────────────░─┤ Rz(-π/4) ├┤ Rz(-π/2) ├┤ H ├─░──────┼──────»\n",
       "«       ┌──────────┐┌───┐ ░ └────┬─────┘└────┬─────┘└───┘ ░      │      »\n",
       "«q40_4: ┤ Rz(-π/2) ├┤ H ├─░──────┼───────────■────────────░──────┼──────»\n",
       "«       └────┬─────┘└───┘ ░      │                        ░      │      »\n",
       "«q40_5: ─────■────────────░──────■────────────────────────░──────■──────»\n",
       "«                         ░                               ░             »\n",
       "«c15: 5/════════════════════════════════════════════════════════════════»\n",
       "«                                                                       »\n",
       "«                                                                            »\n",
       "«q40_0: ─────────────────────────────────────────────────────────────────────»\n",
       "«                                     ░ ┌───────────┐┌──────────┐┌──────────┐»\n",
       "«q40_1: ──────────────────────────────░─┤ Rz(-π/16) ├┤ Rz(-π/8) ├┤ Rz(-π/4) ├»\n",
       "«       ┌──────────┐┌──────────┐┌───┐ ░ └─────┬─────┘└────┬─────┘└────┬─────┘»\n",
       "«q40_2: ┤ Rz(-π/4) ├┤ Rz(-π/2) ├┤ H ├─░───────┼───────────┼───────────┼──────»\n",
       "«       └────┬─────┘└────┬─────┘└───┘ ░       │           │           │      »\n",
       "«q40_3: ─────┼───────────■────────────░───────┼───────────┼───────────■──────»\n",
       "«            │                        ░       │           │                  »\n",
       "«q40_4: ─────■────────────────────────░───────┼───────────■──────────────────»\n",
       "«                                     ░       │                              »\n",
       "«q40_5: ──────────────────────────────░───────■──────────────────────────────»\n",
       "«                                     ░                                      »\n",
       "«c15: 5/═════════════════════════════════════════════════════════════════════»\n",
       "«                                                                            »\n",
       "«                         ░                \n",
       "«q40_0: ──────────────────░────────────────\n",
       "«       ┌──────────┐┌───┐ ░ ┌─┐            \n",
       "«q40_1: ┤ Rz(-π/2) ├┤ H ├─░─┤M├────────────\n",
       "«       └────┬─────┘└───┘ ░ └╥┘┌─┐         \n",
       "«q40_2: ─────■────────────░──╫─┤M├─────────\n",
       "«                         ░  ║ └╥┘┌─┐      \n",
       "«q40_3: ──────────────────░──╫──╫─┤M├──────\n",
       "«                         ░  ║  ║ └╥┘┌─┐   \n",
       "«q40_4: ──────────────────░──╫──╫──╫─┤M├───\n",
       "«                         ░  ║  ║  ║ └╥┘┌─┐\n",
       "«q40_5: ──────────────────░──╫──╫──╫──╫─┤M├\n",
       "«                         ░  ║  ║  ║  ║ └╥┘\n",
       "«c15: 5/═════════════════════╩══╩══╩══╩══╩═\n",
       "«                            0  1  2  3  4 "
      ]
     },
     "execution_count": 36,
     "metadata": {},
     "output_type": "execute_result"
    }
   ],
   "source": [
    "num_qubits = 5\n",
    "qr = QuantumRegister(num_qubits+1)\n",
    "cr = ClassicalRegister(num_qubits)\n",
    "qc = QuantumCircuit(qr,cr)\n",
    "\n",
    "qc.compose(prep_state(num_qubits,10),inplace=True)\n",
    "qc.barrier()\n",
    "iQFT = QFT(num_qubits).inverse()\n",
    "qc.compose(iQFT,qr[1:],inplace=True)\n",
    "\n",
    "\n",
    "qc.barrier()\n",
    "\n",
    "qc.measure(qr[1:],cr)\n",
    "qc.draw()"
   ]
  },
  {
   "cell_type": "code",
   "execution_count": 37,
   "id": "1813f45a-75e8-436f-aea0-f6929f3e4b2f",
   "metadata": {},
   "outputs": [],
   "source": [
    "# Transpile for Quantum Rings\n",
    "backend = QrBackendV2(provider, num_qubits=num_qubits+1)\n",
    "qc_tp = transpile(qc, backend)\n",
    "\n",
    "# qc_tp.draw()"
   ]
  },
  {
   "cell_type": "code",
   "execution_count": 38,
   "id": "4ca60196-bf41-48a6-bd16-4f8e144de7ce",
   "metadata": {},
   "outputs": [
    {
     "data": {
      "image/png": "[encoded data removed]",
      "text/plain": [
       "<Figure size 640x480 with 1 Axes>"
      ]
     },
     "execution_count": 38,
     "metadata": {},
     "output_type": "execute_result"
    }
   ],
   "source": [
    "# Execute with toolkit sampler\n",
    "sampler = QrSamplerV1(backend=backend)\n",
    "job = sampler.run(circuits=[qc_tp])\n",
    "\n",
    "counts = job.result().quasi_dists[0]\n",
    "plot_histogram(counts)"
   ]
  },
  {
   "cell_type": "code",
   "execution_count": null,
   "id": "6992f9d4-e207-4765-a91b-de4888b2c222",
   "metadata": {},
   "outputs": [],
   "source": []
  }
 ],
 "metadata": {
  "kernelspec": {
   "display_name": "Python 3 QuantumRings",
   "language": "python",
   "name": "python3_quantu_8bt6c1"
  },
  "language_info": {
   "codemirror_mode": {
    "name": "ipython",
    "version": 3
   },
   "file_extension": ".py",
   "mimetype": "text/x-python",
   "name": "python",
   "nbconvert_exporter": "python",
   "pygments_lexer": "ipython3",
   "version": "3.11.9"
  }
 },
 "nbformat": 4,
 "nbformat_minor": 5
}
