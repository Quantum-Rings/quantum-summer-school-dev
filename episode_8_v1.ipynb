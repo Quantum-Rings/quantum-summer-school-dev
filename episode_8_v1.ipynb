{
 "cells": [
  {
   "cell_type": "code",
   "execution_count": 1,
   "id": "33b7aff8-788c-4b76-9e41-95d674e5533e",
   "metadata": {},
   "outputs": [],
   "source": [
    "from qiskit.quantum_info import Statevector\n",
    "import matplotlib.pyplot as plt"
   ]
  },
  {
   "cell_type": "code",
   "execution_count": 2,
   "id": "47361186-771d-4b90-9054-b6795644a2b4",
   "metadata": {},
   "outputs": [],
   "source": [
    "from qiskit import QuantumCircuit, QuantumRegister, ClassicalRegister, transpile\n",
    "from qiskit.circuit.library import GroverOperator, MCMT, ZGate\n",
    "from qiskit.circuit.library import QFT as qkQFT\n",
    "from qiskit.visualization import plot_histogram\n",
    "from quantumrings.toolkit.qiskit import QrBackendV2, QrSamplerV1\n",
    "from QuantumRingsLib import QuantumRingsProvider\n",
    "\n",
    "import numpy as np\n",
    "\n",
    "# Provider & backend (toolkit)\n",
    "provider = QuantumRingsProvider()\n",
    "backend = QrBackendV2(provider, num_qubits=2)"
   ]
  },
  {
   "cell_type": "code",
   "execution_count": null,
   "id": "0d06889e-4fb8-400e-a591-e5ec26cc47c8",
   "metadata": {},
   "outputs": [],
   "source": []
  },
  {
   "cell_type": "code",
   "execution_count": 7,
   "id": "2778b485-cc76-4510-aa0a-ef8cb5abdf31",
   "metadata": {},
   "outputs": [],
   "source": [
    "def prep_state(num_qubits, period):\n",
    "\n",
    "    qr = QuantumRegister(num_qubits+1)\n",
    "    qc = QuantumCircuit(qr)\n",
    "    \n",
    "    qc.x(num_qubits)\n",
    "    \n",
    "    qc.h(range(0,num_qubits))\n",
    "\n",
    "    for j in range(num_qubits-1, -1,-1):\n",
    "        qc.cp(2*np.pi * 2**j / period ,j,num_qubits)\n",
    "    \n",
    "    qc.x(num_qubits)\n",
    "\n",
    "    return qc"
   ]
  },
  {
   "cell_type": "code",
   "execution_count": 16,
   "id": "2dd3c3b9-1f40-4d80-b094-d9cfeda401ed",
   "metadata": {},
   "outputs": [
    {
     "data": {
      "text/html": [
       "<pre style=\"word-wrap: normal;white-space: pre;background: #fff0;line-height: 1.1;font-family: &quot;Courier New&quot;,Courier,monospace\">       ┌───┐                                                            \n",
       "q15_0: ┤ H ├──────────────────────────────────────────────■─────────────\n",
       "       ├───┤                                              │             \n",
       "q15_1: ┤ H ├───────────────────────────────────■──────────┼─────────────\n",
       "       ├───┤                                   │          │             \n",
       "q15_2: ┤ H ├────────────────────────■──────────┼──────────┼─────────────\n",
       "       ├───┤                        │          │          │             \n",
       "q15_3: ┤ H ├─────────────■──────────┼──────────┼──────────┼─────────────\n",
       "       ├───┤             │          │          │          │             \n",
       "q15_4: ┤ H ├─■───────────┼──────────┼──────────┼──────────┼─────────────\n",
       "       ├───┤ │P(-16π/5)  │P(-8π/5)  │P(-4π/5)  │P(-2π/5)  │P(-π/5) ┌───┐\n",
       "q15_5: ┤ X ├─■───────────■──────────■──────────■──────────■────────┤ X ├\n",
       "       └───┘                                                       └───┘\n",
       " c7: 5/═════════════════════════════════════════════════════════════════\n",
       "                                                                        </pre>"
      ],
      "text/plain": [
       "       ┌───┐                                                            \n",
       "q15_0: ┤ H ├──────────────────────────────────────────────■─────────────\n",
       "       ├───┤                                              │             \n",
       "q15_1: ┤ H ├───────────────────────────────────■──────────┼─────────────\n",
       "       ├───┤                                   │          │             \n",
       "q15_2: ┤ H ├────────────────────────■──────────┼──────────┼─────────────\n",
       "       ├───┤                        │          │          │             \n",
       "q15_3: ┤ H ├─────────────■──────────┼──────────┼──────────┼─────────────\n",
       "       ├───┤             │          │          │          │             \n",
       "q15_4: ┤ H ├─■───────────┼──────────┼──────────┼──────────┼─────────────\n",
       "       ├───┤ │P(-16π/5)  │P(-8π/5)  │P(-4π/5)  │P(-2π/5)  │P(-π/5) ┌───┐\n",
       "q15_5: ┤ X ├─■───────────■──────────■──────────■──────────■────────┤ X ├\n",
       "       └───┘                                                       └───┘\n",
       " c7: 5/═════════════════════════════════════════════════════════════════\n",
       "                                                                        "
      ]
     },
     "metadata": {},
     "output_type": "display_data"
    },
    {
     "data": {
      "text/plain": [
       "[<matplotlib.lines.Line2D at 0x7c88d0d11750>]"
      ]
     },
     "execution_count": 16,
     "metadata": {},
     "output_type": "execute_result"
    },
    {
     "data": {
      "image/png": "[encoded data removed]",
      "text/plain": [
       "<Figure size 640x480 with 1 Axes>"
      ]
     },
     "metadata": {},
     "output_type": "display_data"
    }
   ],
   "source": [
    "num_qubits = 5\n",
    "qr = QuantumRegister(num_qubits+1)\n",
    "cr = ClassicalRegister(num_qubits)\n",
    "qc = QuantumCircuit(qr,cr)\n",
    "\n",
    "qc.compose(prep_state(num_qubits,10),inplace=True)\n",
    "display(qc.draw())\n",
    "\n",
    "sv = Statevector.from_instruction(qc)\n",
    "plt.plot(np.real(sv))"
   ]
  },
  {
   "cell_type": "code",
   "execution_count": 10,
   "id": "e6ffef71-b878-4469-bcac-9a8b40affd29",
   "metadata": {},
   "outputs": [],
   "source": [
    "def QFT(num_qubits):\n",
    "    qr = QuantumRegister(num_qubits)\n",
    "    qc = QuantumCircuit(qr,cr)\n",
    "    \n",
    "    # for i in range(num_qubits-1,-1,-1):\n",
    "    #     qc.h(i)\n",
    "\n",
    "    for i in range(0, num_qubits):\n",
    "        qc.h(i)\n",
    "\n",
    "        for j in range(i+1,num_qubits,1):\n",
    "            denominator = 2**(j-i)\n",
    "            qc.cp(np.pi/denominator, j,i)\n",
    "    \n",
    "        # for j in range(i-1,-1,-1):\n",
    "        #     denominator = 2**(i-j)\n",
    "        #     qc.cp(np.pi/denominator, j,i)\n",
    "        qc.barrier()\n",
    "\n",
    "    # qc.swap(0,2)\n",
    "\n",
    "    return qc"
   ]
  },
  {
   "cell_type": "code",
   "execution_count": 7,
   "id": "1a633e0a-1733-42ce-9e29-0d05e9cb53f4",
   "metadata": {},
   "outputs": [
    {
     "data": {
      "text/html": [
       "<pre style=\"word-wrap: normal;white-space: pre;background: #fff0;line-height: 1.1;font-family: &quot;Courier New&quot;,Courier,monospace\">                ░ ┌───┐ ░                 ░                           ░ »\n",
       "     q2_0 -> 0 ─░─┤ H ├─░──■──────────────░──■────────────────────────░─»\n",
       "                ░ └───┘ ░  │P(-π/2) ┌───┐ ░  │                        ░ »\n",
       "     q2_1 -> 1 ─░───────░──■────────┤ H ├─░──┼─────────■──────────────░─»\n",
       "                ░       ░           └───┘ ░  │P(-π/4)  │P(-π/2) ┌───┐ ░ »\n",
       "     q2_2 -> 2 ─░───────░─────────────────░──■─────────■────────┤ H ├─░─»\n",
       "                ░       ░                 ░                     └───┘ ░ »\n",
       "     q2_3 -> 3 ─░───────░─────────────────░───────────────────────────░─»\n",
       "                ░       ░                 ░                           ░ »\n",
       "ancilla_0 -> 4 ─────────────────────────────────────────────────────────»\n",
       "                                                                        »\n",
       "         c1: 4/═════════════════════════════════════════════════════════»\n",
       "                                                                        »\n",
       "«                                                   ░ ┌─┐         \n",
       "«     q2_0 -> 0 ─■──────────────────────────────────░─┤M├─────────\n",
       "«                │                                  ░ └╥┘┌─┐      \n",
       "«     q2_1 -> 1 ─┼─────────■────────────────────────░──╫─┤M├──────\n",
       "«                │         │                        ░  ║ └╥┘┌─┐   \n",
       "«     q2_2 -> 2 ─┼─────────┼─────────■──────────────░──╫──╫─┤M├───\n",
       "«                │P(-π/8)  │P(-π/4)  │P(-π/2) ┌───┐ ░  ║  ║ └╥┘┌─┐\n",
       "«     q2_3 -> 3 ─■─────────■─────────■────────┤ H ├─░──╫──╫──╫─┤M├\n",
       "«                                             └───┘ ░  ║  ║  ║ └╥┘\n",
       "«ancilla_0 -> 4 ───────────────────────────────────────╫──╫──╫──╫─\n",
       "«                                                      ║  ║  ║  ║ \n",
       "«         c1: 4/═══════════════════════════════════════╩══╩══╩══╩═\n",
       "«                                                      0  1  2  3 </pre>"
      ],
      "text/plain": [
       "                ░ ┌───┐ ░                 ░                           ░ »\n",
       "     q2_0 -> 0 ─░─┤ H ├─░──■──────────────░──■────────────────────────░─»\n",
       "                ░ └───┘ ░  │P(-π/2) ┌───┐ ░  │                        ░ »\n",
       "     q2_1 -> 1 ─░───────░──■────────┤ H ├─░──┼─────────■──────────────░─»\n",
       "                ░       ░           └───┘ ░  │P(-π/4)  │P(-π/2) ┌───┐ ░ »\n",
       "     q2_2 -> 2 ─░───────░─────────────────░──■─────────■────────┤ H ├─░─»\n",
       "                ░       ░                 ░                     └───┘ ░ »\n",
       "     q2_3 -> 3 ─░───────░─────────────────░───────────────────────────░─»\n",
       "                ░       ░                 ░                           ░ »\n",
       "ancilla_0 -> 4 ─────────────────────────────────────────────────────────»\n",
       "                                                                        »\n",
       "         c1: 4/═════════════════════════════════════════════════════════»\n",
       "                                                                        »\n",
       "«                                                   ░ ┌─┐         \n",
       "«     q2_0 -> 0 ─■──────────────────────────────────░─┤M├─────────\n",
       "«                │                                  ░ └╥┘┌─┐      \n",
       "«     q2_1 -> 1 ─┼─────────■────────────────────────░──╫─┤M├──────\n",
       "«                │         │                        ░  ║ └╥┘┌─┐   \n",
       "«     q2_2 -> 2 ─┼─────────┼─────────■──────────────░──╫──╫─┤M├───\n",
       "«                │P(-π/8)  │P(-π/4)  │P(-π/2) ┌───┐ ░  ║  ║ └╥┘┌─┐\n",
       "«     q2_3 -> 3 ─■─────────■─────────■────────┤ H ├─░──╫──╫──╫─┤M├\n",
       "«                                             └───┘ ░  ║  ║  ║ └╥┘\n",
       "«ancilla_0 -> 4 ───────────────────────────────────────╫──╫──╫──╫─\n",
       "«                                                      ║  ║  ║  ║ \n",
       "«         c1: 4/═══════════════════════════════════════╩══╩══╩══╩═\n",
       "«                                                      0  1  2  3 "
      ]
     },
     "execution_count": 7,
     "metadata": {},
     "output_type": "execute_result"
    }
   ],
   "source": [
    "num_qubits = 4\n",
    "qr = QuantumRegister(num_qubits)\n",
    "cr = ClassicalRegister(num_qubits)\n",
    "qc = QuantumCircuit(qr,cr)\n",
    "\n",
    "iQFT = QFT(num_qubits).inverse()\n",
    "qc.compose(iQFT,inplace=True)\n",
    "# qc.compose(QFT(num_qubits),inplace=True)\n",
    "# qc.barrier()\n",
    "# qc.append(qkQFT(num_qubits, inverse=True),range(num_qubits))\n",
    "\n",
    "qc.barrier()\n",
    "\n",
    "qc.measure(qr,cr)\n",
    "backend = QrBackendV2(provider, num_qubits=num_qubits+1)\n",
    "qc_tp = transpile(qc, backend)\n",
    "\n",
    "qc_tp.draw()\n",
    "# qc.draw()"
   ]
  },
  {
   "cell_type": "code",
   "execution_count": 8,
   "id": "8233de48-499e-4780-997e-f4a59c0c87e5",
   "metadata": {},
   "outputs": [
    {
     "data": {
      "text/html": [
       "<pre style=\"word-wrap: normal;white-space: pre;background: #fff0;line-height: 1.1;font-family: &quot;Courier New&quot;,Courier,monospace\">               ┌───┐                                                  »\n",
       "     q4_3 -> 0 ┤ H ├─■──────────────■───────────────────■─────────────»\n",
       "               └───┘ │P(-π/2) ┌───┐ │                   │             »\n",
       "     q4_2 -> 1 ──────■────────┤ H ├─┼─────────■─────────┼─────────────»\n",
       "                              └───┘ │P(-π/4)  │P(-π/2)  │        ┌───┐»\n",
       "     q4_1 -> 2 ─────────────────────■─────────■─────────┼────────┤ H ├»\n",
       "                                                        │P(-π/8) └───┘»\n",
       "     q4_0 -> 3 ─────────────────────────────────────────■─────────────»\n",
       "                                                                      »\n",
       "ancilla_0 -> 4 ───────────────────────────────────────────────────────»\n",
       "                                                                      »\n",
       "         c2: 4/═══════════════════════════════════════════════════════»\n",
       "                                                                      »\n",
       "«                                         ░ ┌─┐         \n",
       "«     q4_3 -> 0 ──────────────────────────░─┤M├─────────\n",
       "«                                         ░ └╥┘┌─┐      \n",
       "«     q4_2 -> 1 ─■────────────────────────░──╫─┤M├──────\n",
       "«                │                        ░  ║ └╥┘┌─┐   \n",
       "«     q4_1 -> 2 ─┼─────────■──────────────░──╫──╫─┤M├───\n",
       "«                │P(-π/4)  │P(-π/2) ┌───┐ ░  ║  ║ └╥┘┌─┐\n",
       "«     q4_0 -> 3 ─■─────────■────────┤ H ├─░──╫──╫──╫─┤M├\n",
       "«                                   └───┘ ░  ║  ║  ║ └╥┘\n",
       "«ancilla_0 -> 4 ─────────────────────────────╫──╫──╫──╫─\n",
       "«                                            ║  ║  ║  ║ \n",
       "«         c2: 4/═════════════════════════════╩══╩══╩══╩═\n",
       "«                                            0  1  2  3 </pre>"
      ],
      "text/plain": [
       "               ┌───┐                                                  »\n",
       "     q4_3 -> 0 ┤ H ├─■──────────────■───────────────────■─────────────»\n",
       "               └───┘ │P(-π/2) ┌───┐ │                   │             »\n",
       "     q4_2 -> 1 ──────■────────┤ H ├─┼─────────■─────────┼─────────────»\n",
       "                              └───┘ │P(-π/4)  │P(-π/2)  │        ┌───┐»\n",
       "     q4_1 -> 2 ─────────────────────■─────────■─────────┼────────┤ H ├»\n",
       "                                                        │P(-π/8) └───┘»\n",
       "     q4_0 -> 3 ─────────────────────────────────────────■─────────────»\n",
       "                                                                      »\n",
       "ancilla_0 -> 4 ───────────────────────────────────────────────────────»\n",
       "                                                                      »\n",
       "         c2: 4/═══════════════════════════════════════════════════════»\n",
       "                                                                      »\n",
       "«                                         ░ ┌─┐         \n",
       "«     q4_3 -> 0 ──────────────────────────░─┤M├─────────\n",
       "«                                         ░ └╥┘┌─┐      \n",
       "«     q4_2 -> 1 ─■────────────────────────░──╫─┤M├──────\n",
       "«                │                        ░  ║ └╥┘┌─┐   \n",
       "«     q4_1 -> 2 ─┼─────────■──────────────░──╫──╫─┤M├───\n",
       "«                │P(-π/4)  │P(-π/2) ┌───┐ ░  ║  ║ └╥┘┌─┐\n",
       "«     q4_0 -> 3 ─■─────────■────────┤ H ├─░──╫──╫──╫─┤M├\n",
       "«                                   └───┘ ░  ║  ║  ║ └╥┘\n",
       "«ancilla_0 -> 4 ─────────────────────────────╫──╫──╫──╫─\n",
       "«                                            ║  ║  ║  ║ \n",
       "«         c2: 4/═════════════════════════════╩══╩══╩══╩═\n",
       "«                                            0  1  2  3 "
      ]
     },
     "execution_count": 8,
     "metadata": {},
     "output_type": "execute_result"
    }
   ],
   "source": [
    "num_qubits = 4\n",
    "qr = QuantumRegister(num_qubits)\n",
    "cr = ClassicalRegister(num_qubits)\n",
    "qc = QuantumCircuit(qr,cr)\n",
    "\n",
    "# iQFT = QFT(num_qubits).inverse()\n",
    "# qc.compose(iQFT,inplace=True)\n",
    "# qc.compose(QFT(num_qubits),inplace=True)\n",
    "# qc.barrier()\n",
    "qc.append(qkQFT(num_qubits, inverse=True),range(num_qubits))\n",
    "\n",
    "qc.barrier()\n",
    "\n",
    "qc.measure(qr,cr)\n",
    "backend = QrBackendV2(provider, num_qubits=num_qubits+1)\n",
    "qc_tp = transpile(qc, backend)\n",
    "\n",
    "qc_tp.draw()\n",
    "# qc.draw()"
   ]
  },
  {
   "cell_type": "code",
   "execution_count": 15,
   "id": "15edcd9e-690a-4b36-bd1d-44947c6f7774",
   "metadata": {},
   "outputs": [
    {
     "data": {
      "text/html": [
       "<pre style=\"word-wrap: normal;white-space: pre;background: #fff0;line-height: 1.1;font-family: &quot;Courier New&quot;,Courier,monospace\">           ┌───┐                                                  ┌───┐ ░    »\n",
       "q10_5 -> 0 ┤ X ├─■──────────■─────────■─────────■─────────■───────┤ X ├─░────»\n",
       "           ├───┤ │          │         │         │         │P(π/5) └───┘ ░  ░ »\n",
       "q10_0 -> 1 ┤ H ├─┼──────────┼─────────┼─────────┼─────────■─────────────░──░─»\n",
       "           ├───┤ │          │         │         │P(2π/5)                ░  ░ »\n",
       "q10_1 -> 2 ┤ H ├─┼──────────┼─────────┼─────────■───────────────────────░──░─»\n",
       "           ├───┤ │          │         │P(4π/5)                          ░  ░ »\n",
       "q10_2 -> 3 ┤ H ├─┼──────────┼─────────■─────────────────────────────────░──░─»\n",
       "           ├───┤ │          │P(8π/5)                                    ░  ░ »\n",
       "q10_3 -> 4 ┤ H ├─┼──────────■───────────────────────────────────────────░──░─»\n",
       "           ├───┤ │P(16π/5)                                              ░  ░ »\n",
       "q10_4 -> 5 ┤ H ├─■──────────────────────────────────────────────────────░──░─»\n",
       "           └───┘                                                        ░  ░ »\n",
       "     c4: 5/══════════════════════════════════════════════════════════════════»\n",
       "                                                                             »\n",
       "«                                                                           »\n",
       "«q10_5 -> 0 ────────────────────────────────────────────────────────────────»\n",
       "«                 ░                 ░                           ░           »\n",
       "«q10_0 -> 1 ──────░─────────────────░───────────────────────────░───────────»\n",
       "«                 ░                 ░                           ░           »\n",
       "«q10_1 -> 2 ──────░─────────────────░───────────────────────────░──■────────»\n",
       "«                 ░                 ░                     ┌───┐ ░  │        »\n",
       "«q10_2 -> 3 ──────░─────────────────░──■─────────■────────┤ H ├─░──┼────────»\n",
       "«                 ░           ┌───┐ ░  │         │P(-π/2) └───┘ ░  │        »\n",
       "«q10_3 -> 4 ──────░──■────────┤ H ├─░──┼─────────■──────────────░──┼────────»\n",
       "«           ┌───┐ ░  │P(-π/2) └───┘ ░  │P(-π/4)                 ░  │P(-π/8) »\n",
       "«q10_4 -> 5 ┤ H ├─░──■──────────────░──■────────────────────────░──■────────»\n",
       "«           └───┘ ░                 ░                           ░           »\n",
       "«     c4: 5/════════════════════════════════════════════════════════════════»\n",
       "«                                                                           »\n",
       "«                                                                      »\n",
       "«q10_5 -> 0 ───────────────────────────────────────────────────────────»\n",
       "«                                     ░                                »\n",
       "«q10_0 -> 1 ──────────────────────────░──■──────────■─────────■────────»\n",
       "«                               ┌───┐ ░  │          │         │        »\n",
       "«q10_1 -> 2 ─■─────────■────────┤ H ├─░──┼──────────┼─────────┼────────»\n",
       "«            │         │P(-π/2) └───┘ ░  │          │         │P(-π/4) »\n",
       "«q10_2 -> 3 ─┼─────────■──────────────░──┼──────────┼─────────■────────»\n",
       "«            │P(-π/4)                 ░  │          │P(-π/8)           »\n",
       "«q10_3 -> 4 ─■────────────────────────░──┼──────────■──────────────────»\n",
       "«                                     ░  │P(-π/16)                     »\n",
       "«q10_4 -> 5 ──────────────────────────░──■─────────────────────────────»\n",
       "«                                     ░                                »\n",
       "«     c4: 5/═══════════════════════════════════════════════════════════»\n",
       "«                                                                      »\n",
       "«                           ░                \n",
       "«q10_5 -> 0 ────────────────░────────────────\n",
       "«                     ┌───┐ ░             ┌─┐\n",
       "«q10_0 -> 1 ─■────────┤ H ├─░─────────────┤M├\n",
       "«            │P(-π/2) └───┘ ░          ┌─┐└╥┘\n",
       "«q10_1 -> 2 ─■──────────────░──────────┤M├─╫─\n",
       "«                           ░       ┌─┐└╥┘ ║ \n",
       "«q10_2 -> 3 ────────────────░───────┤M├─╫──╫─\n",
       "«                           ░    ┌─┐└╥┘ ║  ║ \n",
       "«q10_3 -> 4 ────────────────░────┤M├─╫──╫──╫─\n",
       "«                           ░ ┌─┐└╥┘ ║  ║  ║ \n",
       "«q10_4 -> 5 ────────────────░─┤M├─╫──╫──╫──╫─\n",
       "«                           ░ └╥┘ ║  ║  ║  ║ \n",
       "«     c4: 5/═══════════════════╩══╩══╩══╩══╩═\n",
       "«                              0  1  2  3  4 </pre>"
      ],
      "text/plain": [
       "           ┌───┐                                                  ┌───┐ ░    »\n",
       "q10_5 -> 0 ┤ X ├─■──────────■─────────■─────────■─────────■───────┤ X ├─░────»\n",
       "           ├───┤ │          │         │         │         │P(π/5) └───┘ ░  ░ »\n",
       "q10_0 -> 1 ┤ H ├─┼──────────┼─────────┼─────────┼─────────■─────────────░──░─»\n",
       "           ├───┤ │          │         │         │P(2π/5)                ░  ░ »\n",
       "q10_1 -> 2 ┤ H ├─┼──────────┼─────────┼─────────■───────────────────────░──░─»\n",
       "           ├───┤ │          │         │P(4π/5)                          ░  ░ »\n",
       "q10_2 -> 3 ┤ H ├─┼──────────┼─────────■─────────────────────────────────░──░─»\n",
       "           ├───┤ │          │P(8π/5)                                    ░  ░ »\n",
       "q10_3 -> 4 ┤ H ├─┼──────────■───────────────────────────────────────────░──░─»\n",
       "           ├───┤ │P(16π/5)                                              ░  ░ »\n",
       "q10_4 -> 5 ┤ H ├─■──────────────────────────────────────────────────────░──░─»\n",
       "           └───┘                                                        ░  ░ »\n",
       "     c4: 5/══════════════════════════════════════════════════════════════════»\n",
       "                                                                             »\n",
       "«                                                                           »\n",
       "«q10_5 -> 0 ────────────────────────────────────────────────────────────────»\n",
       "«                 ░                 ░                           ░           »\n",
       "«q10_0 -> 1 ──────░─────────────────░───────────────────────────░───────────»\n",
       "«                 ░                 ░                           ░           »\n",
       "«q10_1 -> 2 ──────░─────────────────░───────────────────────────░──■────────»\n",
       "«                 ░                 ░                     ┌───┐ ░  │        »\n",
       "«q10_2 -> 3 ──────░─────────────────░──■─────────■────────┤ H ├─░──┼────────»\n",
       "«                 ░           ┌───┐ ░  │         │P(-π/2) └───┘ ░  │        »\n",
       "«q10_3 -> 4 ──────░──■────────┤ H ├─░──┼─────────■──────────────░──┼────────»\n",
       "«           ┌───┐ ░  │P(-π/2) └───┘ ░  │P(-π/4)                 ░  │P(-π/8) »\n",
       "«q10_4 -> 5 ┤ H ├─░──■──────────────░──■────────────────────────░──■────────»\n",
       "«           └───┘ ░                 ░                           ░           »\n",
       "«     c4: 5/════════════════════════════════════════════════════════════════»\n",
       "«                                                                           »\n",
       "«                                                                      »\n",
       "«q10_5 -> 0 ───────────────────────────────────────────────────────────»\n",
       "«                                     ░                                »\n",
       "«q10_0 -> 1 ──────────────────────────░──■──────────■─────────■────────»\n",
       "«                               ┌───┐ ░  │          │         │        »\n",
       "«q10_1 -> 2 ─■─────────■────────┤ H ├─░──┼──────────┼─────────┼────────»\n",
       "«            │         │P(-π/2) └───┘ ░  │          │         │P(-π/4) »\n",
       "«q10_2 -> 3 ─┼─────────■──────────────░──┼──────────┼─────────■────────»\n",
       "«            │P(-π/4)                 ░  │          │P(-π/8)           »\n",
       "«q10_3 -> 4 ─■────────────────────────░──┼──────────■──────────────────»\n",
       "«                                     ░  │P(-π/16)                     »\n",
       "«q10_4 -> 5 ──────────────────────────░──■─────────────────────────────»\n",
       "«                                     ░                                »\n",
       "«     c4: 5/═══════════════════════════════════════════════════════════»\n",
       "«                                                                      »\n",
       "«                           ░                \n",
       "«q10_5 -> 0 ────────────────░────────────────\n",
       "«                     ┌───┐ ░             ┌─┐\n",
       "«q10_0 -> 1 ─■────────┤ H ├─░─────────────┤M├\n",
       "«            │P(-π/2) └───┘ ░          ┌─┐└╥┘\n",
       "«q10_1 -> 2 ─■──────────────░──────────┤M├─╫─\n",
       "«                           ░       ┌─┐└╥┘ ║ \n",
       "«q10_2 -> 3 ────────────────░───────┤M├─╫──╫─\n",
       "«                           ░    ┌─┐└╥┘ ║  ║ \n",
       "«q10_3 -> 4 ────────────────░────┤M├─╫──╫──╫─\n",
       "«                           ░ ┌─┐└╥┘ ║  ║  ║ \n",
       "«q10_4 -> 5 ────────────────░─┤M├─╫──╫──╫──╫─\n",
       "«                           ░ └╥┘ ║  ║  ║  ║ \n",
       "«     c4: 5/═══════════════════╩══╩══╩══╩══╩═\n",
       "«                              0  1  2  3  4 "
      ]
     },
     "execution_count": 15,
     "metadata": {},
     "output_type": "execute_result"
    }
   ],
   "source": [
    "num_qubits = 5\n",
    "qr = QuantumRegister(num_qubits+1)\n",
    "cr = ClassicalRegister(num_qubits)\n",
    "qc = QuantumCircuit(qr,cr)\n",
    "\n",
    "qc.compose(prep_state(num_qubits,10),inplace=True)\n",
    "qc.barrier()\n",
    "\n",
    "iQFT = QFT(num_qubits).inverse()\n",
    "qc.compose(iQFT,inplace=True)\n",
    "# qc.compose(QFT(num_qubits),inplace=True)\n",
    "# qc.barrier()\n",
    "# qc.append(qkQFT(num_qubits, inverse=True),range(num_qubits))\n",
    "\n",
    "\n",
    "qc.barrier()\n",
    "\n",
    "qc.measure(qr[:-1][::-1],cr)\n",
    "# qc.draw()\n",
    "# Transpile for Quantum Rings\n",
    "backend = QrBackendV2(provider, num_qubits=num_qubits+1)\n",
    "qc_tp = transpile(qc, backend)\n",
    "\n",
    "qc_tp.draw()"
   ]
  },
  {
   "cell_type": "code",
   "execution_count": 8,
   "id": "62224e42-0756-45e7-b04e-f027b6b6603b",
   "metadata": {},
   "outputs": [
    {
     "data": {
      "text/html": [
       "<pre style=\"word-wrap: normal;white-space: pre;background: #fff0;line-height: 1.1;font-family: &quot;Courier New&quot;,Courier,monospace\">          ┌───┐                                   ░                          »\n",
       "q2_0 -> 0 ┤ H ├─────────────────────■─────────────░─────────────────■────────»\n",
       "          ├───┤                     │             ░                 │        »\n",
       "q2_1 -> 1 ┤ H ├───────────■─────────┼─────────────░───────■─────────┼────────»\n",
       "          ├───┤           │         │             ░ ┌───┐ │P(-π/2)  │P(-π/4) »\n",
       "q2_2 -> 2 ┤ H ├─■─────────┼─────────┼─────────────░─┤ H ├─■─────────■────────»\n",
       "          ├───┤ │P(4π/5)  │P(2π/5)  │P(π/5) ┌───┐ ░ └───┘                    »\n",
       "q2_3 -> 3 ┤ X ├─■─────────■─────────■───────┤ X ├─░──────────────────────────»\n",
       "          └───┘                             └───┘ ░                          »\n",
       "    c1: 3/═══════════════════════════════════════════════════════════════════»\n",
       "                                                                             »\n",
       "«                         ┌───┐ ░       ┌─┐\n",
       "«q2_0 -> 0 ──────■────────┤ H ├─░───────┤M├\n",
       "«          ┌───┐ │P(-π/2) └───┘ ░    ┌─┐└╥┘\n",
       "«q2_1 -> 1 ┤ H ├─■──────────────░────┤M├─╫─\n",
       "«          └───┘                ░ ┌─┐└╥┘ ║ \n",
       "«q2_2 -> 2 ─────────────────────░─┤M├─╫──╫─\n",
       "«                               ░ └╥┘ ║  ║ \n",
       "«q2_3 -> 3 ─────────────────────░──╫──╫──╫─\n",
       "«                               ░  ║  ║  ║ \n",
       "«    c1: 3/════════════════════════╩══╩══╩═\n",
       "«                                  0  1  2 </pre>"
      ],
      "text/plain": [
       "          ┌───┐                                   ░                          »\n",
       "q2_0 -> 0 ┤ H ├─────────────────────■─────────────░─────────────────■────────»\n",
       "          ├───┤                     │             ░                 │        »\n",
       "q2_1 -> 1 ┤ H ├───────────■─────────┼─────────────░───────■─────────┼────────»\n",
       "          ├───┤           │         │             ░ ┌───┐ │P(-π/2)  │P(-π/4) »\n",
       "q2_2 -> 2 ┤ H ├─■─────────┼─────────┼─────────────░─┤ H ├─■─────────■────────»\n",
       "          ├───┤ │P(4π/5)  │P(2π/5)  │P(π/5) ┌───┐ ░ └───┘                    »\n",
       "q2_3 -> 3 ┤ X ├─■─────────■─────────■───────┤ X ├─░──────────────────────────»\n",
       "          └───┘                             └───┘ ░                          »\n",
       "    c1: 3/═══════════════════════════════════════════════════════════════════»\n",
       "                                                                             »\n",
       "«                         ┌───┐ ░       ┌─┐\n",
       "«q2_0 -> 0 ──────■────────┤ H ├─░───────┤M├\n",
       "«          ┌───┐ │P(-π/2) └───┘ ░    ┌─┐└╥┘\n",
       "«q2_1 -> 1 ┤ H ├─■──────────────░────┤M├─╫─\n",
       "«          └───┘                ░ ┌─┐└╥┘ ║ \n",
       "«q2_2 -> 2 ─────────────────────░─┤M├─╫──╫─\n",
       "«                               ░ └╥┘ ║  ║ \n",
       "«q2_3 -> 3 ─────────────────────░──╫──╫──╫─\n",
       "«                               ░  ║  ║  ║ \n",
       "«    c1: 3/════════════════════════╩══╩══╩═\n",
       "«                                  0  1  2 "
      ]
     },
     "execution_count": 8,
     "metadata": {},
     "output_type": "execute_result"
    }
   ],
   "source": [
    "num_qubits = 3\n",
    "qr = QuantumRegister(num_qubits+1)\n",
    "cr = ClassicalRegister(num_qubits)\n",
    "qc = QuantumCircuit(qr,cr)\n",
    "\n",
    "qc.compose(prep_state(num_qubits,10),inplace=True)\n",
    "qc.barrier()\n",
    "\n",
    "# iQFT = QFT(num_qubits).inverse()\n",
    "# qc.compose(iQFT,inplace=True)\n",
    "# qc.compose(QFT(num_qubits),inplace=True)\n",
    "# qc.barrier()\n",
    "qc.append(qkQFT(num_qubits, inverse=True),range(num_qubits))\n",
    "\n",
    "\n",
    "qc.barrier()\n",
    "\n",
    "qc.measure(qr[:-1],cr)\n",
    "# Transpile for Quantum Rings\n",
    "backend = QrBackendV2(provider, num_qubits=num_qubits+1)\n",
    "qc_tp = transpile(qc, backend)\n",
    "\n",
    "qc_tp.draw()"
   ]
  },
  {
   "cell_type": "code",
   "execution_count": 16,
   "id": "50c40b55-b254-4a73-8bb3-ac7e7235464d",
   "metadata": {},
   "outputs": [
    {
     "data": {
      "image/png": "[encoded data removed]",
      "text/plain": [
       "<Figure size 640x480 with 1 Axes>"
      ]
     },
     "execution_count": 16,
     "metadata": {},
     "output_type": "execute_result"
    }
   ],
   "source": [
    "# Execute with toolkit sampler\n",
    "sampler = QrSamplerV1(backend=backend)\n",
    "job = sampler.run(circuits=[qc_tp])\n",
    "\n",
    "counts = job.result().quasi_dists[0]\n",
    "plot_histogram(counts)"
   ]
  },
  {
   "cell_type": "code",
   "execution_count": 67,
   "id": "4a241869-c5e6-40a6-8ec2-e3e7e5222454",
   "metadata": {},
   "outputs": [
    {
     "data": {
      "text/plain": [
       "0.1"
      ]
     },
     "execution_count": 67,
     "metadata": {},
     "output_type": "execute_result"
    }
   ],
   "source": [
    "1/10"
   ]
  },
  {
   "cell_type": "code",
   "execution_count": null,
   "id": "e3f75567-0378-49e7-a36d-9465f7546484",
   "metadata": {},
   "outputs": [],
   "source": []
  },
  {
   "cell_type": "code",
   "execution_count": null,
   "id": "510da14e-5c1f-4acc-8090-1e7c91187aaa",
   "metadata": {},
   "outputs": [],
   "source": []
  },
  {
   "cell_type": "code",
   "execution_count": null,
   "id": "6d881a43-f8ae-40f2-849f-d5a837554211",
   "metadata": {},
   "outputs": [],
   "source": []
  },
  {
   "cell_type": "markdown",
   "id": "932b140b-49e4-4e36-a922-bda5c77aa026",
   "metadata": {},
   "source": [
    "# flip order of everything/"
   ]
  },
  {
   "cell_type": "code",
   "execution_count": 32,
   "id": "10eb3ada-670c-483f-873d-e95137b148f3",
   "metadata": {},
   "outputs": [],
   "source": [
    "def prep_state(num_qubits, period):\n",
    "\n",
    "    qr = QuantumRegister(num_qubits+1)\n",
    "    qc = QuantumCircuit(qr)\n",
    "    \n",
    "    qc.x(0)\n",
    "    \n",
    "    qc.h(range(1,num_qubits+1))\n",
    "\n",
    "    for j in range(1,num_qubits):\n",
    "        qc.cp(-2*np.pi * 2**(num_qubits-j) / period ,j,0)\n",
    "    \n",
    "    qc.x(0)\n",
    "\n",
    "    return qc"
   ]
  },
  {
   "cell_type": "code",
   "execution_count": 33,
   "id": "eac44877-3015-4fcf-91f2-295d7b8b8e00",
   "metadata": {},
   "outputs": [
    {
     "data": {
      "text/html": [
       "<pre style=\"word-wrap: normal;white-space: pre;background: #fff0;line-height: 1.1;font-family: &quot;Courier New&quot;,Courier,monospace\">       ┌───┐                                                          ┌───┐\n",
       "q32_0: ┤ X ├─■────────────■───────────■──────────■──────────■─────────┤ X ├\n",
       "       ├───┤ │P(-20.106)  │           │          │          │         └───┘\n",
       "q32_1: ┤ H ├─■────────────┼───────────┼──────────┼──────────┼──────────────\n",
       "       ├───┤              │P(-16π/5)  │          │          │              \n",
       "q32_2: ┤ H ├──────────────■───────────┼──────────┼──────────┼──────────────\n",
       "       ├───┤                          │P(-8π/5)  │          │              \n",
       "q32_3: ┤ H ├──────────────────────────■──────────┼──────────┼──────────────\n",
       "       ├───┤                                     │P(-4π/5)  │              \n",
       "q32_4: ┤ H ├─────────────────────────────────────■──────────┼──────────────\n",
       "       ├───┤                                                │P(-2π/5)      \n",
       "q32_5: ┤ H ├────────────────────────────────────────────────■──────────────\n",
       "       ├───┤                                                               \n",
       "q32_6: ┤ H ├───────────────────────────────────────────────────────────────\n",
       "       └───┘                                                               \n",
       "c12: 6/════════════════════════════════════════════════════════════════════\n",
       "                                                                           </pre>"
      ],
      "text/plain": [
       "       ┌───┐                                                          ┌───┐\n",
       "q32_0: ┤ X ├─■────────────■───────────■──────────■──────────■─────────┤ X ├\n",
       "       ├───┤ │P(-20.106)  │           │          │          │         └───┘\n",
       "q32_1: ┤ H ├─■────────────┼───────────┼──────────┼──────────┼──────────────\n",
       "       ├───┤              │P(-16π/5)  │          │          │              \n",
       "q32_2: ┤ H ├──────────────■───────────┼──────────┼──────────┼──────────────\n",
       "       ├───┤                          │P(-8π/5)  │          │              \n",
       "q32_3: ┤ H ├──────────────────────────■──────────┼──────────┼──────────────\n",
       "       ├───┤                                     │P(-4π/5)  │              \n",
       "q32_4: ┤ H ├─────────────────────────────────────■──────────┼──────────────\n",
       "       ├───┤                                                │P(-2π/5)      \n",
       "q32_5: ┤ H ├────────────────────────────────────────────────■──────────────\n",
       "       ├───┤                                                               \n",
       "q32_6: ┤ H ├───────────────────────────────────────────────────────────────\n",
       "       └───┘                                                               \n",
       "c12: 6/════════════════════════════════════════════════════════════════════\n",
       "                                                                           "
      ]
     },
     "metadata": {},
     "output_type": "display_data"
    },
    {
     "data": {
      "text/plain": [
       "[<matplotlib.lines.Line2D at 0x7d29e1fce510>]"
      ]
     },
     "execution_count": 33,
     "metadata": {},
     "output_type": "execute_result"
    },
    {
     "data": {
      "image/png": "[encoded data removed]",
      "text/plain": [
       "<Figure size 640x480 with 1 Axes>"
      ]
     },
     "metadata": {},
     "output_type": "display_data"
    }
   ],
   "source": [
    "num_qubits = 6\n",
    "qr = QuantumRegister(num_qubits+1)\n",
    "cr = ClassicalRegister(num_qubits)\n",
    "qc = QuantumCircuit(qr,cr)\n",
    "\n",
    "qc.compose(prep_state(num_qubits,10),inplace=True)\n",
    "display(qc.draw())\n",
    "\n",
    "sv = Statevector.from_instruction(qc)\n",
    "plt.plot(np.real(sv)[:32])"
   ]
  },
  {
   "cell_type": "code",
   "execution_count": null,
   "id": "993ecfa6-acfe-494d-8222-41dc42f5c01f",
   "metadata": {},
   "outputs": [],
   "source": []
  },
  {
   "cell_type": "code",
   "execution_count": 36,
   "id": "aadf842e-bc78-437d-b152-fa9663167ba1",
   "metadata": {},
   "outputs": [
    {
     "data": {
      "text/html": [
       "<pre style=\"word-wrap: normal;white-space: pre;background: #fff0;line-height: 1.1;font-family: &quot;Courier New&quot;,Courier,monospace\">       ┌───┐                                             ┌───┐ ░            »\n",
       "q40_0: ┤ X ├─■───────────■──────────■──────────■─────────┤ X ├─░────────────»\n",
       "       ├───┤ │P(-16π/5)  │          │          │         └───┘ ░  ░       ░ »\n",
       "q40_1: ┤ H ├─■───────────┼──────────┼──────────┼───────────────░──░───────░─»\n",
       "       ├───┤             │P(-8π/5)  │          │               ░  ░       ░ »\n",
       "q40_2: ┤ H ├─────────────■──────────┼──────────┼───────────────░──░───────░─»\n",
       "       ├───┤                        │P(-4π/5)  │               ░  ░       ░ »\n",
       "q40_3: ┤ H ├────────────────────────■──────────┼───────────────░──░───────░─»\n",
       "       ├───┤                                   │P(-2π/5)       ░  ░       ░ »\n",
       "q40_4: ┤ H ├───────────────────────────────────■───────────────░──░───────░─»\n",
       "       ├───┤                                                   ░  ░ ┌───┐ ░ »\n",
       "q40_5: ┤ H ├───────────────────────────────────────────────────░──░─┤ H ├─░─»\n",
       "       └───┘                                                   ░  ░ └───┘ ░ »\n",
       "c15: 5/═════════════════════════════════════════════════════════════════════»\n",
       "                                                                            »\n",
       "«                                                                       »\n",
       "«q40_0: ────────────────────────────────────────────────────────────────»\n",
       "«                         ░                               ░             »\n",
       "«q40_1: ──────────────────░───────────────────────────────░─────────────»\n",
       "«                         ░                               ░ ┌──────────┐»\n",
       "«q40_2: ──────────────────░───────────────────────────────░─┤ Rz(-π/8) ├»\n",
       "«                         ░ ┌──────────┐┌──────────┐┌───┐ ░ └────┬─────┘»\n",
       "«q40_3: ──────────────────░─┤ Rz(-π/4) ├┤ Rz(-π/2) ├┤ H ├─░──────┼──────»\n",
       "«       ┌──────────┐┌───┐ ░ └────┬─────┘└────┬─────┘└───┘ ░      │      »\n",
       "«q40_4: ┤ Rz(-π/2) ├┤ H ├─░──────┼───────────■────────────░──────┼──────»\n",
       "«       └────┬─────┘└───┘ ░      │                        ░      │      »\n",
       "«q40_5: ─────■────────────░──────■────────────────────────░──────■──────»\n",
       "«                         ░                               ░             »\n",
       "«c15: 5/════════════════════════════════════════════════════════════════»\n",
       "«                                                                       »\n",
       "«                                                                            »\n",
       "«q40_0: ─────────────────────────────────────────────────────────────────────»\n",
       "«                                     ░ ┌───────────┐┌──────────┐┌──────────┐»\n",
       "«q40_1: ──────────────────────────────░─┤ Rz(-π/16) ├┤ Rz(-π/8) ├┤ Rz(-π/4) ├»\n",
       "«       ┌──────────┐┌──────────┐┌───┐ ░ └─────┬─────┘└────┬─────┘└────┬─────┘»\n",
       "«q40_2: ┤ Rz(-π/4) ├┤ Rz(-π/2) ├┤ H ├─░───────┼───────────┼───────────┼──────»\n",
       "«       └────┬─────┘└────┬─────┘└───┘ ░       │           │           │      »\n",
       "«q40_3: ─────┼───────────■────────────░───────┼───────────┼───────────■──────»\n",
       "«            │                        ░       │           │                  »\n",
       "«q40_4: ─────■────────────────────────░───────┼───────────■──────────────────»\n",
       "«                                     ░       │                              »\n",
       "«q40_5: ──────────────────────────────░───────■──────────────────────────────»\n",
       "«                                     ░                                      »\n",
       "«c15: 5/═════════════════════════════════════════════════════════════════════»\n",
       "«                                                                            »\n",
       "«                         ░                \n",
       "«q40_0: ──────────────────░────────────────\n",
       "«       ┌──────────┐┌───┐ ░ ┌─┐            \n",
       "«q40_1: ┤ Rz(-π/2) ├┤ H ├─░─┤M├────────────\n",
       "«       └────┬─────┘└───┘ ░ └╥┘┌─┐         \n",
       "«q40_2: ─────■────────────░──╫─┤M├─────────\n",
       "«                         ░  ║ └╥┘┌─┐      \n",
       "«q40_3: ──────────────────░──╫──╫─┤M├──────\n",
       "«                         ░  ║  ║ └╥┘┌─┐   \n",
       "«q40_4: ──────────────────░──╫──╫──╫─┤M├───\n",
       "«                         ░  ║  ║  ║ └╥┘┌─┐\n",
       "«q40_5: ──────────────────░──╫──╫──╫──╫─┤M├\n",
       "«                         ░  ║  ║  ║  ║ └╥┘\n",
       "«c15: 5/═════════════════════╩══╩══╩══╩══╩═\n",
       "«                            0  1  2  3  4 </pre>"
      ],
      "text/plain": [
       "       ┌───┐                                             ┌───┐ ░            »\n",
       "q40_0: ┤ X ├─■───────────■──────────■──────────■─────────┤ X ├─░────────────»\n",
       "       ├───┤ │P(-16π/5)  │          │          │         └───┘ ░  ░       ░ »\n",
       "q40_1: ┤ H ├─■───────────┼──────────┼──────────┼───────────────░──░───────░─»\n",
       "       ├───┤             │P(-8π/5)  │          │               ░  ░       ░ »\n",
       "q40_2: ┤ H ├─────────────■──────────┼──────────┼───────────────░──░───────░─»\n",
       "       ├───┤                        │P(-4π/5)  │               ░  ░       ░ »\n",
       "q40_3: ┤ H ├────────────────────────■──────────┼───────────────░──░───────░─»\n",
       "       ├───┤                                   │P(-2π/5)       ░  ░       ░ »\n",
       "q40_4: ┤ H ├───────────────────────────────────■───────────────░──░───────░─»\n",
       "       ├───┤                                                   ░  ░ ┌───┐ ░ »\n",
       "q40_5: ┤ H ├───────────────────────────────────────────────────░──░─┤ H ├─░─»\n",
       "       └───┘                                                   ░  ░ └───┘ ░ »\n",
       "c15: 5/═════════════════════════════════════════════════════════════════════»\n",
       "                                                                            »\n",
       "«                                                                       »\n",
       "«q40_0: ────────────────────────────────────────────────────────────────»\n",
       "«                         ░                               ░             »\n",
       "«q40_1: ──────────────────░───────────────────────────────░─────────────»\n",
       "«                         ░                               ░ ┌──────────┐»\n",
       "«q40_2: ──────────────────░───────────────────────────────░─┤ Rz(-π/8) ├»\n",
       "«                         ░ ┌──────────┐┌──────────┐┌───┐ ░ └────┬─────┘»\n",
       "«q40_3: ──────────────────░─┤ Rz(-π/4) ├┤ Rz(-π/2) ├┤ H ├─░──────┼──────»\n",
       "«       ┌──────────┐┌───┐ ░ └────┬─────┘└────┬─────┘└───┘ ░      │      »\n",
       "«q40_4: ┤ Rz(-π/2) ├┤ H ├─░──────┼───────────■────────────░──────┼──────»\n",
       "«       └────┬─────┘└───┘ ░      │                        ░      │      »\n",
       "«q40_5: ─────■────────────░──────■────────────────────────░──────■──────»\n",
       "«                         ░                               ░             »\n",
       "«c15: 5/════════════════════════════════════════════════════════════════»\n",
       "«                                                                       »\n",
       "«                                                                            »\n",
       "«q40_0: ─────────────────────────────────────────────────────────────────────»\n",
       "«                                     ░ ┌───────────┐┌──────────┐┌──────────┐»\n",
       "«q40_1: ──────────────────────────────░─┤ Rz(-π/16) ├┤ Rz(-π/8) ├┤ Rz(-π/4) ├»\n",
       "«       ┌──────────┐┌──────────┐┌───┐ ░ └─────┬─────┘└────┬─────┘└────┬─────┘»\n",
       "«q40_2: ┤ Rz(-π/4) ├┤ Rz(-π/2) ├┤ H ├─░───────┼───────────┼───────────┼──────»\n",
       "«       └────┬─────┘└────┬─────┘└───┘ ░       │           │           │      »\n",
       "«q40_3: ─────┼───────────■────────────░───────┼───────────┼───────────■──────»\n",
       "«            │                        ░       │           │                  »\n",
       "«q40_4: ─────■────────────────────────░───────┼───────────■──────────────────»\n",
       "«                                     ░       │                              »\n",
       "«q40_5: ──────────────────────────────░───────■──────────────────────────────»\n",
       "«                                     ░                                      »\n",
       "«c15: 5/═════════════════════════════════════════════════════════════════════»\n",
       "«                                                                            »\n",
       "«                         ░                \n",
       "«q40_0: ──────────────────░────────────────\n",
       "«       ┌──────────┐┌───┐ ░ ┌─┐            \n",
       "«q40_1: ┤ Rz(-π/2) ├┤ H ├─░─┤M├────────────\n",
       "«       └────┬─────┘└───┘ ░ └╥┘┌─┐         \n",
       "«q40_2: ─────■────────────░──╫─┤M├─────────\n",
       "«                         ░  ║ └╥┘┌─┐      \n",
       "«q40_3: ──────────────────░──╫──╫─┤M├──────\n",
       "«                         ░  ║  ║ └╥┘┌─┐   \n",
       "«q40_4: ──────────────────░──╫──╫──╫─┤M├───\n",
       "«                         ░  ║  ║  ║ └╥┘┌─┐\n",
       "«q40_5: ──────────────────░──╫──╫──╫──╫─┤M├\n",
       "«                         ░  ║  ║  ║  ║ └╥┘\n",
       "«c15: 5/═════════════════════╩══╩══╩══╩══╩═\n",
       "«                            0  1  2  3  4 "
      ]
     },
     "execution_count": 36,
     "metadata": {},
     "output_type": "execute_result"
    }
   ],
   "source": [
    "num_qubits = 5\n",
    "qr = QuantumRegister(num_qubits+1)\n",
    "cr = ClassicalRegister(num_qubits)\n",
    "qc = QuantumCircuit(qr,cr)\n",
    "\n",
    "qc.compose(prep_state(num_qubits,10),inplace=True)\n",
    "qc.barrier()\n",
    "iQFT = QFT(num_qubits).inverse()\n",
    "qc.compose(iQFT,qr[1:],inplace=True)\n",
    "\n",
    "\n",
    "qc.barrier()\n",
    "\n",
    "qc.measure(qr[1:],cr)\n",
    "qc.draw()"
   ]
  },
  {
   "cell_type": "code",
   "execution_count": 37,
   "id": "1813f45a-75e8-436f-aea0-f6929f3e4b2f",
   "metadata": {},
   "outputs": [],
   "source": [
    "# Transpile for Quantum Rings\n",
    "backend = QrBackendV2(provider, num_qubits=num_qubits+1)\n",
    "qc_tp = transpile(qc, backend)\n",
    "\n",
    "# qc_tp.draw()"
   ]
  },
  {
   "cell_type": "code",
   "execution_count": 38,
   "id": "4ca60196-bf41-48a6-bd16-4f8e144de7ce",
   "metadata": {},
   "outputs": [
    {
     "data": {
      "image/png": "[encoded data removed]",
      "text/plain": [
       "<Figure size 640x480 with 1 Axes>"
      ]
     },
     "execution_count": 38,
     "metadata": {},
     "output_type": "execute_result"
    }
   ],
   "source": [
    "# Execute with toolkit sampler\n",
    "sampler = QrSamplerV1(backend=backend)\n",
    "job = sampler.run(circuits=[qc_tp])\n",
    "\n",
    "counts = job.result().quasi_dists[0]\n",
    "plot_histogram(counts)"
   ]
  },
  {
   "cell_type": "code",
   "execution_count": null,
   "id": "6992f9d4-e207-4765-a91b-de4888b2c222",
   "metadata": {},
   "outputs": [],
   "source": []
  }
 ],
 "metadata": {
  "kernelspec": {
   "display_name": "Python 3 QuantumRings",
   "language": "python",
   "name": "python3_quantu_8bt6c1"
  },
  "language_info": {
   "codemirror_mode": {
    "name": "ipython",
    "version": 3
   },
   "file_extension": ".py",
   "mimetype": "text/x-python",
   "name": "python",
   "nbconvert_exporter": "python",
   "pygments_lexer": "ipython3",
   "version": "3.11.9"
  }
 },
 "nbformat": 4,
 "nbformat_minor": 5
}
