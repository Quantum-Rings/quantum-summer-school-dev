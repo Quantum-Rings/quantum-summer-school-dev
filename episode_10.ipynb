{
 "cells": [
  {
   "cell_type": "markdown",
   "id": "a90b4b55-bc01-4b4c-86c6-30e37b17a25d",
   "metadata": {},
   "source": [
    "<div style=\"background-color:rgba(78, 188, 130, 0.05); text-align:center; vertical-align: middle; padding:20px 0;border:3px; border-style:solid; padding: 0.5em; border-color: rgba(78, 188, 130, 1.0); color: #000000;\">\n",
    "\n",
    "<img src=\"figs/qr_logo.png\" width=\"700\"/>\n",
    "\n",
    "<h1><strong>Quantum Summer School</strong></h1>\n",
    "\n",
    "<h2><strong>Episode 10</strong></h2>\n",
    "\n",
    "<h3><strong>Noise & Error Mitigation</strong></h3>\n",
    "\n",
    "</div>"
   ]
  },
  {
   "cell_type": "markdown",
   "id": "023814de-3fe1-4e89-bc1c-99055b841cfe",
   "metadata": {},
   "source": [
    "*In this session, we will learn about common noise/error sources in quantum computing and some techniques for error mitigation!*"
   ]
  },
  {
   "cell_type": "markdown",
   "id": "fdf8ec55-255b-4f08-a21a-bd24c6843a99",
   "metadata": {
    "jp-MarkdownHeadingCollapsed": true
   },
   "source": [
    "<div style=\"background-color:rgba(255, 248, 240, 1.0); text-align:left; vertical-align: middle; padding:20px 0;border:3px; border-style:solid; padding: 0.5em; border-color: rgba(255, 142, 0, 1.0); color: #000000;\">\n",
    "\n",
    "## Objectives\n",
    "1. Learn about single-qubit errors.\n",
    "2. Explore decoherence mechanisms.\n",
    "3. Learn error mitigation techniques: dynamical decoupling and zero-noise extrapolation\n",
    "\n",
    "<div/>"
   ]
  },
  {
   "cell_type": "markdown",
   "id": "50834801-223c-4bb4-9eef-169d4236b93b",
   "metadata": {},
   "source": [
    "## Setup & Imports"
   ]
  },
  {
   "cell_type": "code",
   "execution_count": null,
   "id": "d1602ed8-9e60-49f2-b1de-64e2cc552668",
   "metadata": {},
   "outputs": [],
   "source": [
    "import numpy as np\n",
    "import itertools\n",
    "import matplotlib.pyplot as plt\n",
    "from qiskit import QuantumCircuit\n",
    "from qiskit.quantum_info import Kraus, SuperOp\n",
    "from qiskit.visualization import plot_histogram\n",
    "from qiskit.transpiler import generate_preset_pass_manager\n",
    "from qiskit.circuit.library import RZGate, RXGate\n",
    "!pip -q install qiskit_aer\n",
    "from qiskit_aer import AerSimulator\n",
    " \n",
    "# Import from Qiskit Aer noise module\n",
    "from qiskit_aer.noise import (\n",
    "    NoiseModel,\n",
    "    QuantumError,\n",
    "    ReadoutError,\n",
    "    depolarizing_error,\n",
    "    pauli_error,\n",
    "    thermal_relaxation_error,\n",
    "    mixed_unitary_error,\n",
    "    coherent_unitary_error\n",
    ")"
   ]
  },
  {
   "cell_type": "markdown",
   "id": "b8051641-f83d-40f1-ab12-8312df273faf",
   "metadata": {},
   "source": [
    "# Helper Functions"
   ]
  },
  {
   "cell_type": "markdown",
   "id": "41d610dd-0873-42a7-8b70-dace270e5286",
   "metadata": {},
   "source": [
    "Circuit with decoherence: run a quantum circuit with T1 and T2 decay applied for t_delay during every identity gate. (The error is applied to all qubits in the circuit). You can also optionally add other errors which will also be applied during identity gates."
   ]
  },
  {
   "cell_type": "code",
   "execution_count": null,
   "id": "c1f59c5f-b422-4b19-a256-d8f68dec1928",
   "metadata": {},
   "outputs": [],
   "source": [
    "def circuit_with_decoherence(quantum_circuit, T1, T2, t_delay, shots=1000, extra_errors=[]):\n",
    "    \n",
    "    error = thermal_relaxation_error(T1, T2, t_delay)\n",
    "\n",
    "    # add in additional errors\n",
    "    for err in extra_errors:\n",
    "        error = error.compose(err)\n",
    "     \n",
    "    # Add errors to noise model\n",
    "    noise_thermal = NoiseModel()\n",
    "    noise_thermal.add_all_qubit_quantum_error(error, \"id\")\n",
    "\n",
    "    # Create noisy simulator backend\n",
    "    sim_noise = AerSimulator(noise_model=noise_thermal)\n",
    "     \n",
    "    # Transpile circuit for noisy basis gates\n",
    "    # Optimization level = 0 preserves identity gates\n",
    "    passmanager = generate_preset_pass_manager(\n",
    "        optimization_level=0, backend=sim_noise\n",
    "    )\n",
    "    qc_noisy = passmanager.run(quantum_circuit)\n",
    "     \n",
    "    # Run and get counts\n",
    "    result = sim_noise.run(qc_noisy, shots=shots).result()\n",
    "    counts = result.get_counts()\n",
    "\n",
    "    # add in zero data, to make data analysis easier\n",
    "    bitstrings = [''.join(str(bit) for bit in bits) for bits in itertools.product([0,1], repeat=qc.num_qubits)]\n",
    "\n",
    "    for string in bitstrings:\n",
    "        if string not in counts.keys():\n",
    "            counts[string] = 0\n",
    "\n",
    "    return counts"
   ]
  },
  {
   "cell_type": "markdown",
   "id": "93f9c896-b6f5-474c-abb4-f18f3eaf9492",
   "metadata": {},
   "source": [
    "GHZ: prepare the GHZ state with num_qubit qubits"
   ]
  },
  {
   "cell_type": "code",
   "execution_count": null,
   "id": "af85a622-12d3-4939-8723-ac3e451e23cd",
   "metadata": {},
   "outputs": [],
   "source": [
    "def ghz(num_qubits):\n",
    "    qc = QuantumCircuit(num_qubits)\n",
    "\n",
    "    qc.h(0)\n",
    "    for qubit in range(num_qubits - 1):\n",
    "        qc.cx(qubit, qubit + 1)\n",
    "\n",
    "    return qc"
   ]
  },
  {
   "cell_type": "markdown",
   "id": "b16e4d23-0fa8-427d-b2e1-c4ab98fe7a5c",
   "metadata": {},
   "source": [
    "Parity: returns the average parity given a counts dictionary. The parity of a bitstring is 1 if the number of 1s in the bitstring is even, and -1 if the number of 1s in the bitstring is odd."
   ]
  },
  {
   "cell_type": "code",
   "execution_count": null,
   "id": "f32ab025-94f0-4134-803d-f5bac78fe5c9",
   "metadata": {},
   "outputs": [],
   "source": [
    "def parity(counts):\n",
    "    z  = 0\n",
    "    tot = sum(counts.values())\n",
    "    for bitstr, c in counts.items():\n",
    "        parity_bit = (-1)**(bitstr.count(\"1\"))\n",
    "        z += parity_bit * c\n",
    "    return z / tot"
   ]
  },
  {
   "cell_type": "markdown",
   "id": "f229cc85-4ed8-4f4f-880c-a79bfc1a40e2",
   "metadata": {},
   "source": [
    "Bell state prep: prepare the bell state $\\frac{1}{\\sqrt{2}}(|00\\rangle+|11\\rangle)$"
   ]
  },
  {
   "cell_type": "code",
   "execution_count": null,
   "id": "032cd66b-5c3b-4c54-8d13-56a46334c9fa",
   "metadata": {},
   "outputs": [],
   "source": [
    "def bell_state_prep():\n",
    "    qc = QuantumCircuit(2, name='QSS10.1.bell_state')\n",
    "    qc.h(0)\n",
    "    qc.cx(0,1)\n",
    "\n",
    "    return qc"
   ]
  },
  {
   "cell_type": "markdown",
   "id": "0120db7f-746a-47d3-9178-cb4b57cbd070",
   "metadata": {},
   "source": [
    "# 1. Single-Qubit Errors"
   ]
  },
  {
   "cell_type": "markdown",
   "id": "1657d760-fea7-4205-bc43-05b1f1e47aa4",
   "metadata": {},
   "source": [
    "<div style=\"background-color:rgba(243, 248, 255, 1.0); text-align:left; vertical-align: middle; padding:20px 0;border:3px; border-style:solid; padding: 0.5em; border-color: rgba(101, 174, 247, 1.0); color: #000000;\">\n",
    "\n",
    "The most basic form of error is a single-qubit error, incurred during a gate or measurement. We usually talk about bit flip and phase flip errors, especially in the context of quantum error correction, which we will cover in Episode 13.\n",
    "\n",
    "A bit flip error acts as:\n",
    "\n",
    "$$ \\alpha|0\\rangle + \\beta |1\\rangle \\rightarrow \\alpha|1\\rangle + \\beta |0\\rangle $$\n",
    "\n",
    "A phase flip error acts as:\n",
    "\n",
    "$$ \\alpha|0\\rangle + \\beta |1\\rangle \\rightarrow \\alpha|0\\rangle - \\beta |1\\rangle $$\n",
    "\n",
    "</div>"
   ]
  },
  {
   "cell_type": "markdown",
   "id": "5103a98c-b141-407b-9f51-ceca89841e40",
   "metadata": {},
   "source": [
    "### Bit Flip Error"
   ]
  },
  {
   "cell_type": "code",
   "execution_count": null,
   "id": "c7343616-db87-49fc-b430-aca71d021215",
   "metadata": {},
   "outputs": [],
   "source": [
    "qc = bell_state_prep()\n",
    "qc.measure_all()\n",
    "\n",
    "display(qc.draw())\n",
    "\n",
    "p = ##\n",
    "bit_flip_error = ##\n",
    "\n",
    "noise_model = NoiseModel()\n",
    "noise_model.###\n",
    "\n",
    "# Create noisy simulator backend\n",
    "sim_noise = AerSimulator(noise_model=noise_model)\n",
    "     \n",
    "# Transpile circuit for noisy basis gates\n",
    "passmanager = generate_preset_pass_manager(backend=sim_noise)\n",
    "qc_noisy = passmanager.run(qc)\n",
    "\n",
    "# Run and get counts\n",
    "result = sim_noise.run(qc_noisy, shots=1000).result()\n",
    "counts = result.get_counts()"
   ]
  },
  {
   "cell_type": "code",
   "execution_count": null,
   "id": "fc84d03e-7b93-4daf-8557-3587b87b0a0a",
   "metadata": {},
   "outputs": [],
   "source": [
    "plot_histogram(counts)"
   ]
  },
  {
   "cell_type": "markdown",
   "id": "2c766b79-fd63-40e4-a9f4-411d761de73d",
   "metadata": {},
   "source": [
    "Why didn't the bit flip error impact our end result?"
   ]
  },
  {
   "cell_type": "code",
   "execution_count": null,
   "id": "3b2521f1-d6c1-4335-8562-187f15b0a816",
   "metadata": {},
   "outputs": [],
   "source": [
    "qc = bell_state_prep()\n",
    "qc.measure_all()\n",
    "\n",
    "p = 0.1  # probability of bit-flip\n",
    "bit_flip_error = pauli_error([('IX', p), ('II', 1-p)])\n",
    "\n",
    "noise_model = NoiseModel()\n",
    "noise_model.add_all_qubit_quantum_error(bit_flip_error, ['cx'])\n",
    "\n",
    "sim_noise = AerSimulator(noise_model=noise_model)\n",
    "passmanager = generate_preset_pass_manager(backend=sim_noise)\n",
    "qc_noisy = passmanager.run(qc)\n",
    "\n",
    "# Run and get counts\n",
    "result = sim_noise.run(qc_noisy, shots=1000).result()\n",
    "counts = result.get_counts()\n",
    "\n",
    "plot_histogram(counts)"
   ]
  },
  {
   "cell_type": "markdown",
   "id": "9fff5870-00e3-4ac6-893f-446dcf5447bc",
   "metadata": {},
   "source": [
    "### Phase Flip Error"
   ]
  },
  {
   "cell_type": "code",
   "execution_count": null,
   "id": "24ef426a-e7ff-4fe8-860a-47a8345776b2",
   "metadata": {},
   "outputs": [],
   "source": [
    "qc = QuantumCircuit(1, name='QSS10.2.phase_flip')\n",
    "qc.h(0)\n",
    "qc.id(0)\n",
    "qc.h(0)\n",
    "qc.measure_all()\n",
    "\n",
    "p = 0.1  # probability of bit-flip\n",
    "phase_flip_error = pauli_error([('Z', p), ('I', 1-p)])\n",
    "\n",
    "noise_model = NoiseModel()\n",
    "noise_model.add_all_qubit_quantum_error(phase_flip_error, ['id'])\n",
    "\n",
    "sim_noise = AerSimulator(noise_model=noise_model)\n",
    "passmanager = generate_preset_pass_manager(optimization_level=0, backend=sim_noise)\n",
    "qc_noisy = passmanager.run(qc)\n",
    "\n",
    "# Run and get counts\n",
    "result = sim_noise.run(qc_noisy, shots=1000).result()\n",
    "counts = result.get_counts()\n",
    "\n",
    "plot_histogram(counts)"
   ]
  },
  {
   "cell_type": "markdown",
   "id": "b088f4b6-5f2c-4991-9a8b-a1a799c64ea4",
   "metadata": {},
   "source": [
    "### Readout Error"
   ]
  },
  {
   "cell_type": "code",
   "execution_count": null,
   "id": "85937219-4663-4f14-aad5-9fed3602d7d5",
   "metadata": {},
   "outputs": [],
   "source": [
    "num_qubits = 4\n",
    "qc = QuantumCircuit(num_qubits, name='QSS10.3.readout_error')\n",
    "\n",
    "qc.compose(ghz(num_qubits), inplace=True)\n",
    "qc.measure_all()"
   ]
  },
  {
   "cell_type": "code",
   "execution_count": null,
   "id": "70b1503a-7271-44f0-b337-02601ca11354",
   "metadata": {},
   "outputs": [],
   "source": [
    "# Measurement misassignment probabilities\n",
    "p0given1 = ###\n",
    "p1given0 = ###\n",
    " \n",
    "error = ###\n",
    "\n",
    "# Create an empty noise model\n",
    "noise_model = NoiseModel()\n",
    "noise_model.add_all_qubit_readout_error(error)"
   ]
  },
  {
   "cell_type": "code",
   "execution_count": null,
   "id": "5e05c42d-4edb-4f5f-a4eb-4e56ae030034",
   "metadata": {},
   "outputs": [],
   "source": [
    "# Create noisy simulator backend\n",
    "sim_noise = AerSimulator(noise_model=noise_model)\n",
    " \n",
    "# Transpile circuit for noisy basis gates\n",
    "passmanager = generate_preset_pass_manager(\n",
    "    optimization_level=0, backend=sim_noise\n",
    ")\n",
    "qc_noisy = passmanager.run(qc)\n",
    " \n",
    "# Run and get counts\n",
    "result = sim_noise.run(qc_noisy).result()\n",
    "counts = result.get_counts(0)\n",
    " \n",
    "# Plot noisy output\n",
    "plot_histogram(counts)"
   ]
  },
  {
   "cell_type": "markdown",
   "id": "92125ad5-726e-4acb-bd9c-1da18a4032dc",
   "metadata": {
    "jp-MarkdownHeadingCollapsed": true
   },
   "source": [
    "<div style=\"background-color:rgba(252, 245, 255, 1.0); text-align:left; vertical-align: middle; padding:20px 0;border:3px; border-style:solid; padding: 0.5em; border-color: rgba(190, 111, 227, 1.0); color: #000000;\">\n",
    "\n",
    "### Challenge Problem: \n",
    "\n",
    "Suppose you are a quantum scientist and you are trying to characterize the readout noise for a qubit. What would your approach be to determine the underlying noise model? Try coding it up.\n",
    "\n",
    "<div/>"
   ]
  },
  {
   "cell_type": "markdown",
   "id": "842140e5-f213-4e01-a9a8-04c8d324c737",
   "metadata": {},
   "source": [
    "# 2. Decoherence"
   ]
  },
  {
   "cell_type": "markdown",
   "id": "54263a1f-e97b-4f7d-9237-f86883ce035a",
   "metadata": {},
   "source": [
    "<div style=\"background-color:rgba(247, 255, 245, 1.0); text-align:left; vertical-align: middle; padding:20px 0;border:3px; border-style:solid; padding: 0.5em; border-color: rgba(0, 153, 51, 1.0); color: #000000;\">\n",
    "\n",
    "Qubits decohere primarily through coupling to the environment. This is why atoms have longer coherence times than superconducting qubits -- because atoms are more protected from the environment than superconducting qubits. One of the main decay mechanisms is amplitude damping, which is the tendency for the excited state $|1\\rangle$ to decay to the ground state $|0\\rangle$, i.e. the qubit loses energy to the environment. The other is dephasing, where we lose the phase information of the qubit.\n",
    "\n",
    "</div>"
   ]
  },
  {
   "cell_type": "markdown",
   "id": "b50371de-f112-4ebb-acb5-8eb79a0303df",
   "metadata": {},
   "source": [
    "## Amplitude Damping"
   ]
  },
  {
   "cell_type": "code",
   "execution_count": null,
   "id": "b37ab3ac-7852-4eb3-9105-0e3e461df713",
   "metadata": {},
   "outputs": [],
   "source": [
    "qc = QuantumCircuit(1, name='QSS10.4.t1')\n",
    "##\n",
    "##\n",
    "qc.measure_all()\n",
    "\n",
    "T1 = #(ns)\n",
    "T2 = #(ns)\n",
    "\n",
    "t_delays = np.linspace(0e3,200e3,50)\n",
    "shots = 1000\n",
    "population_0 = []\n",
    "population_1 = []\n",
    "for t_delay in t_delays:\n",
    "    counts = circuit_with_decoherence(qc, T1, T2, t_delay, shots=shots)\n",
    "    population_0.append(counts['0']/shots)\n",
    "    population_1.append(counts['1']/shots)\n",
    "\n",
    "plt.plot(t_delays*1e-3, population_0, label=r\"$|0\\rangle$\")\n",
    "plt.plot(t_delays*1e-3, population_1, label=r\"$|1\\rangle$\")\n",
    "plt.xlabel('Time [us]')\n",
    "plt.ylabel('Population')\n",
    "plt.title('$T_1$ decay')\n",
    "plt.legend()\n",
    "plt.show()"
   ]
  },
  {
   "cell_type": "markdown",
   "id": "98c42ec3-e170-4e4c-bf56-2dbb5fcac3ae",
   "metadata": {},
   "source": [
    "## Dephasing"
   ]
  },
  {
   "cell_type": "code",
   "execution_count": null,
   "id": "7fc1111d-6bed-4790-ba1d-ac32daee774d",
   "metadata": {},
   "outputs": [],
   "source": [
    "qc = QuantumCircuit(1, name='QSS10.5.t2')\n",
    "##\n",
    "##\n",
    "##\n",
    "qc.measure_all()\n",
    "\n",
    "T1 = #(ns) make this really long!\n",
    "T2 = #(ns)\n",
    "\n",
    "t_delays = np.linspace(0e3,100e3,20)\n",
    "shots = 1000\n",
    "population_0 = []\n",
    "population_1 = []\n",
    "for t_delay in t_delays:\n",
    "    counts = circuit_with_decoherence(qc, T1, T2, t_delay, shots=shots)\n",
    "    population_0.append(counts['0']/shots)\n",
    "    population_1.append(counts['1']/shots)\n",
    "\n",
    "plt.plot(t_delays*1e-3, population_0, label=r\"$|0\\rangle$\")\n",
    "plt.plot(t_delays*1e-3, population_1, label=r\"$|1\\rangle$\")\n",
    "plt.xlabel('Time [us]')\n",
    "plt.ylabel('Population')\n",
    "plt.title('$T_2$ Decay')\n",
    "plt.legend()\n",
    "plt.show()"
   ]
  },
  {
   "cell_type": "markdown",
   "id": "b4e21b79-0832-4ad7-9ea5-63273a477025",
   "metadata": {},
   "source": [
    "<div style=\"background-color:rgba(252, 245, 255, 1.0); text-align:left; vertical-align: middle; padding:20px 0;border:3px; border-style:solid; padding: 0.5em; border-color: rgba(190, 111, 227, 1.0); color: #000000;\">\n",
    "\n",
    "### Challenge Problem: \n",
    "\n",
    "Consider the following questions:\n",
    "\n",
    "**A)** If you try to make $T_2 > 2T_1$, qiskit will throw an error, because it is physically impossible for $T_2$ to be greater than $2T_1$. Can you give an argument for why this makes sense?\n",
    "\n",
    "**B)** One thing we care a lot about in quantum computing is ``quantum volume''. We can only fit in so many gates before our qubits lose coherence and our computation is useless. For a superconducting qubit, coherence times are on the order of $10 - 100~\\mu s$, and single qubit gates are around $50-100 ~ns$. How many gates (order of magnitude) can you apply before $T_1$?\n",
    "\n",
    "<div/>"
   ]
  },
  {
   "cell_type": "markdown",
   "id": "3f80f9cc-0c2d-4aea-86fb-67e205c1a856",
   "metadata": {},
   "source": [
    "# 3. Error Mitigation"
   ]
  },
  {
   "cell_type": "markdown",
   "id": "b4c6b5f9-0727-4919-ba81-cb3ae6c80b2a",
   "metadata": {},
   "source": [
    "<div style=\"background-color:rgba(255, 245, 253, 1.0); text-align:left; vertical-align: middle; padding:20px 0;border:3px; border-style:solid; padding: 0.5em; border-color: rgba(255, 142, 235, 1.0); color: #000000;\">\n",
    "\n",
    "One way to deal with the noise and errors in quantum circuits is error mitigation. Two common techniques are dynamical decoupling and zero-noise extrapolation. With dynamical decoupling, we can cancel out coherent phase errors. With zero-noise extrapolation, we can estimate the value of an observable in the absence of noise by scaling up the noise.\n",
    "\n",
    "<div/>"
   ]
  },
  {
   "cell_type": "markdown",
   "id": "9037ed6e-c9ee-4dce-98b2-47ad6ea4592e",
   "metadata": {},
   "source": [
    "## Dynamical Decoupling"
   ]
  },
  {
   "cell_type": "markdown",
   "id": "9e736caf-1db2-4fc7-9800-a16d71326370",
   "metadata": {},
   "source": [
    "We can think of dephasing as the vector representing the qubit state ``fanning out'' into many vectors on the Bloch sphere. The way in which dephasing occurs is usually not completely random, but instead has to do with how the qubit interacts with the environment. This means that if we flipped the Bloch sphere upside down, the vectors which were originally moving towards the right would now be moving towards the left at the same velocity. At some point in time, all the vectors would recombine at the starting point. We call this an echo.\n",
    "\n",
    "A good animation can be found here: https://en.wikipedia.org/wiki/Spin_echo\n",
    "\n",
    "The idea behind dynamical decoupling is to use a pi-pulse in the middle of the sequence such that the dephasing in the first half of the sequence and the second half of the sequence cancel -- there is an echo at the end of the sequence. The overall dephasing noise is reduced. Dynamical decoupling reduces error, but it does not stop them from occuring."
   ]
  },
  {
   "cell_type": "code",
   "execution_count": null,
   "id": "db3552fc-ccab-4a69-b286-5e0be707becb",
   "metadata": {},
   "outputs": [],
   "source": [
    "def spin_echo(use_echo=True):\n",
    "    # Spin echo circuit\n",
    "    qc = QuantumCircuit(1, name='QSS10.6.spin_echo')\n",
    "    ##\n",
    "    ##\n",
    "    if use_echo:\n",
    "        ###\n",
    "    else:\n",
    "        ###\n",
    "    qc.measure_all()\n",
    "\n",
    "    return qc"
   ]
  },
  {
   "cell_type": "code",
   "execution_count": null,
   "id": "e1637ba4-81eb-4228-887f-7c45f1b4542d",
   "metadata": {},
   "outputs": [],
   "source": [
    "T1 = 1e10\n",
    "T2 = 50e3\n",
    "shots = 1000\n",
    "\n",
    "# Plot comparison: with and without echo\n",
    "t_delays = np.linspace(0, 150e3, 20)\n",
    "p1_echo = []\n",
    "p1_no_echo = []\n",
    "\n",
    "for t_delay in t_delays:\n",
    "\n",
    "    # Create coherent phase noise as small RZ rotations with equal probability\n",
    "    thetas = np.linspace(0,1e-5 * np.pi, 10) * t_delay\n",
    "    p = 1.0 / len(thetas)\n",
    "    rz_errors = [(RZGate(theta), p) for theta in thetas]\n",
    "    \n",
    "    error = mixed_unitary_error(rz_errors)\n",
    "    \n",
    "    counts_echo = circuit_with_decoherence(spin_echo(use_echo=True), T1, T2, t_delay/2, shots=shots, extra_errors=[error])\n",
    "    counts_noecho = circuit_with_decoherence(spin_echo(use_echo=False), T1, T2, t_delay/2, shots=shots, extra_errors=[error])\n",
    "    p1_echo.append(counts_echo['1'] / shots)\n",
    "    p1_no_echo.append(counts_noecho['1'] / shots)\n",
    "\n",
    "plt.plot(t_delays*1e-3, p1_echo, label=\"With Spin Echo\")\n",
    "plt.plot(t_delays*1e-3, p1_no_echo, label=\"No Echo\", linestyle='--')\n",
    "plt.axhline(0.5, color='k', lw=0.5, zorder=0)\n",
    "plt.xlabel(\"Total Delay Time (us)\")\n",
    "plt.ylabel(\"P(1)\")\n",
    "plt.title(\"Spin Echo\")\n",
    "plt.legend()\n",
    "plt.ylim(-0.1,1.1)\n",
    "plt.show()"
   ]
  },
  {
   "cell_type": "markdown",
   "id": "0969841c-0e6f-4022-b8c8-e571b221b900",
   "metadata": {
    "jp-MarkdownHeadingCollapsed": true
   },
   "source": [
    "<div style=\"background-color:rgba(252, 245, 255, 1.0); text-align:left; vertical-align: middle; padding:20px 0;border:3px; border-style:solid; padding: 0.5em; border-color: rgba(190, 111, 227, 1.0); color: #000000;\">\n",
    "\n",
    "### Challenge Problem: \n",
    "\n",
    "We determine $T_1$ and $T_2$ by fitting the data with an exponential decay function $f(t)=e^{-t/T_1}$ and $f(t)=e^{-t/T_2}$ respectively. For the case of the spin-echo, try fitting both the curves with an exponential. Does the one with spin-echo or without spin-echo better match the $T_2$ we provided the noise model?\n",
    "\n",
    "<div/>"
   ]
  },
  {
   "cell_type": "markdown",
   "id": "e67f94fc-1ec2-4e29-8d66-181587535b99",
   "metadata": {},
   "source": [
    "# Zero-Noise Extrapolation"
   ]
  },
  {
   "cell_type": "markdown",
   "id": "960342e8-a479-42f9-810d-381060196b72",
   "metadata": {},
   "source": [
    "Suppose we have a circuit with noisy gates described by unitary $U$. In a perfect world, applying $U^\\dagger U$ should be the identity, but in practice, the overall gates will cancel and the noise will be doubled because each gate is performed twice. By ``folding'' in more copies of $U$, we amplify the noise even more. Then, we can fit the results vs. the number of folds and extrapolate to zero noise -- zero-noise extrapolation."
   ]
  },
  {
   "cell_type": "code",
   "execution_count": null,
   "id": "105a7c0f-3c3d-4eeb-b202-72e4682d1c40",
   "metadata": {},
   "outputs": [],
   "source": [
    "# Create noise model\n",
    "noise_model = NoiseModel()\n",
    "\n",
    "# 1-qubit coherent error: overrotation of Rx\n",
    "epsilon = np.deg2rad(2)  # 2 degree overrotation\n",
    "coherent_err = coherent_unitary_error(RXGate(epsilon))\n",
    "\n",
    "# 1-qubit depolarizing noise\n",
    "depol_1q = depolarizing_error(0.02, 1)\n",
    "\n",
    "# 2-qubit depolarizing noise\n",
    "depol_2q = depolarizing_error(0.02, 2)\n",
    "\n",
    "# Add to noise model\n",
    "noise_model.add_all_qubit_quantum_error(coherent_err.compose(depol_1q), ['h', 'x'])\n",
    "noise_model.add_all_qubit_quantum_error(depol_2q, ['cx'])\n",
    "\n",
    "# Create noisy simulator backend\n",
    "sim_noise = AerSimulator(noise_model=noise_model)\n",
    " \n",
    "# Transpile circuit for noisy basis gates\n",
    "passmanager = generate_preset_pass_manager(\n",
    "    optimization_level=0, backend=sim_noise\n",
    ")"
   ]
  },
  {
   "cell_type": "code",
   "execution_count": null,
   "id": "4a684251-4a48-4aa4-b44c-3e9881d0a323",
   "metadata": {},
   "outputs": [],
   "source": [
    "scale_factors = [1,3,5,7]\n",
    "parities = []\n",
    "\n",
    "for scale in scale_factors:\n",
    "    \n",
    "    num_qubits = 4\n",
    "    qc = QuantumCircuit(num_qubits, name='QSS10.7.zne')\n",
    "\n",
    "    qc.compose(ghz(num_qubits), inplace=True)\n",
    "\n",
    "    num_folds = ###\n",
    "    for _ in range(num_folds):\n",
    "        ###\n",
    "        ###\n",
    "        \n",
    "    qc.measure_all()\n",
    "\n",
    "    qc_noise = passmanager.run(qc)\n",
    "     \n",
    "    # Run and get counts\n",
    "    result = sim_noise.run(qc_noise, shots=1000).result()\n",
    "    counts = result.get_counts(0)\n",
    "\n",
    "    parities.append(parity(counts))"
   ]
  },
  {
   "cell_type": "code",
   "execution_count": null,
   "id": "727d4314-5f20-4dbc-86f4-00806562a553",
   "metadata": {},
   "outputs": [],
   "source": [
    "# Linear fit and extrapolation\n",
    "coeff, cov = np.polyfit(scale_factors, parities, 1, cov=True)\n",
    "uncertainties = np.sqrt(np.diag(cov))\n",
    "best_fit = np.poly1d(coeff)\n",
    "print(f\"Parity after ZNE extrapolation: {coeff[1]:.3f} +- {uncertainties[1]:.3f}\")\n",
    "\n",
    "scales = np.linspace(-1,scale_factors[-1]+1)\n",
    "plt.plot(scale_factors, parities, 'o', ls=\"\", label='Data')\n",
    "plt.plot(scales, best_fit(scales), label=\"Fit\", color='grey', zorder=0)\n",
    "plt.axvline(0, color='k', lw=0.5, zorder=0)\n",
    "plt.scatter(0, coeff[1], label=\"Extrapolation\", color='red')\n",
    "plt.xlabel(\"Scale Factor\")\n",
    "plt.ylabel(\"Parity\")\n",
    "plt.title(\"Zero Noise Extrapolation\")\n",
    "plt.legend()\n",
    "plt.show()"
   ]
  },
  {
   "cell_type": "markdown",
   "id": "9beec12d-5bc2-4b1d-9578-0da77915bc63",
   "metadata": {
    "jp-MarkdownHeadingCollapsed": true
   },
   "source": [
    "<div style=\"background-color:rgba(252, 245, 255, 1.0); text-align:left; vertical-align: middle; padding:20px 0;border:3px; border-style:solid; padding: 0.5em; border-color: rgba(190, 111, 227, 1.0); color: #000000;\">\n",
    "\n",
    "### Challenge Problem: \n",
    "\n",
    "Implement the ZNE technique for another observable. Here are some examples, or you can choose your own:\n",
    "\n",
    "* The GHZ state parity with the number of qubits something other than 4. For which values does the ZNE method help?\n",
    "* A single qubit circuit with a rotation $Rz(\\theta)$ which has a small unwanted $Rx(\\phi)$ rotation. The final measurement result should be 1 with probability $sin^2(\\theta/2)$, so in other words, the average measured value should be $sin^2(\\theta/2)$. Use ZNE to extrapolate for this expectation value.\n",
    "\n",
    "<div/>"
   ]
  }
 ],
 "metadata": {
  "kernelspec": {
   "display_name": "Python 3 QuantumRings",
   "language": "python",
   "name": "python3_quantu_8bt6c1"
  },
  "language_info": {
   "codemirror_mode": {
    "name": "ipython",
    "version": 3
   },
   "file_extension": ".py",
   "mimetype": "text/x-python",
   "name": "python",
   "nbconvert_exporter": "python",
   "pygments_lexer": "ipython3",
   "version": "3.11.9"
  }
 },
 "nbformat": 4,
 "nbformat_minor": 5
}
