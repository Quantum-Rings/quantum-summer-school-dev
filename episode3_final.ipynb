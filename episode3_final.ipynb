{
 "cells": [
  {
   "cell_type": "markdown",
   "id": "c4d7cc68-3fbe-49f7-a2a2-aefd3a87b73f",
   "metadata": {},
   "source": [
    "<div style=\"background-color:rgba(78, 188, 130, 0.05); text-align:center; vertical-align: middle; padding:20px 0;border:3px; border-style:solid; padding: 0.5em; border-color: rgba(78, 188, 130, 1.0); color: #000000;\">\n",
    "\n",
    "<img src=\"figs/qr_logo.png\" width=\"700\"/>\n",
    "\n",
    "<h1><strong>Quantum Summer School</strong></h1>\n",
    "\n",
    "<h2><strong>Episode 3</strong></h2>\n",
    "\n",
    "<h3><strong>Entanglement & Multi-Qubit Gates</strong></h3>\n",
    "\n",
    "</div>"
   ]
  },
  {
   "cell_type": "markdown",
   "id": "69c3eece-fc9a-4692-ae65-e3d70a269648",
   "metadata": {},
   "source": [
    "*In this session, we will explore quantum entanglement by creating Bell and GHZ states using two-qubit gates. We will also explore quantum teleportation!*"
   ]
  },
  {
   "cell_type": "markdown",
   "id": "03dab6ba-5857-48c6-867e-394490836ff4",
   "metadata": {},
   "source": [
    "<div style=\"background-color:rgba(255, 248, 240, 1.0); text-align:left; vertical-align: middle; padding:20px 0;border:3px; border-style:solid; padding: 0.5em; border-color: rgba(255, 142, 0, 1.0); color: #000000;\">\n",
    "\n",
    "## Objectives\n",
    "1. Understand how to create entanglement with two qubits.\n",
    "2. Understand how to create entanglement with many qubits.\n",
    "3. Explore the quantum teleportation protocol.\n",
    "\n",
    "<div/>"
   ]
  },
  {
   "cell_type": "markdown",
   "id": "475ba056",
   "metadata": {},
   "source": [
    "## Setup & Imports"
   ]
  },
  {
   "cell_type": "code",
   "execution_count": null,
   "id": "f67b9b96",
   "metadata": {},
   "outputs": [],
   "source": [
    "from QuantumRingsLib import QuantumRingsProvider, job_monitor, QuantumCircuit, QuantumRegister, ClassicalRegister\n",
    "# import qiskit versions of QuantumCircuit, QuantumRegister, ClassicalRegister so we can draw statevectors in latex\n",
    "from qiskit import QuantumCircuit as qkQuantumCircuit\n",
    "from qiskit import QuantumRegister as qkQuantumRegister\n",
    "from qiskit import ClassicalRegister as qkClassicalRegister\n",
    "from qiskit.visualization import plot_histogram\n",
    "from qiskit.quantum_info import Statevector\n",
    "import matplotlib.pyplot as plt\n",
    "import warnings\n",
    "warnings.filterwarnings('ignore')\n",
    "import numpy as np\n",
    "from jupyterquiz import display_quiz\n",
    "\n",
    "provider = QuantumRingsProvider()\n",
    "backend = provider.get_backend('scarlet_quantum_rings')"
   ]
  },
  {
   "cell_type": "markdown",
   "id": "5ed3978d-96ff-4cbb-a648-782a8d9cf3c7",
   "metadata": {},
   "source": [
    "## 1. Creating Entanglement"
   ]
  },
  {
   "cell_type": "markdown",
   "id": "0a4e37fc-7410-4958-9c99-2b1f9f8d4790",
   "metadata": {},
   "source": [
    "<div style=\"background-color:rgba(247, 255, 245, 1.0); text-align:left; vertical-align: middle; padding:20px 0;border:3px; border-style:solid; padding: 0.5em; border-color: rgba(0, 153, 51, 1.0); color: #000000;\">\n",
    "\n",
    "We learned today about entanglement and how we can create it. If we have two qubits which both start in the $|0\\rangle$ state, then we can entangle them by:\n",
    "1. Applying a Hadamard gate to one of the qubits to put it in an equal superposition.\n",
    "2. Applying a CNOT gate controlled on the qubit in superposition, targeting the qubit in the $|0\\rangle$ state.\n",
    "\n",
    "This method creates the state $\\frac{1}{\\sqrt{2}} ( |00\\rangle + |11\\rangle )$. This is called a Bell state, and there are 4 maximally entangled two-qubit states which form a complete basis for two-qubit states. The 4 Bell states are:\n",
    "\n",
    "$$|\\Phi^+\\rangle =  \\frac{1}{\\sqrt{2}} ( |00\\rangle + |11\\rangle )$$\n",
    "$$|\\Phi^-\\rangle =  \\frac{1}{\\sqrt{2}} ( |00\\rangle - |11\\rangle )$$\n",
    "$$|\\Psi^+\\rangle =  \\frac{1}{\\sqrt{2}} ( |01\\rangle + |10\\rangle )$$\n",
    "$$|\\Psi^-\\rangle =  \\frac{1}{\\sqrt{2}} ( |01\\rangle - |10\\rangle )$$\n",
    "\n",
    "These states differ in the parity of the qubits (even = qubits are either both 0 or both 1, odd = one qubit is 0 and one qubit is 1) and the phase (plus or minus amplitude for the second ket). Every two-qubit state can be written as a linear combination of Bell states.\n",
    "\n",
    "</div>"
   ]
  },
  {
   "cell_type": "markdown",
   "id": "d4d4be9d",
   "metadata": {},
   "source": [
    "Let's first make the state $|\\Phi^+\\rangle$."
   ]
  },
  {
   "cell_type": "code",
   "execution_count": null,
   "id": "0f3a7dc0",
   "metadata": {},
   "outputs": [],
   "source": [
    "q = qkQuantumRegister(2, 'q')\n",
    "c = qkClassicalRegister(2, 'c')\n",
    "qc = qkQuantumCircuit(q, c)\n",
    "\n",
    "qc.h(q[0])\n",
    "qc.cx(q[0], q[1])\n",
    "qc.draw()"
   ]
  },
  {
   "cell_type": "code",
   "execution_count": null,
   "id": "6ded61e0-fc71-411d-a108-001685ff4263",
   "metadata": {},
   "outputs": [],
   "source": [
    "sv = Statevector(qc)\n",
    "sv.draw('latex')"
   ]
  },
  {
   "cell_type": "markdown",
   "id": "01c9cb13-80f4-49c5-b45f-d6deacfaa9c9",
   "metadata": {},
   "source": [
    "How should we modify our circuit to make $|\\Phi^-\\rangle$?"
   ]
  },
  {
   "cell_type": "code",
   "execution_count": null,
   "id": "cae31e64-5f9f-400f-b46c-c92520e5dc96",
   "metadata": {},
   "outputs": [],
   "source": [
    "qc = qkQuantumCircuit(q, c)\n",
    "\n",
    "## MODIFY\n",
    "qc.h(q[0])\n",
    "qc.cx(q[0], q[1])\n",
    "qc.z(q[1])\n",
    "\n",
    "qc.draw()"
   ]
  },
  {
   "cell_type": "code",
   "execution_count": null,
   "id": "ec028394-606d-4629-b2ad-1a8c8809f152",
   "metadata": {},
   "outputs": [],
   "source": [
    "sv = Statevector(qc)\n",
    "sv.draw('latex')"
   ]
  },
  {
   "cell_type": "markdown",
   "id": "9f14059a-a980-44c6-87f5-cd342f55b439",
   "metadata": {},
   "source": [
    "How should we modify our circuit to make $|\\Psi^+\\rangle$?"
   ]
  },
  {
   "cell_type": "code",
   "execution_count": null,
   "id": "45322476-7d4e-4235-9344-472625329a0a",
   "metadata": {},
   "outputs": [],
   "source": [
    "qc = qkQuantumCircuit(q, c)\n",
    "\n",
    "## MODIFY\n",
    "qc.h(q[0])\n",
    "qc.cx(q[0], q[1])\n",
    "qc.x(q[1])\n",
    "\n",
    "qc.draw()"
   ]
  },
  {
   "cell_type": "code",
   "execution_count": null,
   "id": "bed936af-791b-4ccc-a4fc-529021c2ab31",
   "metadata": {},
   "outputs": [],
   "source": [
    "sv = Statevector(qc)\n",
    "sv.draw('latex')"
   ]
  },
  {
   "cell_type": "markdown",
   "id": "edada539-0e1f-4a5a-adac-422393796951",
   "metadata": {},
   "source": [
    "What about $|\\Psi^-\\rangle$?"
   ]
  },
  {
   "cell_type": "code",
   "execution_count": null,
   "id": "ac023d97-96b3-4c28-a97e-ecbbefd196f7",
   "metadata": {},
   "outputs": [],
   "source": [
    "qc = qkQuantumCircuit(q, c)\n",
    "\n",
    "## MODIFY\n",
    "qc.h(q[0])\n",
    "qc.cx(q[0], q[1])\n",
    "qc.x(q[1])\n",
    "qc.z(q[1])\n",
    "\n",
    "qc.draw()"
   ]
  },
  {
   "cell_type": "code",
   "execution_count": null,
   "id": "0b3766a8-990b-4234-b84a-98a414a06b27",
   "metadata": {},
   "outputs": [],
   "source": [
    "sv = Statevector(qc)\n",
    "sv.draw('latex')"
   ]
  },
  {
   "cell_type": "markdown",
   "id": "2dbb8725-515b-46da-ba83-3e69068a54b1",
   "metadata": {},
   "source": [
    "### Check your understanding: Entanglement and Bell States "
   ]
  },
  {
   "cell_type": "markdown",
   "id": "f19d69da-3382-4c2a-9b7f-c7aae01666b3",
   "metadata": {},
   "source": [
    "<div class=\"sec1_ques1\" style=\"display:none\">\n",
    "[\n",
    "  {\n",
    "    \"question\": \"True or False: The Bell states are all orthogonal to each other.\",\n",
    "    \"type\": \"multiple_choice\",\n",
    "    \"answers\": [\n",
    "      {\"answer\":\"True\",\"correct\":true,  \"feedback\":\"✅ The Bell states form a complete basis for two-qubit states. Since this is a 4 dimensional Hilbert space (the state vectors have 4 components), any basis must be 4 orthogonal states.\"},\n",
    "      {\"answer\":\"False\",\"correct\":false, \"feedback\":\"❌\"}\n",
    "    ]\n",
    "  }\n",
    "]\n",
    "</div>\n",
    "\n",
    "<div class=\"sec1_ques2\" style=\"display:none\">\n",
    "[\n",
    "  {\n",
    "    \"question\": \"What role does the Hadamard gate play in creating entanglement?\",\n",
    "    \"type\": \"multiple_choice\",\n",
    "    \"answers\": [\n",
    "      {\"answer\":\"Flips the state of a qubit.\",\"correct\":false,  \"feedback\":\"❌\"},\n",
    "      {\"answer\":\"Flips the state of a qubit conditional on the state of the other.\",\"correct\":false, \"feedback\":\"❌\"},\n",
    "      {\"answer\":\"Puts the system into a superposition state.\",\"correct\":true, \"feedback\":\"✅ We need superposition to have entanglement.\"},\n",
    "    {\"answer\":\"Flips the phase of a qubit.\",\"correct\":false, \"feedback\":\"❌\"}\n",
    "    ]\n",
    "  }\n",
    "]\n",
    "</div>\n",
    "\n",
    "<div class=\"sec1_ques3\" style=\"display:none\">\n",
    "[\n",
    "  {\n",
    "    \"question\": \"What role does the CNOT gate play in creating entanglement?\",\n",
    "    \"type\": \"multiple_choice\",\n",
    "    \"answers\": [\n",
    "      {\"answer\":\"Flips the state of a qubit.\",\"correct\":false,  \"feedback\":\"❌\"},\n",
    "      {\"answer\":\"Flips the state of a qubit conditional on the state of the other.\",\"correct\":true, \"feedback\":\"✅ We need the qubits to interact with each other to create entanglement.\"},\n",
    "      {\"answer\":\"Puts the system into a superposition state.\",\"correct\":false, \"feedback\":\"❌\"},\n",
    "    {\"answer\":\"Flips the phase of a qubit.\",\"correct\":false, \"feedback\":\"❌\"}\n",
    "    ]\n",
    "  }\n",
    "]\n",
    "</div>\n",
    "\n",
    "<div class=\"sec1_ques4\" style=\"display:none\">\n",
    "[\n",
    "  {\n",
    "    \"question\": \"If I want to create the Bell state with odd parity and no phase shift, which gates do I need in addition to H and CNOT?\",\n",
    "    \"type\": \"multiple_choice\",\n",
    "    \"answers\": [\n",
    "      {\"answer\":\"X\",\"correct\":true,  \"feedback\":\"✅\"},\n",
    "      {\"answer\":\"Z\",\"correct\":false, \"feedback\":\"❌\"},\n",
    "      {\"answer\":\"X and Z\",\"correct\":false, \"feedback\":\"❌\"}\n",
    "    ]\n",
    "  }\n",
    "]\n",
    "</div>\n",
    "\n",
    "<div class=\"sec1_ques5\" style=\"display:none\">\n",
    "[\n",
    "  {\n",
    "    \"question\": \"If I want to create the Bell state with odd parity and a phase shift, which gates do I need in addition to H and CNOT?\",\n",
    "    \"type\": \"multiple_choice\",\n",
    "    \"answers\": [\n",
    "      {\"answer\":\"X and Z\",\"correct\":true,  \"feedback\":\"✅\"},\n",
    "      {\"answer\":\"Z\",\"correct\":false, \"feedback\":\"❌\"},\n",
    "      {\"answer\":\"X\",\"correct\":false, \"feedback\":\"❌\"}\n",
    "    ]\n",
    "  }\n",
    "]\n",
    "</div>"
   ]
  },
  {
   "cell_type": "code",
   "execution_count": null,
   "id": "8962f21e-9482-4425-8200-8ad28f6b9006",
   "metadata": {},
   "outputs": [],
   "source": [
    "display_quiz(\"#sec1_ques1\")\n",
    "display_quiz(\"#sec1_ques2\")\n",
    "display_quiz(\"#sec1_ques3\")\n",
    "display_quiz(\"#sec1_ques4\")\n",
    "display_quiz(\"#sec1_ques5\")"
   ]
  },
  {
   "cell_type": "markdown",
   "id": "fcb8c9f0-adc6-410c-825b-4cade8ff656d",
   "metadata": {},
   "source": [
    "## 2. Bell State Measurement"
   ]
  },
  {
   "cell_type": "markdown",
   "id": "94a9c215-8914-4807-813a-5c0f01986633",
   "metadata": {},
   "source": [
    "<div style=\"background-color:rgba(236, 250, 255, 1.0); text-align:left; vertical-align: middle; padding:20px 0;border:3px; border-style:solid; padding: 0.5em; border-color: rgba(35, 175, 219, 1.0); color: #000000;\">\n",
    "\n",
    "What if I gave you a Bell state and told you \"measure these qubits **once** and tell me which Bell state it was!\" Could you do it?\n",
    "\n",
    "If we just measure both qubits, we can only learn the parity of the state, so you can tell me if it's $|\\Phi^\\pm\\rangle$ or $|\\Psi^\\pm\\rangle$, but you can't tell the difference between $|\\Phi^+\\rangle$ and $|\\Phi^-\\rangle$ or $|\\Psi^+\\rangle$ and $|\\Psi^-\\rangle$.\n",
    "\n",
    "Last week, we saw that you can tell the difference between $|+\\rangle$ and $|-\\rangle$ in one shot if you apply a Hadamard gate right before measuring. This Hadamard maps $|+\\rangle$ to $|0\\rangle$ and $|-\\rangle$ to $|1\\rangle$. Essentially, it rotates us into the X basis (whereas we normally work in the Z basis). Take this as a hint and try to think of how we could make a measurement scheme which rotates us into the \"Bell basis.\"\n",
    "\n",
    "<div/>"
   ]
  },
  {
   "cell_type": "code",
   "execution_count": null,
   "id": "478806d3-c3d8-4f38-b12c-b8451a99dd31",
   "metadata": {},
   "outputs": [],
   "source": [
    "# helper function for Bell state preparation\n",
    "\n",
    "def prepare_bell_state(qc, name, qb1=0, qb2=1):\n",
    "\n",
    "    qc.h(qb1)\n",
    "    qc.cx(qb1, qb2)\n",
    "\n",
    "    if name in ['Phi_minus', 'Psi_minus']:\n",
    "        qc.z(qb2)\n",
    "    if name in ['Psi_plus', 'Psi_minus']:\n",
    "        qc.x(qb2)"
   ]
  },
  {
   "cell_type": "code",
   "execution_count": null,
   "id": "1b781a0a-a808-478d-ab35-0beeaf1d11ba",
   "metadata": {},
   "outputs": [],
   "source": [
    "q = QuantumRegister(2,'q')\n",
    "c = ClassicalRegister(2,'c')\n",
    "qc = QuantumCircuit(q, c, name=\"QSS3.0_bell_state_meas\")\n",
    "\n",
    "prepare_bell_state(qc, 'Psi_plus')\n",
    "\n",
    "## insert here\n",
    "\n",
    "qc.measure(q, c)\n",
    "\n",
    "job = backend.run(qc, shots=1024)\n",
    "job_monitor(job)\n",
    "result = job.result()\n",
    "counts = result.get_counts()\n",
    "plot_histogram(counts)"
   ]
  },
  {
   "cell_type": "markdown",
   "id": "93119daf-7b6b-4b0c-b505-a241f3185200",
   "metadata": {
    "jp-MarkdownHeadingCollapsed": true
   },
   "source": [
    "**Question:** What result do you get for the other three Bell states?"
   ]
  },
  {
   "cell_type": "code",
   "execution_count": null,
   "id": "6225614e-20a8-433d-a69a-326480073ca5",
   "metadata": {},
   "outputs": [],
   "source": [
    "##"
   ]
  },
  {
   "cell_type": "markdown",
   "id": "b1d6957d-32a5-44f7-b28b-7ebb4ac69a81",
   "metadata": {},
   "source": [
    "**Question:** Can you say anything about the relationship between the measurement result and the parity & phase of the Bell state?"
   ]
  },
  {
   "cell_type": "markdown",
   "id": "560ffd92",
   "metadata": {},
   "source": [
    "## 3. GHZ (Greenberger–Horne–Zeilinger) State"
   ]
  },
  {
   "cell_type": "markdown",
   "id": "229ed7b0-ebc5-4306-a412-d1b24a131d55",
   "metadata": {},
   "source": [
    "<div style=\"background-color:rgba(255, 245, 253, 1.0); text-align:left; vertical-align: middle; padding:20px 0;border:3px; border-style:solid; padding: 0.5em; border-color: rgba(255, 142, 235, 1.0); color: #000000;\">\n",
    "\n",
    "A GHZ state is an n-qubit maximally entangled state which takes the form:\n",
    "\n",
    "$$|\\text{GHZ}\\rangle = \\frac{1}{\\sqrt{2}}(|00\\cdots 0\\rangle + |11\\cdots 1\\rangle)$$\n",
    "\n",
    "**Quick Notation Note:** In the expression above, you can't tell how many 0s or 1s there are (i.e. how many qubits). We can use the following notation instead:\n",
    "\n",
    "$$|\\text{GHZ}\\rangle = \\frac{1}{\\sqrt{2}}(|0\\rangle^{\\otimes n} + |1\\rangle^{\\otimes n})$$\n",
    "\n",
    "The term $|0\\rangle^{\\otimes n} = |0\\rangle \\otimes  |0\\rangle \\cdots \\otimes  |0\\rangle $ tells us that we have an n-qubit space with all qubits in the  $|0\\rangle$ state. So we are in a superposition of all qubits being 0 or all qubits being 1.\n",
    "\n",
    "<div/>"
   ]
  },
  {
   "cell_type": "markdown",
   "id": "e3894940-9c46-4606-a22f-700f31ae35c5",
   "metadata": {},
   "source": [
    "Let's make the 3 qubit GHZ state. How would you do this? Hint: to make the 2-qubit GHZ state, which is $\\Phi^+\\rangle$, we needed a Hadamard to create superposition and a CNOT to entangle the qubits, so these same elements should appear here!"
   ]
  },
  {
   "cell_type": "code",
   "execution_count": null,
   "id": "80c2004f-8f63-4600-9eb9-77349da09de3",
   "metadata": {},
   "outputs": [],
   "source": [
    "n = 3\n",
    "q = qkQuantumRegister(n, 'q')\n",
    "qc = qkQuantumCircuit(q, \"QSS3.1_ghz\")\n",
    "\n",
    "## Make GHZ state here!\n",
    "\n",
    "display(qc.draw())\n",
    "\n",
    "sv = Statevector(qc)\n",
    "sv.draw('latex')"
   ]
  },
  {
   "cell_type": "markdown",
   "id": "c08aa743-b6bd-48fb-8300-2d51717a0ab3",
   "metadata": {},
   "source": [
    "Now try making a 4 qubit GHZ state."
   ]
  },
  {
   "cell_type": "code",
   "execution_count": null,
   "id": "06b0c231-d1d5-4430-aaff-32a27abc9a24",
   "metadata": {},
   "outputs": [],
   "source": [
    "### 4 qubit GHZ state"
   ]
  },
  {
   "cell_type": "markdown",
   "id": "67da62e6-f8be-4211-8ba3-b0c821e3ea3d",
   "metadata": {},
   "source": [
    "<div style=\"background-color:rgba(252, 245, 255, 1.0); text-align:left; vertical-align: middle; padding:20px 0;border:3px; border-style:solid; padding: 0.5em; border-color: rgba(190, 111, 227, 1.0); color: #000000;\">\n",
    "\n",
    "### Challenge Problem: \n",
    "\n",
    "Try to make the following states with your own quantum circuits! You can check your work by printing out the final state vector of the circuit (see the example below).\n",
    "1. $ \\frac{1}{\\sqrt{2}}( |0000\\rangle - |1111\\rangle )$\n",
    "2. $ \\frac{1}{\\sqrt{2}}( |0101\\rangle - |1010\\rangle )$\n",
    "3. $ \\frac{1}{2}( |00\\rangle + |01\\rangle + |10\\rangle + |11\\rangle )$\n",
    "4. $ \\frac{1}{2}( |0000\\rangle + |0101\\rangle + |1010\\rangle + |1111\\rangle )$\n",
    "\n",
    "Also, which of the four examples above are entangled states? \n",
    "\n",
    "<div/>"
   ]
  },
  {
   "cell_type": "code",
   "execution_count": null,
   "id": "6cdf5bbd-9038-4735-9938-12036443d23a",
   "metadata": {},
   "outputs": [],
   "source": [
    "# An example circuit where we do nothing so we stay in the all zero state\n",
    "\n",
    "num_qubits = 3\n",
    "q = qkQuantumRegister(num_qubits, 'q')\n",
    "qc = qkQuantumCircuit(q)\n",
    "\n",
    "sv = Statevector(qc)\n",
    "sv.draw('latex')"
   ]
  },
  {
   "cell_type": "code",
   "execution_count": null,
   "id": "7446a149-3969-4672-b73c-0be3d6ba6779",
   "metadata": {},
   "outputs": [],
   "source": [
    "### Your code here!"
   ]
  },
  {
   "cell_type": "markdown",
   "id": "7596e777-be73-4c33-931c-08428ee9966a",
   "metadata": {},
   "source": [
    "## 4. Quantum State Teleportation"
   ]
  },
  {
   "cell_type": "markdown",
   "id": "1e21bfe5-698e-45bb-9750-d562e1544ea4",
   "metadata": {},
   "source": [
    "Quantum state teleportation is an elementary protocol in quantum computing that allows one party to send another a quantum state **without actually sending a qubit**. All it requires is that the parties share a Bell pair (maximally entangled state) and that the sender can locally perform two-qubit gates and send the recipient classical information (i.e. give them a call or send a text).\n",
    "\n",
    "<div style=\"background-color:rgba(243, 248, 255, 1.0); text-align:left; vertical-align: middle; padding:20px 0;border:3px; border-style:solid; padding: 0.5em; border-color: rgba(101, 174, 247, 1.0); color: #000000;\">\n",
    "\n",
    "<h4><strong>The Idea Behind Quantum Teleportation</strong></h4>\n",
    "\n",
    "Note that the name quantum teleportation is a bit misleading, since nothing physical is being transported. A more precise name would be quantum *information* teleportation. The protocol is as follows:\n",
    "\n",
    "1. Alice and Bob each receive one qubit of a Bell pair. \n",
    "2. Alice wants to transfer a qubit $\\ket{\\phi}_A=\\alpha\\ket{0}+\\beta\\ket{1}$ to Bob. In other words, Bob should end up with qubit\n",
    "    $$\n",
    "        \\ket{\\phi}_B=\\alpha\\ket{0}+\\beta\\ket{1} \\nonumber\n",
    "    $$\n",
    "3. Because Alice has two qubits, she can perform a *Bell measurement* on them.\n",
    "4. Alice sends Bob the result of her measurement over a classical channel.\n",
    "5. Bob manipulates his state based on Alice's result, applying an X gate and/or a Z gate.\n",
    "6. Tada! Bob has the state $\\ket{\\phi}_A=\\alpha\\ket{0}+\\beta\\ket{1}$.\n",
    "\n",
    "The circuit for the procotol can be expressed as:\n",
    "\n",
    "<img src=\"figs/quantum_tele_circuit.png\" width=\"800\"/>\n",
    "\n",
    "**Note:** the double lines coming from Alice's measurement results to Bob's gates indicate controlled measurements. If $m_0 = 1$, Bob should apply an X gate, and if $m_1 = 1$, he should apply a Z gate. \n",
    "\n",
    "We summarize the four possible Bell state measurement results for Alice and Bob's required manipulations in the following table:\n",
    "\n",
    "| Alice's Result &nbsp; &nbsp; &nbsp; &nbsp; &nbsp; &nbsp; &nbsp; &nbsp; &nbsp; &nbsp; | Bob's state &nbsp; &nbsp; &nbsp; &nbsp; &nbsp; &nbsp; &nbsp; &nbsp; &nbsp; &nbsp; | Bob's state (in terms of $\\ket{\\phi}$) &nbsp; &nbsp; &nbsp; &nbsp; &nbsp; &nbsp; &nbsp; &nbsp; &nbsp; &nbsp; | Bob applies &nbsp; &nbsp; &nbsp; &nbsp; &nbsp; &nbsp; &nbsp; &nbsp; &nbsp; &nbsp; |\n",
    "| :-------------------------------- | :-------------------------------- | :-------------------------------- |:-------------------------------- |\n",
    " |$\\ket{\\Phi^+} ~~~ (00)$ | $\\alpha \\ket{0} + \\beta \\ket{1} $ | $\\ket{\\psi}$ | $\\mathbb{1}$ |\n",
    " |$\\ket{\\Psi^+} ~~ (01)$ | $\\alpha \\ket{1} + \\beta \\ket{0} $ | $X\\ket{\\psi}$ | $X$ | \n",
    " |$\\ket{\\Phi^-} ~~ (10)$ | $\\alpha \\ket{0} - \\beta \\ket{1} $ | $Z\\ket{\\psi}$ | $Z$ |\n",
    " |$\\ket{\\Psi^-} ~~ (11)$ | $\\alpha \\ket{1} - \\beta \\ket{0} $ | $XZ\\ket{\\psi}$ | $ZX$ |\n",
    "\n",
    "Of course, Alice could simply physically send a $\\ket{\\phi}$ encoded qubit to Bob. The key is that with quantum teleportation, Alice never even has to do that! Instead, Alice only needs to transmit classical information to Bob (which unfortunately, does limit the communication to the speed of light, *as required by the laws of nature*).\n",
    "\n",
    "</div>"
   ]
  },
  {
   "cell_type": "code",
   "execution_count": null,
   "id": "7a9674d1-2cbb-4d67-a88f-f81896a5a8d1",
   "metadata": {},
   "outputs": [],
   "source": [
    "a = QuantumRegister(2, 'A')\n",
    "c = ClassicalRegister(2, 'C')\n",
    "b = QuantumRegister(1, 'B')\n",
    "qc = QuantumCircuit(a,b,c, name=\"QSS3.2_teleport\")\n",
    "\n",
    "# Prepare Alice's state to teleport\n",
    "\n",
    "qc.barrier()\n",
    "\n",
    "# Prepare Alice and Bob's Bell State\n",
    "\n",
    "qc.barrier()\n",
    "\n",
    "# Alice performs Bell state measurement\n",
    "\n",
    "qc.barrier()\n",
    "\n",
    "# Bob manipulates state based on Alice's measurement\n",
    "\n",
    "display(qc.draw('mpl'))\n",
    "job = backend.run(qc, shots=1)\n",
    "job_monitor(job)\n",
    "result = job.result()\n",
    "\n",
    "counts = result.get_counts()\n",
    "\n",
    "# print the measurement result (only one shot, so get the key from the counts dictionary)\n",
    "print(\"Alice's result:\", next(iter(counts.keys())))"
   ]
  },
  {
   "cell_type": "code",
   "execution_count": null,
   "id": "7b28ba37-9c06-445f-b422-fe5f409c914e",
   "metadata": {},
   "outputs": [],
   "source": [
    "## Full protocol with Bob measuring\n",
    "\n",
    "a = QuantumRegister(2, 'A')\n",
    "c_a = ClassicalRegister(2, 'CA')\n",
    "b = QuantumRegister(1, 'B')\n",
    "c_b = ClassicalRegister(1, 'CB')\n",
    "qc = QuantumCircuit(a,b,c_a,c_b)\n",
    "\n",
    "## Prepare Alice's state\n",
    "\n",
    "qc.barrier()\n",
    "\n",
    "prepare_bell_state(qc, 'Phi_plus', qb1=a[1], qb2=b[0])\n",
    "\n",
    "qc.barrier()\n",
    "\n",
    "qc.cx(a[0],a[1])\n",
    "qc.h(a[0])\n",
    "qc.measure(a,c_a)\n",
    "\n",
    "qc.barrier()\n",
    "\n",
    "qc.cx(a[1],b[0])\n",
    "qc.cz(a[0],b[0])\n",
    "\n",
    "qc.measure(b,c_b)\n",
    "\n",
    "display(qc.draw('mpl'))\n",
    "job = backend.run(qc, shots=1000)\n",
    "job_monitor(job)\n",
    "result = job.result()\n",
    "counts = result.get_counts()\n",
    "plot_histogram(counts)\n",
    "\n",
    "## NOTE: the ordering of bits is first measured on the right and last measured on the left!"
   ]
  },
  {
   "cell_type": "markdown",
   "id": "7e92dd8e-ebc0-4c99-9cd3-676e54e2bd10",
   "metadata": {},
   "source": [
    "<div style=\"background-color:rgba(252, 245, 255, 1.0); text-align:left; vertical-align: middle; padding:20px 0;border:3px; border-style:solid; padding: 0.5em; border-color: rgba(190, 111, 227, 1.0); color: #000000;\">\n",
    "\n",
    "### Challenge Problem: \n",
    "\n",
    "Play around with Alice's initial state, using all the gates we learned from last week! Make sure Bob \"undos\" Alice's operations at the end and check if the state teleportation really worked.\n",
    "\n",
    "Example: If Alice prepares the state $|+i\\rangle$, you could apply an S gate and Hadamard, and then Bob should always measure 1.\n",
    "\n",
    "<div/>"
   ]
  },
  {
   "cell_type": "markdown",
   "id": "56596a1b",
   "metadata": {},
   "source": [
    "## Conclusion & Preview\n",
    "Today we introduced the CNOT gate and entanglement. Next episode will build on conditional quantum logic, exploring classical–quantum interactions in circuit design."
   ]
  }
 ],
 "metadata": {
  "kernelspec": {
   "display_name": "Python 3 QuantumRings",
   "language": "python",
   "name": "python3_quantu_8bt6c1"
  },
  "language_info": {
   "codemirror_mode": {
    "name": "ipython",
    "version": 3
   },
   "file_extension": ".py",
   "mimetype": "text/x-python",
   "name": "python",
   "nbconvert_exporter": "python",
   "pygments_lexer": "ipython3",
   "version": "3.11.9"
  }
 },
 "nbformat": 4,
 "nbformat_minor": 5
}
