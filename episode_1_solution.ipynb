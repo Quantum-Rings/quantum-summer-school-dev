{
 "cells": [
  {
   "cell_type": "markdown",
   "id": "c61e8a50-4f05-48ef-924c-38a48b3eee65",
   "metadata": {},
   "source": [
    "# Episode 1: Math Section Solutions\n",
    "\n",
    "*A resource to check your work!*"
   ]
  },
  {
   "cell_type": "markdown",
   "id": "b2bd690d-8a14-4b54-a24f-ee7a9bf72573",
   "metadata": {},
   "source": [
    "### Dirac Notation"
   ]
  },
  {
   "cell_type": "markdown",
   "id": "b09d74a2-4e84-4f68-a3f3-92f3f4de9659",
   "metadata": {},
   "source": [
    "**A)** Write-out the following vectors using Dirac notation. If they are not normalized, normalize them.\n",
    "1. $\\begin{pmatrix}1 \\\\ 0\\end{pmatrix} = |0\\rangle$\n",
    "2. $\\begin{pmatrix}0 \\\\ 1\\end{pmatrix} = |1\\rangle$\n",
    "3. $\\begin{pmatrix}\\frac{1}{\\sqrt{2}} \\\\ \\frac{1}{\\sqrt{2}}\\end{pmatrix} = \\frac{1}{\\sqrt{2}}(|0\\rangle+|1\\rangle)$\n",
    "4. $\\begin{pmatrix}\\frac{1}{\\sqrt{2}} \\\\ -\\frac{1}{\\sqrt{2}}\\end{pmatrix} = \\frac{1}{\\sqrt{2}}(|0\\rangle-|1\\rangle)$\n",
    "5. $\\begin{pmatrix} 3 \\\\ 7 \\end{pmatrix} = \\frac{1}{\\sqrt{58}}(|3\\rangle+|7\\rangle)$\n",
    "6. $\\begin{pmatrix} 2 \\\\ -3 \\end{pmatrix} = \\frac{1}{\\sqrt{13}}(|2\\rangle-|3\\rangle)$\n",
    "7. $\\begin{pmatrix} 1 \\\\ e^{-i \\frac{\\pi}{2}} \\end{pmatrix} = \\frac{1}{\\sqrt{2}}(|1\\rangle+|e^{-i \\frac{\\pi}{2}}\\rangle)$ \n",
    "\n",
    "\n",
    "**B)** Write-out the following states using vector notation. \n",
    "1. $|+\\rangle = \\begin{pmatrix}\\frac{1}{\\sqrt{2}} \\\\ \\frac{1}{\\sqrt{2}}\\end{pmatrix} $\n",
    "2. $|-\\rangle = \\begin{pmatrix}\\frac{1}{\\sqrt{2}} \\\\ -\\frac{1}{\\sqrt{2}}\\end{pmatrix} $\n",
    "3.  $\\frac{1}{\\sqrt{2}}(|+\\rangle- |-\\rangle) = \\frac{1}{\\sqrt{2}}\\bigg(\\begin{pmatrix}\\frac{1}{\\sqrt{2}} \\\\ \\frac{1}{\\sqrt{2}}\\end{pmatrix} - \\begin{pmatrix}\\frac{1}{\\sqrt{2}} \\\\ -\\frac{1}{\\sqrt{2}}\\end{pmatrix}\\bigg) \n",
    " = \\begin{pmatrix}0\\\\ 1\\end{pmatrix} $\n",
    "4.   $\\frac{1}{\\sqrt{2}}(|1\\rangle + |-\\rangle) = \\frac{1}{\\sqrt{2}} \\begin{pmatrix}1+\\frac{1}{\\sqrt{2}}\\\\ - \\frac{1}{\\sqrt{2}}\\end{pmatrix}$\n",
    "\n",
    "Note that number 4 is not normalized. Adding together two states in a superposition will not necessarily be normalized."
   ]
  },
  {
   "cell_type": "markdown",
   "id": "3fd03220-1982-4565-bb8e-741e0139325a",
   "metadata": {},
   "source": [
    "### Inner Products\n",
    "\n",
    "Compute the following inner products. Let $|\\psi\\rangle = \\alpha|0\\rangle+\\beta|1\\rangle$ and $|\\phi\\rangle = \\gamma|0\\rangle+\\delta|1\\rangle$.\n",
    "\n",
    "1. $\\langle 0|+ \\rangle =  \\frac{1}{\\sqrt{2}}$\n",
    "2.  $\\langle -|+ \\rangle = 0$\n",
    "3.   $\\langle 0|\\psi \\rangle = \\alpha$\n",
    "4.    $\\langle \\phi|\\psi \\rangle = \\gamma^* \\alpha + \\delta^* \\beta$"
   ]
  },
  {
   "cell_type": "markdown",
   "id": "81a8c720-e6f1-4750-8bb6-d54d786f0226",
   "metadata": {},
   "source": [
    "### Outer Products \n",
    "\n",
    "Compute the following outer products. Let $|\\psi\\rangle = \\alpha|0\\rangle+\\beta|1\\rangle$ and $|\\phi\\rangle = \\gamma|0\\rangle+\\delta|1\\rangle$.\n",
    "\n",
    "1. $|0\\rangle \\langle 0 | = \\begin{pmatrix}1 & 0 \\\\ 0 & 0 \\end{pmatrix}$\n",
    "2. $|1\\rangle \\langle + | \\begin{pmatrix}0 & 0 \\\\ \\frac{1}{\\sqrt{2}} & -\\frac{1}{\\sqrt{2}} \\end{pmatrix}$\n",
    "3. $|0\\rangle \\langle \\psi | = \\begin{pmatrix}\\alpha^* & \\beta^* \\\\ 0 & 0 \\end{pmatrix}$\n",
    "4. $|\\phi\\rangle \\langle \\psi | \\begin{pmatrix}\\gamma\\alpha^* & \\gamma\\beta^* \\\\ \\delta \\alpha^* & \\delta\\beta^* \\end{pmatrix}$"
   ]
  },
  {
   "cell_type": "markdown",
   "id": "e1522a68-366d-4306-92c4-6d1525e4171b",
   "metadata": {},
   "source": [
    "### Unitary and Hermitian Matrices\n",
    "\n",
    "A unitary matrix $U$ satisfies $UU^{\\dagger} = U^{\\dagger} U = \\mathbb{1}$, or in other words, $U^\\dagger = U^{-1}$. A unitary matrix preserves the norm (length) of a vector. A Hermitian matrix $A$ satisfies $A^\\dagger = A$.\n",
    "\n",
    "For each of the following matrices, say whether or not they are Hermitian, and then check by matrix multiplication if they are unitary.\n",
    "1. $\\begin{pmatrix}1 & 0\\\\0 & -1\\end{pmatrix}$ is unitary and Hermitian.\n",
    "2. $\\begin{pmatrix}0 & i\\\\-i & 0\\end{pmatrix}$ is unitary and Hermitian.\n",
    "3. $\\begin{pmatrix}1 & -i\\\\i & 1\\end{pmatrix}$  is Hermitian, but not unitary.\n",
    "4. $\\begin{pmatrix}\\cos(\\theta) & \\sin(\\theta)\\\\ -\\sin(\\theta) & \\cos(\\theta)\\end{pmatrix}$ is unitary but not Hermitian."
   ]
  },
  {
   "cell_type": "markdown",
   "id": "475967d0-6122-4740-844f-f6b567ef0c16",
   "metadata": {},
   "source": [
    "### Sneak Preview: Hadamard gate\n",
    "\n",
    "The following matrix is called the Hadamard gate: $H=\\tfrac{1}{\\sqrt{2}}\\begin{pmatrix}1 & 1\\\\1 & -1\\end{pmatrix}$  Recall that a gate is just an operator which maps one quantum state to another quantum state. In the language of linear algebra, it is just a matrix multiplication.\n",
    "\n",
    "Let's see how $H$ acts on our states. Compute the following:\n",
    "1. $H|0\\rangle = |+\\rangle$\n",
    "2. $H|1\\rangle = |-\\rangle$\n",
    "3. $H|+\\rangle = |0\\rangle$\n",
    "4. $H|-\\rangle = |1\\rangle$\n",
    "\n",
    "What can you say about the action of the Hadamard gate? It flips $|0\\rangle$ to $|+\\rangle$ and $|1\\rangle$ to $ |-\\rangle$ and vice versa. It allows us to create equal superposition states easily!"
   ]
  }
 ],
 "metadata": {
  "kernelspec": {
   "display_name": "Python 3 QuantumRings",
   "language": "python",
   "name": "python3_quantu_8bt6c1"
  },
  "language_info": {
   "codemirror_mode": {
    "name": "ipython",
    "version": 3
   },
   "file_extension": ".py",
   "mimetype": "text/x-python",
   "name": "python",
   "nbconvert_exporter": "python",
   "pygments_lexer": "ipython3",
   "version": "3.11.9"
  }
 },
 "nbformat": 4,
 "nbformat_minor": 5
}
